{
 "cells": [
  {
   "cell_type": "code",
   "execution_count": 1,
   "metadata": {},
   "outputs": [],
   "source": [
    "import pandas as pd\n",
    "import numpy as np\n",
    "import nltk\n",
    "from nltk import word_tokenize\n",
    "from nltk.corpus import stopwords\n",
    "%matplotlib inline\n",
    "import matplotlib.pyplot as plt\n",
    "plt.rcParams[\"figure.figsize\"] = [18.0, 8.0]\n",
    "import re\n",
    "import string"
   ]
  },
  {
   "cell_type": "code",
   "execution_count": 2,
   "metadata": {},
   "outputs": [],
   "source": [
    "speeches = pd.read_pickle('A:\\\\Data Analysis Jupyter\\\\Campaign-Analytics\\\\Code\\\\Cleaning and Wrangling\\\\speeches.pkl')"
   ]
  },
  {
   "cell_type": "code",
   "execution_count": 3,
   "metadata": {},
   "outputs": [
    {
     "data": {
      "text/html": [
       "<div>\n",
       "<style scoped>\n",
       "    .dataframe tbody tr th:only-of-type {\n",
       "        vertical-align: middle;\n",
       "    }\n",
       "\n",
       "    .dataframe tbody tr th {\n",
       "        vertical-align: top;\n",
       "    }\n",
       "\n",
       "    .dataframe thead th {\n",
       "        text-align: right;\n",
       "    }\n",
       "</style>\n",
       "<table border=\"1\" class=\"dataframe\">\n",
       "  <thead>\n",
       "    <tr style=\"text-align: right;\">\n",
       "      <th></th>\n",
       "      <th>Year</th>\n",
       "      <th>Month</th>\n",
       "      <th>Day</th>\n",
       "      <th>Title</th>\n",
       "      <th>Speech</th>\n",
       "      <th>Date</th>\n",
       "      <th>no_punct</th>\n",
       "      <th>tokens</th>\n",
       "      <th>no_stopwords</th>\n",
       "      <th>nltk_Text</th>\n",
       "    </tr>\n",
       "  </thead>\n",
       "  <tbody>\n",
       "    <tr>\n",
       "      <th>0</th>\n",
       "      <td>2010</td>\n",
       "      <td>10</td>\n",
       "      <td>29</td>\n",
       "      <td>2018\\29_10_2010_PM’s address at Indian Communi...</td>\n",
       "      <td>Hello!A country like Japan, this atmosphere of...</td>\n",
       "      <td>2010-10-29</td>\n",
       "      <td>helloa country like japan this atmosphere of t...</td>\n",
       "      <td>[helloa, country, like, japan, this, atmospher...</td>\n",
       "      <td>[helloa, country, like, japan, atmosphere, aik...</td>\n",
       "      <td>(helloa, country, like, japan, atmosphere, aik...</td>\n",
       "    </tr>\n",
       "    <tr>\n",
       "      <th>1</th>\n",
       "      <td>2014</td>\n",
       "      <td>10</td>\n",
       "      <td>2</td>\n",
       "      <td>2014\\1_02_Oct_2014_Text_of_PMs_address_during_...</td>\n",
       "      <td>à¤­à¤¾à¤°à¤¤ à¤®à¤¾à¤¤à¤¾ à¤à¥ à¤à¤¯!à¤®à¤¹...</td>\n",
       "      <td>2014-10-02</td>\n",
       "      <td>à¤­à¤¾à¤°à¤¤ à¤®à¤¾à¤¤à¤¾ à¤à¥ à¤à¤¯à¤®à¤¹à...</td>\n",
       "      <td>[à¤­à¤¾à¤°à¤¤, à¤®à¤¾à¤¤à¤¾, à¤à¥, à¤à¤¯à¤®...</td>\n",
       "      <td>[à¤­à¤¾à¤°à¤¤, à¤®à¤¾à¤¤à¤¾, à¤à¥, à¤à¤¯à¤®...</td>\n",
       "      <td>(à¤­à¤¾à¤°à¤¤, à¤®à¤¾à¤¤à¤¾, à¤à¥, à¤à¤¯à¤®...</td>\n",
       "    </tr>\n",
       "    <tr>\n",
       "      <th>2</th>\n",
       "      <td>2014</td>\n",
       "      <td>10</td>\n",
       "      <td>3</td>\n",
       "      <td>2014\\2_03_Oct_2014_Text_of_PMs_first_Mann_ki_B...</td>\n",
       "      <td>à¤®à¥à¤°à¥ à¤ªà¥à¤¯à¤¾à¤°à¥ à¤¦à¥à¤¶à¤µà¤...</td>\n",
       "      <td>2014-10-03</td>\n",
       "      <td>à¤®à¥à¤°à¥ à¤ªà¥à¤¯à¤¾à¤°à¥ à¤¦à¥à¤¶à¤µà¤...</td>\n",
       "      <td>[à¤®à¥à¤°à¥, à¤ªà¥à¤¯à¤¾à¤°à¥, à¤¦à¥à¤¶à¤...</td>\n",
       "      <td>[à¤®à¥à¤°à¥, à¤ªà¥à¤¯à¤¾à¤°à¥, à¤¦à¥à¤¶à¤...</td>\n",
       "      <td>(à¤®à¥à¤°à¥, à¤ªà¥à¤¯à¤¾à¤°à¥, à¤¦à¥à¤¶à¤...</td>\n",
       "    </tr>\n",
       "    <tr>\n",
       "      <th>3</th>\n",
       "      <td>2014</td>\n",
       "      <td>10</td>\n",
       "      <td>3</td>\n",
       "      <td>2014\\3_03_Oct_2014_English_rendering_of_text_o...</td>\n",
       "      <td>My Dear Countrymen,Today is the holy festival ...</td>\n",
       "      <td>2014-10-03</td>\n",
       "      <td>my dear countrymentoday is the holy festival o...</td>\n",
       "      <td>[my, dear, countrymentoday, is, the, holy, fes...</td>\n",
       "      <td>[dear, countrymentoday, holy, festival, vijay,...</td>\n",
       "      <td>(dear, countrymentoday, holy, festival, vijay,...</td>\n",
       "    </tr>\n",
       "    <tr>\n",
       "      <th>4</th>\n",
       "      <td>2014</td>\n",
       "      <td>10</td>\n",
       "      <td>11</td>\n",
       "      <td>2014\\6_11_Oct_2014_PMs_remarks_at_the_launch_o...</td>\n",
       "      <td>Prime Minister, Shri Narendra Modi, today laun...</td>\n",
       "      <td>2014-10-11</td>\n",
       "      <td>prime minister shri narendra modi today launch...</td>\n",
       "      <td>[prime, minister, shri, narendra, modi, today,...</td>\n",
       "      <td>[prime, minister, shri, narendra, modi, today,...</td>\n",
       "      <td>(prime, minister, shri, narendra, modi, today,...</td>\n",
       "    </tr>\n",
       "  </tbody>\n",
       "</table>\n",
       "</div>"
      ],
      "text/plain": [
       "   Year  Month  Day                                              Title  \\\n",
       "0  2010     10   29  2018\\29_10_2010_PM’s address at Indian Communi...   \n",
       "1  2014     10    2  2014\\1_02_Oct_2014_Text_of_PMs_address_during_...   \n",
       "2  2014     10    3  2014\\2_03_Oct_2014_Text_of_PMs_first_Mann_ki_B...   \n",
       "3  2014     10    3  2014\\3_03_Oct_2014_English_rendering_of_text_o...   \n",
       "4  2014     10   11  2014\\6_11_Oct_2014_PMs_remarks_at_the_launch_o...   \n",
       "\n",
       "                                              Speech       Date  \\\n",
       "0  Hello!A country like Japan, this atmosphere of... 2010-10-29   \n",
       "1  à¤­à¤¾à¤°à¤¤ à¤®à¤¾à¤¤à¤¾ à¤à¥ à¤à¤¯!à¤®à¤¹... 2014-10-02   \n",
       "2  à¤®à¥à¤°à¥ à¤ªà¥à¤¯à¤¾à¤°à¥ à¤¦à¥à¤¶à¤µà¤... 2014-10-03   \n",
       "3  My Dear Countrymen,Today is the holy festival ... 2014-10-03   \n",
       "4  Prime Minister, Shri Narendra Modi, today laun... 2014-10-11   \n",
       "\n",
       "                                            no_punct  \\\n",
       "0  helloa country like japan this atmosphere of t...   \n",
       "1  à¤­à¤¾à¤°à¤¤ à¤®à¤¾à¤¤à¤¾ à¤à¥ à¤à¤¯à¤®à¤¹à...   \n",
       "2  à¤®à¥à¤°à¥ à¤ªà¥à¤¯à¤¾à¤°à¥ à¤¦à¥à¤¶à¤µà¤...   \n",
       "3  my dear countrymentoday is the holy festival o...   \n",
       "4  prime minister shri narendra modi today launch...   \n",
       "\n",
       "                                              tokens  \\\n",
       "0  [helloa, country, like, japan, this, atmospher...   \n",
       "1  [à¤­à¤¾à¤°à¤¤, à¤®à¤¾à¤¤à¤¾, à¤à¥, à¤à¤¯à¤®...   \n",
       "2  [à¤®à¥à¤°à¥, à¤ªà¥à¤¯à¤¾à¤°à¥, à¤¦à¥à¤¶à¤...   \n",
       "3  [my, dear, countrymentoday, is, the, holy, fes...   \n",
       "4  [prime, minister, shri, narendra, modi, today,...   \n",
       "\n",
       "                                        no_stopwords  \\\n",
       "0  [helloa, country, like, japan, atmosphere, aik...   \n",
       "1  [à¤­à¤¾à¤°à¤¤, à¤®à¤¾à¤¤à¤¾, à¤à¥, à¤à¤¯à¤®...   \n",
       "2  [à¤®à¥à¤°à¥, à¤ªà¥à¤¯à¤¾à¤°à¥, à¤¦à¥à¤¶à¤...   \n",
       "3  [dear, countrymentoday, holy, festival, vijay,...   \n",
       "4  [prime, minister, shri, narendra, modi, today,...   \n",
       "\n",
       "                                           nltk_Text  \n",
       "0  (helloa, country, like, japan, atmosphere, aik...  \n",
       "1  (à¤­à¤¾à¤°à¤¤, à¤®à¤¾à¤¤à¤¾, à¤à¥, à¤à¤¯à¤®...  \n",
       "2  (à¤®à¥à¤°à¥, à¤ªà¥à¤¯à¤¾à¤°à¥, à¤¦à¥à¤¶à¤...  \n",
       "3  (dear, countrymentoday, holy, festival, vijay,...  \n",
       "4  (prime, minister, shri, narendra, modi, today,...  "
      ]
     },
     "execution_count": 3,
     "metadata": {},
     "output_type": "execute_result"
    }
   ],
   "source": [
    "speeches.head()"
   ]
  },
  {
   "cell_type": "markdown",
   "metadata": {},
   "source": [
    "## Number of available speeches"
   ]
  },
  {
   "cell_type": "code",
   "execution_count": 4,
   "metadata": {},
   "outputs": [
    {
     "data": {
      "text/plain": [
       "522"
      ]
     },
     "execution_count": 4,
     "metadata": {},
     "output_type": "execute_result"
    }
   ],
   "source": [
    "len(speeches)"
   ]
  },
  {
   "cell_type": "markdown",
   "metadata": {},
   "source": [
    "## Number of days in which at least one speech was given."
   ]
  },
  {
   "cell_type": "code",
   "execution_count": 5,
   "metadata": {},
   "outputs": [
    {
     "data": {
      "text/plain": [
       "385"
      ]
     },
     "execution_count": 5,
     "metadata": {},
     "output_type": "execute_result"
    }
   ],
   "source": [
    "len(speeches.Date.unique())"
   ]
  },
  {
   "cell_type": "markdown",
   "metadata": {},
   "source": [
    "## Maximum number of speeches in a day \n"
   ]
  },
  {
   "cell_type": "code",
   "execution_count": 6,
   "metadata": {},
   "outputs": [
    {
     "data": {
      "text/plain": [
       "2015-11-12    4\n",
       "2015-05-15    4\n",
       "2018-10-21    4\n",
       "2016-11-11    3\n",
       "2016-07-11    3\n",
       "2015-05-16    3\n",
       "2017-05-12    3\n",
       "2016-04-24    3\n",
       "2016-11-13    3\n",
       "2016-10-31    3\n",
       "2016-03-12    3\n",
       "2016-05-23    3\n",
       "2015-05-17    3\n",
       "2017-01-09    3\n",
       "2016-02-21    3\n",
       "2017-03-07    3\n",
       "2015-06-28    3\n",
       "2016-07-10    3\n",
       "2015-07-09    3\n",
       "2015-02-14    2\n",
       "2014-11-30    2\n",
       "2014-11-16    2\n",
       "2019-02-17    2\n",
       "2018-06-21    2\n",
       "2017-06-24    2\n",
       "2019-02-24    2\n",
       "2015-05-31    2\n",
       "2018-06-22    2\n",
       "2017-04-08    2\n",
       "2015-06-07    2\n",
       "             ..\n",
       "2017-01-11    1\n",
       "2016-10-11    1\n",
       "2017-01-07    1\n",
       "2015-12-29    1\n",
       "2016-03-03    1\n",
       "2016-11-12    1\n",
       "2015-03-14    1\n",
       "2015-01-11    1\n",
       "2018-06-15    1\n",
       "2017-02-21    1\n",
       "2015-10-31    1\n",
       "2017-06-01    1\n",
       "2018-09-26    1\n",
       "2016-06-07    1\n",
       "2016-08-08    1\n",
       "2016-12-10    1\n",
       "2015-12-21    1\n",
       "2017-04-13    1\n",
       "2017-08-15    1\n",
       "2015-05-04    1\n",
       "2016-10-26    1\n",
       "2015-09-05    1\n",
       "2015-11-06    1\n",
       "2017-04-28    1\n",
       "2016-01-16    1\n",
       "2016-03-09    1\n",
       "2017-07-01    1\n",
       "2016-12-25    1\n",
       "2015-09-03    1\n",
       "2019-02-21    1\n",
       "Name: Date, Length: 385, dtype: int64"
      ]
     },
     "execution_count": 6,
     "metadata": {},
     "output_type": "execute_result"
    }
   ],
   "source": [
    "speeches['Date'].value_counts()"
   ]
  },
  {
   "cell_type": "code",
   "execution_count": 8,
   "metadata": {},
   "outputs": [
    {
     "data": {
      "image/png": "[encoded data removed]",
      "text/plain": [
       "<Figure size 432x288 with 1 Axes>"
      ]
     },
     "metadata": {},
     "output_type": "display_data"
    }
   ],
   "source": [
    "by_date = speeches['Date'].value_counts()\n",
    "plt.style.use('ggplot')\n",
    "by_date.plot.hist(bins=range(1,9), align='left')\n",
    "plt.xticks(range(1,8))\n",
    "plt.xlim(0.5, 6.5)\n",
    "plt.title(\"Number of speeches per day\", fontdict={'fontsize': 20})\n",
    "plt.ylabel(\"Number of speeches\", fontdict={'fontsize': 14})\n",
    "plt.xlabel(\"Speeches per day\", fontdict={'fontsize': 14});"
   ]
  }
 ],
 "metadata": {
  "kernelspec": {
   "display_name": "Python 3",
   "language": "python",
   "name": "python3"
  },
  "language_info": {
   "codemirror_mode": {
    "name": "ipython",
    "version": 3
   },
   "file_extension": ".py",
   "mimetype": "text/x-python",
   "name": "python",
   "nbconvert_exporter": "python",
   "pygments_lexer": "ipython3",
   "version": "3.7.0"
  }
 },
 "nbformat": 4,
 "nbformat_minor": 2
}
