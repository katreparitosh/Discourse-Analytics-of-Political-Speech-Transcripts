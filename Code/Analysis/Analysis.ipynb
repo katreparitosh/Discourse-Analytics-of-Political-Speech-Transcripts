{
 "cells": [
  {
   "cell_type": "code",
   "execution_count": 1,
   "metadata": {},
   "outputs": [],
   "source": [
    "import pandas as pd\n",
    "import numpy as np\n",
    "import nltk\n",
    "from nltk import word_tokenize\n",
    "from nltk.corpus import stopwords\n",
    "%matplotlib inline\n",
    "import matplotlib.pyplot as plt\n",
    "import re\n",
    "import string\n",
    "from pylab import rcParams\n",
    "rcParams['figure.figsize'] = 15, 8"
   ]
  },
  {
   "cell_type": "code",
   "execution_count": 2,
   "metadata": {},
   "outputs": [],
   "source": [
    "speeches = pd.read_pickle('A:\\\\Data Analysis Jupyter\\\\Campaign-Analytics\\\\Code\\\\Cleaning and Wrangling\\\\speeches.pkl')"
   ]
  },
  {
   "cell_type": "code",
   "execution_count": 3,
   "metadata": {},
   "outputs": [
    {
     "data": {
      "text/html": [
       "<div>\n",
       "<style scoped>\n",
       "    .dataframe tbody tr th:only-of-type {\n",
       "        vertical-align: middle;\n",
       "    }\n",
       "\n",
       "    .dataframe tbody tr th {\n",
       "        vertical-align: top;\n",
       "    }\n",
       "\n",
       "    .dataframe thead th {\n",
       "        text-align: right;\n",
       "    }\n",
       "</style>\n",
       "<table border=\"1\" class=\"dataframe\">\n",
       "  <thead>\n",
       "    <tr style=\"text-align: right;\">\n",
       "      <th></th>\n",
       "      <th>Year</th>\n",
       "      <th>Month</th>\n",
       "      <th>Day</th>\n",
       "      <th>Title</th>\n",
       "      <th>Speech</th>\n",
       "      <th>Date</th>\n",
       "      <th>no_punct</th>\n",
       "      <th>tokens</th>\n",
       "      <th>no_stopwords</th>\n",
       "      <th>nltk_Text</th>\n",
       "    </tr>\n",
       "  </thead>\n",
       "  <tbody>\n",
       "    <tr>\n",
       "      <th>0</th>\n",
       "      <td>2010</td>\n",
       "      <td>10</td>\n",
       "      <td>29</td>\n",
       "      <td>2018\\29_10_2010_PM’s address at Indian Communi...</td>\n",
       "      <td>Hello!A country like Japan, this atmosphere of...</td>\n",
       "      <td>2010-10-29</td>\n",
       "      <td>helloa country like japan this atmosphere of t...</td>\n",
       "      <td>[helloa, country, like, japan, this, atmospher...</td>\n",
       "      <td>[helloa, country, like, japan, atmosphere, aik...</td>\n",
       "      <td>(helloa, country, like, japan, atmosphere, aik...</td>\n",
       "    </tr>\n",
       "    <tr>\n",
       "      <th>1</th>\n",
       "      <td>2014</td>\n",
       "      <td>10</td>\n",
       "      <td>2</td>\n",
       "      <td>2014\\1_02_Oct_2014_Text_of_PMs_address_during_...</td>\n",
       "      <td>à¤­à¤¾à¤°à¤¤ à¤®à¤¾à¤¤à¤¾ à¤à¥ à¤à¤¯!à¤®à¤¹...</td>\n",
       "      <td>2014-10-02</td>\n",
       "      <td>à¤­à¤¾à¤°à¤¤ à¤®à¤¾à¤¤à¤¾ à¤à¥ à¤à¤¯à¤®à¤¹à...</td>\n",
       "      <td>[à¤­à¤¾à¤°à¤¤, à¤®à¤¾à¤¤à¤¾, à¤à¥, à¤à¤¯à¤®...</td>\n",
       "      <td>[à¤­à¤¾à¤°à¤¤, à¤®à¤¾à¤¤à¤¾, à¤à¥, à¤à¤¯à¤®...</td>\n",
       "      <td>(à¤­à¤¾à¤°à¤¤, à¤®à¤¾à¤¤à¤¾, à¤à¥, à¤à¤¯à¤®...</td>\n",
       "    </tr>\n",
       "    <tr>\n",
       "      <th>2</th>\n",
       "      <td>2014</td>\n",
       "      <td>10</td>\n",
       "      <td>3</td>\n",
       "      <td>2014\\2_03_Oct_2014_Text_of_PMs_first_Mann_ki_B...</td>\n",
       "      <td>à¤®à¥à¤°à¥ à¤ªà¥à¤¯à¤¾à¤°à¥ à¤¦à¥à¤¶à¤µà¤...</td>\n",
       "      <td>2014-10-03</td>\n",
       "      <td>à¤®à¥à¤°à¥ à¤ªà¥à¤¯à¤¾à¤°à¥ à¤¦à¥à¤¶à¤µà¤...</td>\n",
       "      <td>[à¤®à¥à¤°à¥, à¤ªà¥à¤¯à¤¾à¤°à¥, à¤¦à¥à¤¶à¤...</td>\n",
       "      <td>[à¤®à¥à¤°à¥, à¤ªà¥à¤¯à¤¾à¤°à¥, à¤¦à¥à¤¶à¤...</td>\n",
       "      <td>(à¤®à¥à¤°à¥, à¤ªà¥à¤¯à¤¾à¤°à¥, à¤¦à¥à¤¶à¤...</td>\n",
       "    </tr>\n",
       "    <tr>\n",
       "      <th>3</th>\n",
       "      <td>2014</td>\n",
       "      <td>10</td>\n",
       "      <td>3</td>\n",
       "      <td>2014\\3_03_Oct_2014_English_rendering_of_text_o...</td>\n",
       "      <td>My Dear Countrymen,Today is the holy festival ...</td>\n",
       "      <td>2014-10-03</td>\n",
       "      <td>my dear countrymentoday is the holy festival o...</td>\n",
       "      <td>[my, dear, countrymentoday, is, the, holy, fes...</td>\n",
       "      <td>[dear, countrymentoday, holy, festival, vijay,...</td>\n",
       "      <td>(dear, countrymentoday, holy, festival, vijay,...</td>\n",
       "    </tr>\n",
       "    <tr>\n",
       "      <th>4</th>\n",
       "      <td>2014</td>\n",
       "      <td>10</td>\n",
       "      <td>11</td>\n",
       "      <td>2014\\6_11_Oct_2014_PMs_remarks_at_the_launch_o...</td>\n",
       "      <td>Prime Minister, Shri Narendra Modi, today laun...</td>\n",
       "      <td>2014-10-11</td>\n",
       "      <td>prime minister shri narendra modi today launch...</td>\n",
       "      <td>[prime, minister, shri, narendra, modi, today,...</td>\n",
       "      <td>[prime, minister, shri, narendra, modi, today,...</td>\n",
       "      <td>(prime, minister, shri, narendra, modi, today,...</td>\n",
       "    </tr>\n",
       "  </tbody>\n",
       "</table>\n",
       "</div>"
      ],
      "text/plain": [
       "   Year  Month  Day                                              Title  \\\n",
       "0  2010     10   29  2018\\29_10_2010_PM’s address at Indian Communi...   \n",
       "1  2014     10    2  2014\\1_02_Oct_2014_Text_of_PMs_address_during_...   \n",
       "2  2014     10    3  2014\\2_03_Oct_2014_Text_of_PMs_first_Mann_ki_B...   \n",
       "3  2014     10    3  2014\\3_03_Oct_2014_English_rendering_of_text_o...   \n",
       "4  2014     10   11  2014\\6_11_Oct_2014_PMs_remarks_at_the_launch_o...   \n",
       "\n",
       "                                              Speech       Date  \\\n",
       "0  Hello!A country like Japan, this atmosphere of... 2010-10-29   \n",
       "1  à¤­à¤¾à¤°à¤¤ à¤®à¤¾à¤¤à¤¾ à¤à¥ à¤à¤¯!à¤®à¤¹... 2014-10-02   \n",
       "2  à¤®à¥à¤°à¥ à¤ªà¥à¤¯à¤¾à¤°à¥ à¤¦à¥à¤¶à¤µà¤... 2014-10-03   \n",
       "3  My Dear Countrymen,Today is the holy festival ... 2014-10-03   \n",
       "4  Prime Minister, Shri Narendra Modi, today laun... 2014-10-11   \n",
       "\n",
       "                                            no_punct  \\\n",
       "0  helloa country like japan this atmosphere of t...   \n",
       "1  à¤­à¤¾à¤°à¤¤ à¤®à¤¾à¤¤à¤¾ à¤à¥ à¤à¤¯à¤®à¤¹à...   \n",
       "2  à¤®à¥à¤°à¥ à¤ªà¥à¤¯à¤¾à¤°à¥ à¤¦à¥à¤¶à¤µà¤...   \n",
       "3  my dear countrymentoday is the holy festival o...   \n",
       "4  prime minister shri narendra modi today launch...   \n",
       "\n",
       "                                              tokens  \\\n",
       "0  [helloa, country, like, japan, this, atmospher...   \n",
       "1  [à¤­à¤¾à¤°à¤¤, à¤®à¤¾à¤¤à¤¾, à¤à¥, à¤à¤¯à¤®...   \n",
       "2  [à¤®à¥à¤°à¥, à¤ªà¥à¤¯à¤¾à¤°à¥, à¤¦à¥à¤¶à¤...   \n",
       "3  [my, dear, countrymentoday, is, the, holy, fes...   \n",
       "4  [prime, minister, shri, narendra, modi, today,...   \n",
       "\n",
       "                                        no_stopwords  \\\n",
       "0  [helloa, country, like, japan, atmosphere, aik...   \n",
       "1  [à¤­à¤¾à¤°à¤¤, à¤®à¤¾à¤¤à¤¾, à¤à¥, à¤à¤¯à¤®...   \n",
       "2  [à¤®à¥à¤°à¥, à¤ªà¥à¤¯à¤¾à¤°à¥, à¤¦à¥à¤¶à¤...   \n",
       "3  [dear, countrymentoday, holy, festival, vijay,...   \n",
       "4  [prime, minister, shri, narendra, modi, today,...   \n",
       "\n",
       "                                           nltk_Text  \n",
       "0  (helloa, country, like, japan, atmosphere, aik...  \n",
       "1  (à¤­à¤¾à¤°à¤¤, à¤®à¤¾à¤¤à¤¾, à¤à¥, à¤à¤¯à¤®...  \n",
       "2  (à¤®à¥à¤°à¥, à¤ªà¥à¤¯à¤¾à¤°à¥, à¤¦à¥à¤¶à¤...  \n",
       "3  (dear, countrymentoday, holy, festival, vijay,...  \n",
       "4  (prime, minister, shri, narendra, modi, today,...  "
      ]
     },
     "execution_count": 3,
     "metadata": {},
     "output_type": "execute_result"
    }
   ],
   "source": [
    "speeches.head()"
   ]
  },
  {
   "cell_type": "markdown",
   "metadata": {},
   "source": [
    "## Number of available speeches"
   ]
  },
  {
   "cell_type": "code",
   "execution_count": 4,
   "metadata": {},
   "outputs": [
    {
     "data": {
      "text/plain": [
       "522"
      ]
     },
     "execution_count": 4,
     "metadata": {},
     "output_type": "execute_result"
    }
   ],
   "source": [
    "len(speeches)"
   ]
  },
  {
   "cell_type": "markdown",
   "metadata": {},
   "source": [
    "## Number of days in which at least one speech was given."
   ]
  },
  {
   "cell_type": "code",
   "execution_count": 5,
   "metadata": {},
   "outputs": [
    {
     "data": {
      "text/plain": [
       "385"
      ]
     },
     "execution_count": 5,
     "metadata": {},
     "output_type": "execute_result"
    }
   ],
   "source": [
    "len(speeches.Date.unique())"
   ]
  },
  {
   "cell_type": "markdown",
   "metadata": {},
   "source": [
    "## Maximum number of speeches in a day \n"
   ]
  },
  {
   "cell_type": "code",
   "execution_count": 6,
   "metadata": {},
   "outputs": [
    {
     "data": {
      "text/plain": [
       "2015-11-12    4\n",
       "2015-05-15    4\n",
       "2018-10-21    4\n",
       "2016-11-11    3\n",
       "2016-07-11    3\n",
       "2015-05-16    3\n",
       "2017-05-12    3\n",
       "2016-04-24    3\n",
       "2016-11-13    3\n",
       "2016-10-31    3\n",
       "2016-03-12    3\n",
       "2016-05-23    3\n",
       "2015-05-17    3\n",
       "2017-01-09    3\n",
       "2016-02-21    3\n",
       "2017-03-07    3\n",
       "2015-06-28    3\n",
       "2016-07-10    3\n",
       "2015-07-09    3\n",
       "2015-02-14    2\n",
       "2014-11-30    2\n",
       "2014-11-16    2\n",
       "2019-02-17    2\n",
       "2018-06-21    2\n",
       "2017-06-24    2\n",
       "2019-02-24    2\n",
       "2015-05-31    2\n",
       "2018-06-22    2\n",
       "2017-04-08    2\n",
       "2015-06-07    2\n",
       "             ..\n",
       "2017-01-11    1\n",
       "2016-10-11    1\n",
       "2017-01-07    1\n",
       "2015-12-29    1\n",
       "2016-03-03    1\n",
       "2016-11-12    1\n",
       "2015-03-14    1\n",
       "2015-01-11    1\n",
       "2018-06-15    1\n",
       "2017-02-21    1\n",
       "2015-10-31    1\n",
       "2017-06-01    1\n",
       "2018-09-26    1\n",
       "2016-06-07    1\n",
       "2016-08-08    1\n",
       "2016-12-10    1\n",
       "2015-12-21    1\n",
       "2017-04-13    1\n",
       "2017-08-15    1\n",
       "2015-05-04    1\n",
       "2016-10-26    1\n",
       "2015-09-05    1\n",
       "2015-11-06    1\n",
       "2017-04-28    1\n",
       "2016-01-16    1\n",
       "2016-03-09    1\n",
       "2017-07-01    1\n",
       "2016-12-25    1\n",
       "2015-09-03    1\n",
       "2019-02-21    1\n",
       "Name: Date, Length: 385, dtype: int64"
      ]
     },
     "execution_count": 6,
     "metadata": {},
     "output_type": "execute_result"
    }
   ],
   "source": [
    "speeches['Date'].value_counts()"
   ]
  },
  {
   "cell_type": "code",
   "execution_count": 7,
   "metadata": {},
   "outputs": [
    {
     "data": {
      "image/png": "[encoded data removed]",
      "text/plain": [
       "<Figure size 432x288 with 1 Axes>"
      ]
     },
     "metadata": {},
     "output_type": "display_data"
    }
   ],
   "source": [
    "by_date = speeches['Date'].value_counts()\n",
    "plt.style.use('ggplot')\n",
    "by_date.plot.hist(bins=range(1,9), align='left')\n",
    "plt.xticks(range(1,8))\n",
    "plt.xlim(0.5, 6.5)\n",
    "plt.title(\"Number of speeches per day\", fontdict={'fontsize': 20})\n",
    "plt.ylabel(\"Number of speeches\", fontdict={'fontsize': 14})\n",
    "plt.xlabel(\"Speeches per day\", fontdict={'fontsize': 14});"
   ]
  },
  {
   "cell_type": "markdown",
   "metadata": {},
   "source": [
    "## Number of speeches per day of a week"
   ]
  },
  {
   "cell_type": "code",
   "execution_count": 8,
   "metadata": {},
   "outputs": [],
   "source": [
    "# getting day ofweek with dt method\n",
    "speeches['Day'] = speeches['Date'].dt.dayofweek\n",
    "\n",
    "# dictionary to label \n",
    "days = {0:'Monday', 1:'Tuesday', 2:'Wednsday',3:'Thursday',4:'Friday',5:'Saturday',6:'Sunday'}\n",
    "\n",
    "# function to label corresponing categoricalvariable with name of the weekday\n",
    "speeches['Day'] = speeches['Day'].apply(lambda x:days[x])"
   ]
  },
  {
   "cell_type": "code",
   "execution_count": 9,
   "metadata": {},
   "outputs": [],
   "source": [
    "# ordering the leves of factor variables\n",
    "speeches['Day'] = pd.Categorical(speeches['Day'], ['Monday','Tuesday','Wednesday','Thursday','Friday','Saturday','Sunday'])"
   ]
  },
  {
   "cell_type": "code",
   "execution_count": 10,
   "metadata": {},
   "outputs": [
    {
     "name": "stderr",
     "output_type": "stream",
     "text": [
      "C:\\Users\\hp\\Anaconda3\\lib\\site-packages\\ipykernel_launcher.py:1: FutureWarning: sortlevel is deprecated, use sort_index(level=...)\n",
      "  \"\"\"Entry point for launching an IPython kernel.\n"
     ]
    },
    {
     "data": {
      "text/plain": [
       "Monday        73\n",
       "Tuesday       58\n",
       "Wednesday      0\n",
       "Thursday      59\n",
       "Friday        90\n",
       "Saturday      79\n",
       "Sunday       118\n",
       "Name: Day, dtype: int64"
      ]
     },
     "execution_count": 10,
     "metadata": {},
     "output_type": "execute_result"
    }
   ],
   "source": [
    "by_weekday = speeches['Day'].value_counts().sortlevel()\n",
    "by_weekday"
   ]
  },
  {
   "cell_type": "code",
   "execution_count": 11,
   "metadata": {},
   "outputs": [
    {
     "data": {
      "image/png": "[encoded data removed]",
      "text/plain": [
       "<Figure size 432x288 with 1 Axes>"
      ]
     },
     "metadata": {},
     "output_type": "display_data"
    }
   ],
   "source": [
    "by_weekday.plot.bar()\n",
    "plt.title(\"Number of speeches per weekday\", fontdict={'fontsize': 20})\n",
    "plt.ylabel(\"Number of speeches\", fontdict={'fontsize': 14})\n",
    "plt.xlabel(\"Day of the week\", fontdict={'fontsize': 14});"
   ]
  },
  {
   "cell_type": "markdown",
   "metadata": {},
   "source": [
    "## Number of speeches per month "
   ]
  },
  {
   "cell_type": "code",
   "execution_count": 12,
   "metadata": {},
   "outputs": [
    {
     "data": {
      "text/plain": [
       "1     47\n",
       "2     58\n",
       "3     29\n",
       "4     40\n",
       "5     49\n",
       "6     52\n",
       "7     46\n",
       "8     27\n",
       "9     30\n",
       "10    53\n",
       "11    62\n",
       "12    29\n",
       "Name: Month, dtype: int64"
      ]
     },
     "execution_count": 12,
     "metadata": {},
     "output_type": "execute_result"
    }
   ],
   "source": [
    "by_month = speeches['Month'].value_counts().sort_index()\n",
    "by_month"
   ]
  },
  {
   "cell_type": "code",
   "execution_count": 13,
   "metadata": {},
   "outputs": [
    {
     "data": {
      "image/png": "[encoded data removed]",
      "text/plain": [
       "<Figure size 432x288 with 1 Axes>"
      ]
     },
     "metadata": {},
     "output_type": "display_data"
    }
   ],
   "source": [
    "by_month.plot.bar()\n",
    "plt.title(\"Number of speeches per month\", fontdict={'fontsize': 20})\n",
    "plt.ylabel(\"Number of speeches\", fontdict={'fontsize': 14})\n",
    "plt.xlabel(\"Month\", fontdict={'fontsize': 14})\n",
    "labels = ['January','February','March','April','May','June','July','August','September','October','November','December']\n",
    "plt.xticks(range(12), labels, rotation='vertical');"
   ]
  },
  {
   "cell_type": "markdown",
   "metadata": {},
   "source": [
    "## Number of speeches per year"
   ]
  },
  {
   "cell_type": "code",
   "execution_count": 14,
   "metadata": {},
   "outputs": [
    {
     "data": {
      "text/plain": [
       "2010      1\n",
       "2014     38\n",
       "2015    148\n",
       "2016    160\n",
       "2017     92\n",
       "2018     43\n",
       "2019     40\n",
       "Name: Year, dtype: int64"
      ]
     },
     "execution_count": 14,
     "metadata": {},
     "output_type": "execute_result"
    }
   ],
   "source": [
    "by_year = speeches['Year'].value_counts().sort_index()\n",
    "by_year"
   ]
  },
  {
   "cell_type": "code",
   "execution_count": 15,
   "metadata": {},
   "outputs": [
    {
     "data": {
      "image/png": "[encoded data removed]",
      "text/plain": [
       "<Figure size 432x288 with 1 Axes>"
      ]
     },
     "metadata": {},
     "output_type": "display_data"
    }
   ],
   "source": [
    "by_year.plot.bar()\n",
    "plt.title(\"Number of speeches per year\", fontdict={'fontsize': 20})\n",
    "plt.ylabel(\"Number of speeches\", fontdict={'fontsize': 14})\n",
    "plt.xlabel(\"Year\", fontdict={'fontsize': 14})\n",
    "labels = ['2010','2014','2015','2016','2017','2018','2019']\n",
    "plt.xticks(range(7), labels, rotation='vertical');"
   ]
  },
  {
   "cell_type": "code",
   "execution_count": 16,
   "metadata": {},
   "outputs": [
    {
     "name": "stderr",
     "output_type": "stream",
     "text": [
      "C:\\Users\\hp\\Anaconda3\\lib\\site-packages\\ipykernel_launcher.py:1: FutureWarning: pd.groupby() is deprecated and will be removed; Please use the Series.groupby() or DataFrame.groupby() methods\n",
      "  \"\"\"Entry point for launching an IPython kernel.\n"
     ]
    }
   ],
   "source": [
    "by_year_month = pd.groupby(speeches, by=[speeches['Date'].dt.year, speeches['Date'].dt.month])"
   ]
  },
  {
   "cell_type": "code",
   "execution_count": 17,
   "metadata": {},
   "outputs": [],
   "source": [
    "month_labels = ['2014-1','2014-2','2014-3','2014-4','2014-5','2014-6','2014-7','2014-8','2014-9','2014-10','2014-11','2014-12',\\\n",
    "          '2015-1','2015-2','2015-3','2015-4','2015-5','2015-6','2015-7','2015-8','2015-9','2015-10','2015-11','2015-12',\\\n",
    "          '2016-1','2016-2','2016-3','2016-4','2016-5','2016-6','2016-7','201-8','2016-9','2016-10','2016-11','2016-12',\\\n",
    "          '2017-1','2017-2','2017-3','2017-4','2017-5','2017-6','2017-7','2017-8','2017-9','2017-10','2017-11','2017-12',\\\n",
    "          '2018-1','2018-2','2018-3','2018-4','2018-5','2018-6','2018-7','2018-8','2018-9','2018-10','2018-11','2018-12',\\\n",
    "          '2019-1','2019-2','2019-3']"
   ]
  },
  {
   "cell_type": "code",
   "execution_count": 18,
   "metadata": {},
   "outputs": [
    {
     "data": {
      "image/png": "[encoded data removed]",
      "text/plain": [
       "<Figure size 432x288 with 1 Axes>"
      ]
     },
     "metadata": {},
     "output_type": "display_data"
    }
   ],
   "source": [
    "by_month = by_year_month['Month'].agg('count')\n",
    "by_month.plot()\n",
    "plt.title(\"Number of speeches per month (January 2014 to March-2019)\", fontdict={'fontsize': 20,\\\n",
    "                                                                                'verticalalignment': 'bottom'})\n",
    "plt.ylabel(\"Number of speeches\", fontdict={'fontsize': 14})\n",
    "plt.xlabel(\"Month\", fontdict={'fontsize': 14})\n",
    "labels = month_labels\n",
    "plt.xticks(range(68), labels, rotation='vertical')\n",
    "plt.axvline(x=39, linewidth=1, color='b');"
   ]
  },
  {
   "cell_type": "code",
   "execution_count": 19,
   "metadata": {},
   "outputs": [
    {
     "data": {
      "text/html": [
       "<div>\n",
       "<style scoped>\n",
       "    .dataframe tbody tr th:only-of-type {\n",
       "        vertical-align: middle;\n",
       "    }\n",
       "\n",
       "    .dataframe tbody tr th {\n",
       "        vertical-align: top;\n",
       "    }\n",
       "\n",
       "    .dataframe thead th {\n",
       "        text-align: right;\n",
       "    }\n",
       "</style>\n",
       "<table border=\"1\" class=\"dataframe\">\n",
       "  <thead>\n",
       "    <tr style=\"text-align: right;\">\n",
       "      <th></th>\n",
       "      <th>Year</th>\n",
       "      <th>Month</th>\n",
       "      <th>Day</th>\n",
       "      <th>Title</th>\n",
       "      <th>Speech</th>\n",
       "      <th>Date</th>\n",
       "      <th>no_punct</th>\n",
       "      <th>tokens</th>\n",
       "      <th>no_stopwords</th>\n",
       "      <th>nltk_Text</th>\n",
       "    </tr>\n",
       "  </thead>\n",
       "  <tbody>\n",
       "    <tr>\n",
       "      <th>0</th>\n",
       "      <td>2010</td>\n",
       "      <td>10</td>\n",
       "      <td>Friday</td>\n",
       "      <td>2018\\29_10_2010_PM’s address at Indian Communi...</td>\n",
       "      <td>Hello!A country like Japan, this atmosphere of...</td>\n",
       "      <td>2010-10-29</td>\n",
       "      <td>helloa country like japan this atmosphere of t...</td>\n",
       "      <td>[helloa, country, like, japan, this, atmospher...</td>\n",
       "      <td>[helloa, country, like, japan, atmosphere, aik...</td>\n",
       "      <td>(helloa, country, like, japan, atmosphere, aik...</td>\n",
       "    </tr>\n",
       "    <tr>\n",
       "      <th>1</th>\n",
       "      <td>2014</td>\n",
       "      <td>10</td>\n",
       "      <td>Thursday</td>\n",
       "      <td>2014\\1_02_Oct_2014_Text_of_PMs_address_during_...</td>\n",
       "      <td>à¤­à¤¾à¤°à¤¤ à¤®à¤¾à¤¤à¤¾ à¤à¥ à¤à¤¯!à¤®à¤¹...</td>\n",
       "      <td>2014-10-02</td>\n",
       "      <td>à¤­à¤¾à¤°à¤¤ à¤®à¤¾à¤¤à¤¾ à¤à¥ à¤à¤¯à¤®à¤¹à...</td>\n",
       "      <td>[à¤­à¤¾à¤°à¤¤, à¤®à¤¾à¤¤à¤¾, à¤à¥, à¤à¤¯à¤®...</td>\n",
       "      <td>[à¤­à¤¾à¤°à¤¤, à¤®à¤¾à¤¤à¤¾, à¤à¥, à¤à¤¯à¤®...</td>\n",
       "      <td>(à¤­à¤¾à¤°à¤¤, à¤®à¤¾à¤¤à¤¾, à¤à¥, à¤à¤¯à¤®...</td>\n",
       "    </tr>\n",
       "    <tr>\n",
       "      <th>2</th>\n",
       "      <td>2014</td>\n",
       "      <td>10</td>\n",
       "      <td>Friday</td>\n",
       "      <td>2014\\2_03_Oct_2014_Text_of_PMs_first_Mann_ki_B...</td>\n",
       "      <td>à¤®à¥à¤°à¥ à¤ªà¥à¤¯à¤¾à¤°à¥ à¤¦à¥à¤¶à¤µà¤...</td>\n",
       "      <td>2014-10-03</td>\n",
       "      <td>à¤®à¥à¤°à¥ à¤ªà¥à¤¯à¤¾à¤°à¥ à¤¦à¥à¤¶à¤µà¤...</td>\n",
       "      <td>[à¤®à¥à¤°à¥, à¤ªà¥à¤¯à¤¾à¤°à¥, à¤¦à¥à¤¶à¤...</td>\n",
       "      <td>[à¤®à¥à¤°à¥, à¤ªà¥à¤¯à¤¾à¤°à¥, à¤¦à¥à¤¶à¤...</td>\n",
       "      <td>(à¤®à¥à¤°à¥, à¤ªà¥à¤¯à¤¾à¤°à¥, à¤¦à¥à¤¶à¤...</td>\n",
       "    </tr>\n",
       "    <tr>\n",
       "      <th>3</th>\n",
       "      <td>2014</td>\n",
       "      <td>10</td>\n",
       "      <td>Friday</td>\n",
       "      <td>2014\\3_03_Oct_2014_English_rendering_of_text_o...</td>\n",
       "      <td>My Dear Countrymen,Today is the holy festival ...</td>\n",
       "      <td>2014-10-03</td>\n",
       "      <td>my dear countrymentoday is the holy festival o...</td>\n",
       "      <td>[my, dear, countrymentoday, is, the, holy, fes...</td>\n",
       "      <td>[dear, countrymentoday, holy, festival, vijay,...</td>\n",
       "      <td>(dear, countrymentoday, holy, festival, vijay,...</td>\n",
       "    </tr>\n",
       "    <tr>\n",
       "      <th>4</th>\n",
       "      <td>2014</td>\n",
       "      <td>10</td>\n",
       "      <td>Saturday</td>\n",
       "      <td>2014\\6_11_Oct_2014_PMs_remarks_at_the_launch_o...</td>\n",
       "      <td>Prime Minister, Shri Narendra Modi, today laun...</td>\n",
       "      <td>2014-10-11</td>\n",
       "      <td>prime minister shri narendra modi today launch...</td>\n",
       "      <td>[prime, minister, shri, narendra, modi, today,...</td>\n",
       "      <td>[prime, minister, shri, narendra, modi, today,...</td>\n",
       "      <td>(prime, minister, shri, narendra, modi, today,...</td>\n",
       "    </tr>\n",
       "    <tr>\n",
       "      <th>5</th>\n",
       "      <td>2014</td>\n",
       "      <td>10</td>\n",
       "      <td>Saturday</td>\n",
       "      <td>2014\\5_11_Oct_2014_Text_of_PMs_address_at_the_...</td>\n",
       "      <td>à¤®à¤à¤¤à¥à¤°à¤¿à¤ªà¤°à¤¿à¤·à¤¦ à¤à¥ à¤®à¥...</td>\n",
       "      <td>2014-10-11</td>\n",
       "      <td>à¤®à¤à¤¤à¥à¤°à¤à¤ªà¤°à¤à¤·à¤¦ à¤à¥ à¤®à¥à...</td>\n",
       "      <td>[à¤®à¤à¤¤à¥à¤°à¤à¤ªà¤°à¤à¤·à¤¦, à¤à¥, à¤®à...</td>\n",
       "      <td>[à¤®à¤à¤¤à¥à¤°à¤à¤ªà¤°à¤à¤·à¤¦, à¤à¥, à¤®à...</td>\n",
       "      <td>(à¤®à¤à¤¤à¥à¤°à¤à¤ªà¤°à¤à¤·à¤¦, à¤à¥, à¤®à...</td>\n",
       "    </tr>\n",
       "    <tr>\n",
       "      <th>6</th>\n",
       "      <td>2014</td>\n",
       "      <td>10</td>\n",
       "      <td>Tuesday</td>\n",
       "      <td>2014\\8_14_Oct_2014_Text_of_PMs_statement_after...</td>\n",
       "      <td>à¤ªà¤°à¤¸à¥à¤ à¤à¥ à¤­à¤¯à¤à¤à¤° cyclone...</td>\n",
       "      <td>2014-10-14</td>\n",
       "      <td>à¤ªà¤°à¤¸à¥à¤ à¤à¥ à¤­à¤¯à¤à¤à¤° cyclone...</td>\n",
       "      <td>[à¤ªà¤°à¤¸à¥à¤, à¤à¥, à¤­à¤¯à¤à¤à¤°, cyc...</td>\n",
       "      <td>[à¤ªà¤°à¤¸à¥à¤, à¤à¥, à¤­à¤¯à¤à¤à¤°, cyc...</td>\n",
       "      <td>(à¤ªà¤°à¤¸à¥à¤, à¤à¥, à¤­à¤¯à¤à¤à¤°, cyc...</td>\n",
       "    </tr>\n",
       "    <tr>\n",
       "      <th>7</th>\n",
       "      <td>2014</td>\n",
       "      <td>10</td>\n",
       "      <td>Thursday</td>\n",
       "      <td>2014\\9_16_Oct_2014_Text_of_PMs_address_during_...</td>\n",
       "      <td>à¤à¤ªà¤¸à¥à¤¥à¤¿à¤¤ à¤¸à¤­à¥ à¤®à¤¹à¤¾à¤¨à¥...</td>\n",
       "      <td>2014-10-16</td>\n",
       "      <td>à¤à¤ªà¤¸à¥à¤¥à¤à¤¤ à¤¸à¤­à¥ à¤®à¤¹à¤¾à¤¨à¥...</td>\n",
       "      <td>[à¤à¤ªà¤¸à¥à¤¥à¤à¤¤, à¤¸à¤­à¥, à¤®à¤¹à¤¾à¤¨...</td>\n",
       "      <td>[à¤à¤ªà¤¸à¥à¤¥à¤à¤¤, à¤¸à¤­à¥, à¤®à¤¹à¤¾à¤¨...</td>\n",
       "      <td>(à¤à¤ªà¤¸à¥à¤¥à¤à¤¤, à¤¸à¤­à¥, à¤®à¤¹à¤¾à¤¨...</td>\n",
       "    </tr>\n",
       "    <tr>\n",
       "      <th>8</th>\n",
       "      <td>2014</td>\n",
       "      <td>10</td>\n",
       "      <td>Thursday</td>\n",
       "      <td>2014\\11_23_Oct_2014_Text_of_PMs_address_to_Off...</td>\n",
       "      <td>प्‍यारे जवानों,आप सबको बड़ा सरप्राइज हुआ होगा ...</td>\n",
       "      <td>2014-10-23</td>\n",
       "      <td>प्‍यारे जवानोंआप सबको बड़ा सरप्राइज हुआ होगा क...</td>\n",
       "      <td>[प्‍यारे, जवानोंआप, सबको, बड़ा, सरप्राइज, हुआ,...</td>\n",
       "      <td>[प्‍यारे, जवानोंआप, सबको, बड़ा, सरप्राइज, हुआ,...</td>\n",
       "      <td>(प्‍यारे, जवानोंआप, सबको, बड़ा, सरप्राइज, हुआ,...</td>\n",
       "    </tr>\n",
       "    <tr>\n",
       "      <th>9</th>\n",
       "      <td>2014</td>\n",
       "      <td>10</td>\n",
       "      <td>Saturday</td>\n",
       "      <td>2014\\12_25_Oct_2014_Text_of_PMs_address_at_the...</td>\n",
       "      <td>à¤à¤ªà¤¸à¥à¤¥à¤¿âà¤¤ à¤¸à¤­à¥ à¤µà¤°à¤¿à¤...</td>\n",
       "      <td>2014-10-25</td>\n",
       "      <td>à¤à¤ªà¤¸à¥à¤¥à¤âà¤¤ à¤¸à¤­à¥ à¤µà¤°à¤à¤·à...</td>\n",
       "      <td>[à¤à¤ªà¤¸à¥à¤¥à¤âà¤¤, à¤¸à¤­à¥, à¤µà¤°à¤à...</td>\n",
       "      <td>[à¤à¤ªà¤¸à¥à¤¥à¤âà¤¤, à¤¸à¤­à¥, à¤µà¤°à¤à...</td>\n",
       "      <td>(à¤à¤ªà¤¸à¥à¤¥à¤âà¤¤, à¤¸à¤­à¥, à¤µà¤°à¤à...</td>\n",
       "    </tr>\n",
       "  </tbody>\n",
       "</table>\n",
       "</div>"
      ],
      "text/plain": [
       "   Year  Month       Day                                              Title  \\\n",
       "0  2010     10    Friday  2018\\29_10_2010_PM’s address at Indian Communi...   \n",
       "1  2014     10  Thursday  2014\\1_02_Oct_2014_Text_of_PMs_address_during_...   \n",
       "2  2014     10    Friday  2014\\2_03_Oct_2014_Text_of_PMs_first_Mann_ki_B...   \n",
       "3  2014     10    Friday  2014\\3_03_Oct_2014_English_rendering_of_text_o...   \n",
       "4  2014     10  Saturday  2014\\6_11_Oct_2014_PMs_remarks_at_the_launch_o...   \n",
       "5  2014     10  Saturday  2014\\5_11_Oct_2014_Text_of_PMs_address_at_the_...   \n",
       "6  2014     10   Tuesday  2014\\8_14_Oct_2014_Text_of_PMs_statement_after...   \n",
       "7  2014     10  Thursday  2014\\9_16_Oct_2014_Text_of_PMs_address_during_...   \n",
       "8  2014     10  Thursday  2014\\11_23_Oct_2014_Text_of_PMs_address_to_Off...   \n",
       "9  2014     10  Saturday  2014\\12_25_Oct_2014_Text_of_PMs_address_at_the...   \n",
       "\n",
       "                                              Speech       Date  \\\n",
       "0  Hello!A country like Japan, this atmosphere of... 2010-10-29   \n",
       "1  à¤­à¤¾à¤°à¤¤ à¤®à¤¾à¤¤à¤¾ à¤à¥ à¤à¤¯!à¤®à¤¹... 2014-10-02   \n",
       "2  à¤®à¥à¤°à¥ à¤ªà¥à¤¯à¤¾à¤°à¥ à¤¦à¥à¤¶à¤µà¤... 2014-10-03   \n",
       "3  My Dear Countrymen,Today is the holy festival ... 2014-10-03   \n",
       "4  Prime Minister, Shri Narendra Modi, today laun... 2014-10-11   \n",
       "5  à¤®à¤à¤¤à¥à¤°à¤¿à¤ªà¤°à¤¿à¤·à¤¦ à¤à¥ à¤®à¥... 2014-10-11   \n",
       "6  à¤ªà¤°à¤¸à¥à¤ à¤à¥ à¤­à¤¯à¤à¤à¤° cyclone... 2014-10-14   \n",
       "7  à¤à¤ªà¤¸à¥à¤¥à¤¿à¤¤ à¤¸à¤­à¥ à¤®à¤¹à¤¾à¤¨à¥... 2014-10-16   \n",
       "8  प्‍यारे जवानों,आप सबको बड़ा सरप्राइज हुआ होगा ... 2014-10-23   \n",
       "9  à¤à¤ªà¤¸à¥à¤¥à¤¿âà¤¤ à¤¸à¤­à¥ à¤µà¤°à¤¿à¤... 2014-10-25   \n",
       "\n",
       "                                            no_punct  \\\n",
       "0  helloa country like japan this atmosphere of t...   \n",
       "1  à¤­à¤¾à¤°à¤¤ à¤®à¤¾à¤¤à¤¾ à¤à¥ à¤à¤¯à¤®à¤¹à...   \n",
       "2  à¤®à¥à¤°à¥ à¤ªà¥à¤¯à¤¾à¤°à¥ à¤¦à¥à¤¶à¤µà¤...   \n",
       "3  my dear countrymentoday is the holy festival o...   \n",
       "4  prime minister shri narendra modi today launch...   \n",
       "5  à¤®à¤à¤¤à¥à¤°à¤à¤ªà¤°à¤à¤·à¤¦ à¤à¥ à¤®à¥à...   \n",
       "6  à¤ªà¤°à¤¸à¥à¤ à¤à¥ à¤­à¤¯à¤à¤à¤° cyclone...   \n",
       "7  à¤à¤ªà¤¸à¥à¤¥à¤à¤¤ à¤¸à¤­à¥ à¤®à¤¹à¤¾à¤¨à¥...   \n",
       "8  प्‍यारे जवानोंआप सबको बड़ा सरप्राइज हुआ होगा क...   \n",
       "9  à¤à¤ªà¤¸à¥à¤¥à¤âà¤¤ à¤¸à¤­à¥ à¤µà¤°à¤à¤·à...   \n",
       "\n",
       "                                              tokens  \\\n",
       "0  [helloa, country, like, japan, this, atmospher...   \n",
       "1  [à¤­à¤¾à¤°à¤¤, à¤®à¤¾à¤¤à¤¾, à¤à¥, à¤à¤¯à¤®...   \n",
       "2  [à¤®à¥à¤°à¥, à¤ªà¥à¤¯à¤¾à¤°à¥, à¤¦à¥à¤¶à¤...   \n",
       "3  [my, dear, countrymentoday, is, the, holy, fes...   \n",
       "4  [prime, minister, shri, narendra, modi, today,...   \n",
       "5  [à¤®à¤à¤¤à¥à¤°à¤à¤ªà¤°à¤à¤·à¤¦, à¤à¥, à¤®à...   \n",
       "6  [à¤ªà¤°à¤¸à¥à¤, à¤à¥, à¤­à¤¯à¤à¤à¤°, cyc...   \n",
       "7  [à¤à¤ªà¤¸à¥à¤¥à¤à¤¤, à¤¸à¤­à¥, à¤®à¤¹à¤¾à¤¨...   \n",
       "8  [प्‍यारे, जवानोंआप, सबको, बड़ा, सरप्राइज, हुआ,...   \n",
       "9  [à¤à¤ªà¤¸à¥à¤¥à¤âà¤¤, à¤¸à¤­à¥, à¤µà¤°à¤à...   \n",
       "\n",
       "                                        no_stopwords  \\\n",
       "0  [helloa, country, like, japan, atmosphere, aik...   \n",
       "1  [à¤­à¤¾à¤°à¤¤, à¤®à¤¾à¤¤à¤¾, à¤à¥, à¤à¤¯à¤®...   \n",
       "2  [à¤®à¥à¤°à¥, à¤ªà¥à¤¯à¤¾à¤°à¥, à¤¦à¥à¤¶à¤...   \n",
       "3  [dear, countrymentoday, holy, festival, vijay,...   \n",
       "4  [prime, minister, shri, narendra, modi, today,...   \n",
       "5  [à¤®à¤à¤¤à¥à¤°à¤à¤ªà¤°à¤à¤·à¤¦, à¤à¥, à¤®à...   \n",
       "6  [à¤ªà¤°à¤¸à¥à¤, à¤à¥, à¤­à¤¯à¤à¤à¤°, cyc...   \n",
       "7  [à¤à¤ªà¤¸à¥à¤¥à¤à¤¤, à¤¸à¤­à¥, à¤®à¤¹à¤¾à¤¨...   \n",
       "8  [प्‍यारे, जवानोंआप, सबको, बड़ा, सरप्राइज, हुआ,...   \n",
       "9  [à¤à¤ªà¤¸à¥à¤¥à¤âà¤¤, à¤¸à¤­à¥, à¤µà¤°à¤à...   \n",
       "\n",
       "                                           nltk_Text  \n",
       "0  (helloa, country, like, japan, atmosphere, aik...  \n",
       "1  (à¤­à¤¾à¤°à¤¤, à¤®à¤¾à¤¤à¤¾, à¤à¥, à¤à¤¯à¤®...  \n",
       "2  (à¤®à¥à¤°à¥, à¤ªà¥à¤¯à¤¾à¤°à¥, à¤¦à¥à¤¶à¤...  \n",
       "3  (dear, countrymentoday, holy, festival, vijay,...  \n",
       "4  (prime, minister, shri, narendra, modi, today,...  \n",
       "5  (à¤®à¤à¤¤à¥à¤°à¤à¤ªà¤°à¤à¤·à¤¦, à¤à¥, à¤®à...  \n",
       "6  (à¤ªà¤°à¤¸à¥à¤, à¤à¥, à¤­à¤¯à¤à¤à¤°, cyc...  \n",
       "7  (à¤à¤ªà¤¸à¥à¤¥à¤à¤¤, à¤¸à¤­à¥, à¤®à¤¹à¤¾à¤¨...  \n",
       "8  (प्‍यारे, जवानोंआप, सबको, बड़ा, सरप्राइज, हुआ,...  \n",
       "9  (à¤à¤ªà¤¸à¥à¤¥à¤âà¤¤, à¤¸à¤­à¥, à¤µà¤°à¤à...  "
      ]
     },
     "execution_count": 19,
     "metadata": {},
     "output_type": "execute_result"
    }
   ],
   "source": [
    "speeches.head(10)"
   ]
  },
  {
   "cell_type": "markdown",
   "metadata": {},
   "source": [
    "### Word Cloud"
   ]
  },
  {
   "cell_type": "code",
   "execution_count": 20,
   "metadata": {},
   "outputs": [],
   "source": [
    "# add all speeches into one string \n",
    "\n",
    "all_speeches = speeches.Speech.str.cat(sep=',')"
   ]
  },
  {
   "cell_type": "code",
   "execution_count": 21,
   "metadata": {},
   "outputs": [
    {
     "data": {
      "text/plain": [
       "'!\"#$%&\\'()*+,-./:;<=>?@[\\\\]^_`{|}~–¡¿”“•\\r´'"
      ]
     },
     "execution_count": 21,
     "metadata": {},
     "output_type": "execute_result"
    }
   ],
   "source": [
    "punctuation = string.punctuation + '–¡¿”“•\\r´'\n",
    "punctuation"
   ]
  },
  {
   "cell_type": "code",
   "execution_count": 22,
   "metadata": {},
   "outputs": [],
   "source": [
    "# To strip punctuation from string\n",
    "\n",
    "def no_punct(string):\n",
    "    transtable = string.maketrans('', '', punctuation)\n",
    "    return string.translate(transtable)"
   ]
  },
  {
   "cell_type": "code",
   "execution_count": 23,
   "metadata": {},
   "outputs": [],
   "source": [
    "all_speeches = no_punct(all_speeches)"
   ]
  },
  {
   "cell_type": "code",
   "execution_count": 24,
   "metadata": {},
   "outputs": [],
   "source": [
    "# Lowercase\n",
    "\n",
    "all_speeches = all_speeches.lower()"
   ]
  },
  {
   "cell_type": "code",
   "execution_count": 25,
   "metadata": {},
   "outputs": [
    {
     "data": {
      "text/plain": [
       "10095332"
      ]
     },
     "execution_count": 25,
     "metadata": {},
     "output_type": "execute_result"
    }
   ],
   "source": [
    "len(all_speeches)"
   ]
  },
  {
   "cell_type": "code",
   "execution_count": 26,
   "metadata": {},
   "outputs": [],
   "source": [
    "# Tokenize text\n",
    "\n",
    "all_tokens = word_tokenize(all_speeches)"
   ]
  },
  {
   "cell_type": "code",
   "execution_count": 27,
   "metadata": {},
   "outputs": [],
   "source": [
    "# Eliminate stopwords in English\n",
    "\n",
    "def no_stopwords(tokens):\n",
    "    return [w for w in tokens if w not in stopwords_eng]"
   ]
  },
  {
   "cell_type": "code",
   "execution_count": 28,
   "metadata": {},
   "outputs": [],
   "source": [
    "stopwords_eng = stopwords.words('english')"
   ]
  },
  {
   "cell_type": "code",
   "execution_count": 29,
   "metadata": {},
   "outputs": [],
   "source": [
    "# drop stopwords\n",
    "all_tokens = no_stopwords(all_tokens)"
   ]
  },
  {
   "cell_type": "code",
   "execution_count": 30,
   "metadata": {},
   "outputs": [
    {
     "data": {
      "text/plain": [
       "1007495"
      ]
     },
     "execution_count": 30,
     "metadata": {},
     "output_type": "execute_result"
    }
   ],
   "source": [
    "len(all_tokens)"
   ]
  },
  {
   "cell_type": "code",
   "execution_count": 31,
   "metadata": {},
   "outputs": [
    {
     "data": {
      "text/plain": [
       "[('à¤\\x95à¥\\x87', 15355),\n",
       " ('à¤¹à¥\\x88', 13158),\n",
       " ('à¤', 13057),\n",
       " ('à¤®à¥\\x87à¤\\x82', 11932),\n",
       " ('à¤\\x94à¤°', 8714),\n",
       " ('à¤\\x95à¥\\x8b', 8323),\n",
       " ('à¤\\x95à¥\\x80', 8117),\n",
       " ('à¤¹à¥\\x88à¥¤', 7652),\n",
       " ('à¤\\x95à¤¾', 7515),\n",
       " ('à¤¸à¥\\x87', 7434),\n",
       " ('के', 6432),\n",
       " ('à¤\\xadà¥\\x80', 5898),\n",
       " ('है', 5681),\n",
       " ('à¤\\x95à¤', 5560),\n",
       " ('à¤\\x8fà¤\\x95', 5426),\n",
       " ('à¤¤à¥\\x8b', 5372),\n",
       " ('à¤¨à¤¹à¥\\x80à¤\\x82', 5177),\n",
       " ('में', 4879),\n",
       " ('india', 4606),\n",
       " ('à¤¹à¥\\x88à¤\\x82', 4490),\n",
       " ('à¤¯à¥\\x87', 4176),\n",
       " ('à¤¹à¥\\x8b', 3804),\n",
       " ('à¤¹à¤®', 3769),\n",
       " ('«', 3692),\n",
       " ('à¤²à¤à¤\\x8f', 3600),\n",
       " ('à¤®à¥\\x88à¤\\x82', 3548),\n",
       " ('को', 3440),\n",
       " ('और', 3365),\n",
       " ('की', 3350),\n",
       " ('का', 3303),\n",
       " ('à¤\\x9cà¥\\x8b', 3280),\n",
       " ('है।', 3013),\n",
       " ('à¤µà¥\\x8b', 3001),\n",
       " ('से', 2915),\n",
       " ('also', 2850),\n",
       " ('pm', 2763),\n",
       " ('à¤ªà¤°', 2738),\n",
       " ('à¤¦à¥\\x87à¤¶', 2641),\n",
       " ('à¤\\x95à¤°', 2398),\n",
       " ('à¤¹à¥\\x88à¤\\x82à¥¤', 2393),\n",
       " ('à¤\\x87à¤¸', 2349),\n",
       " ('people', 2262),\n",
       " ('à¤²à¥\\x87à¤\\x95à¤à¤¨', 2257),\n",
       " ('कि', 2178),\n",
       " ('भी', 2171),\n",
       " ('à¤¨à¥\\x87', 2144),\n",
       " ('एक', 2130),\n",
       " ('à¤¬à¤¹à¥\\x81à¤¤', 2076),\n",
       " ('तो', 2038),\n",
       " ('नहीं', 2032),\n",
       " ('à¤\\xadà¤¾à¤°à¤¤', 2031),\n",
       " ('à¤\\x86à¤\\x9c', 1993),\n",
       " ('à¤\\x95à¤¾à¤®', 1972),\n",
       " ('à¤\\x86à¤ª', 1971),\n",
       " ('à¤¥à¤¾', 1946),\n",
       " ('à¤¹à¥\\x80', 1843),\n",
       " ('à¤\\x95à¥\\x8bà¤\\x88', 1812),\n",
       " ('à¤¹à¤®à¤¾à¤°à¥\\x87', 1783),\n",
       " ('country', 1775),\n",
       " ('à¤°à¤¹à¤¾', 1749),\n",
       " ('à¤¹à¥\\x82à¤\\x82', 1715),\n",
       " ('world', 1682),\n",
       " ('à¤\\x95à¤°à¤¨à¥\\x87', 1639),\n",
       " ('हैं', 1614),\n",
       " ('ये', 1573),\n",
       " ('à¤®à¥\\x81à¤\\x9dà¥\\x87', 1555),\n",
       " ('हो', 1528),\n",
       " ('à¤\\x89à¤¸', 1519),\n",
       " ('new', 1516),\n",
       " ('government', 1498),\n",
       " ('à¤\\x95à¤°à¤\\x95à¥\\x87', 1474),\n",
       " ('à¤\\x95à¥\\x81à¤\\x9b', 1465),\n",
       " ('today', 1412),\n",
       " ('हम', 1402),\n",
       " ('’', 1392),\n",
       " ('à¤¯à¤¹', 1388),\n",
       " ('à¤\\x97à¤°', 1383),\n",
       " ('मैं', 1375),\n",
       " ('one', 1362),\n",
       " ('à¤\\x95à¤à¤¯à¤¾', 1354),\n",
       " ('जो', 1326),\n",
       " ('à¤²à¥\\x8bà¤\\x97', 1317),\n",
       " ('à¤¹à¥\\x8bà¤¤à¤¾', 1317),\n",
       " ('à¤°à¤¹à¥\\x87', 1299),\n",
       " ('लिए', 1270),\n",
       " ('à¤¬à¤¾à¤¤', 1249),\n",
       " ('à¤\\x9cà¤¬', 1243),\n",
       " ('à¤¨', 1243),\n",
       " ('वो', 1237),\n",
       " ('à¤¸à¤¾à¤¥', 1229),\n",
       " ('à¤²à¥\\x8bà¤\\x97à¥\\x8bà¤\\x82', 1197),\n",
       " ('पर', 1187),\n",
       " ('à¤¸à¤°à¤\\x95à¤¾à¤°', 1184),\n",
       " ('narendramodi', 1175),\n",
       " ('à¤ªà¤¨à¥\\x87', 1150),\n",
       " ('development', 1147),\n",
       " ('us', 1099),\n",
       " ('à¤\\x9cà¥\\x80', 1098),\n",
       " ('time', 1097),\n",
       " ('देश', 1095),\n",
       " ('à¤\\x95à¤°à¤¤à¤¾', 1092),\n",
       " ('à¤¹à¥\\x81à¤\\x86', 1082),\n",
       " ('à¤¦à¥\\x81à¤¨à¤à¤¯à¤¾', 1081),\n",
       " ('many', 1075),\n",
       " ('work', 1057),\n",
       " ('à¤\\x87à¤¸à¤²à¤à¤\\x8f', 1046),\n",
       " ('इस', 1029),\n",
       " ('à¤¥à¥\\x87', 1020),\n",
       " ('à¤\\x95à¤°à¤¨à¤¾', 1014),\n",
       " ('à¤¯à¤¹à¤¾à¤\\x82', 988),\n",
       " ('years', 982),\n",
       " ('à¤\\x89à¤¸à¤\\x95à¥\\x8b', 982),\n",
       " ('à¤¸à¤\\x95à¤¤à¥\\x87', 980),\n",
       " ('à¤¬', 971),\n",
       " ('à¤®à¥\\x87à¤°à¥\\x87', 969),\n",
       " ('à¤¹à¤°', 968),\n",
       " ('technology', 959),\n",
       " ('à¤¸à¤\\x95à¤¤à¤¾', 958),\n",
       " ('à¤\\x95à¤°à¤¤à¥\\x87', 952),\n",
       " ('à¤¹à¥\\x8bà¤\\x97à¤¾', 949),\n",
       " ('कर', 947),\n",
       " ('à¤\\x95à¥\\x8dâ\\x80\\x8dà¤¯à¤¾', 944),\n",
       " ('à¤¸à¤¾à¤²', 923),\n",
       " ('à¤\\x89à¤¸à¤\\x95à¥\\x87', 909),\n",
       " ('à¤¹à¤®à¤¨à¥\\x87', 895),\n",
       " ('à¤\\x86à¤\\x97à¥\\x87', 887),\n",
       " ('à¤¥à¤¾à¥¤', 884),\n",
       " ('हैं।', 883),\n",
       " ('à¤®à¥\\x88à¤\\x82à¤¨à¥\\x87', 879),\n",
       " ('काम', 876),\n",
       " ('लेकिन', 861),\n",
       " ('every', 860),\n",
       " ('à¤¹à¤®à¥\\x87à¤\\x82', 858),\n",
       " ('à¤\\x95à¤à¤¸à¥\\x80', 843),\n",
       " ('indian', 838),\n",
       " ('ने', 837),\n",
       " ('à¤ªà¥\\x8dà¤°à¤\\x95à¤¾à¤°', 835),\n",
       " ('à¤¬à¤à¤¼à¤¾', 822),\n",
       " ('à¤\\x97à¤¯à¤¾', 818),\n",
       " ('भारत', 815),\n",
       " ('à¤¹à¤®à¤¾à¤°à¥\\x80', 814),\n",
       " ('था', 812),\n",
       " ('would', 806),\n",
       " ('à¤¸à¤®à¤¯', 799),\n",
       " ('बहुत', 799),\n",
       " ('आज', 798),\n",
       " ('à¤\\x95à¤¾à¤°à¤£', 794),\n",
       " ('à¤\\x9cà¥\\x80à¤µà¤¨', 789),\n",
       " ('make', 787),\n",
       " ('à¤¤à¤\\x95', 786),\n",
       " ('à¤\\x95à¤\\xadà¥\\x80', 783),\n",
       " ('à¤¹à¥\\x8bà¤¤à¥\\x80', 778),\n",
       " ('आप', 769),\n",
       " ('great', 766),\n",
       " ('à¤¬à¤¾à¤°', 756),\n",
       " ('à¤¹à¥\\x81à¤\\x8f', 755),\n",
       " ('à¤\\x95à¥\\x88à¤¸à¥\\x87', 752),\n",
       " ('ही', 752),\n",
       " ('à¤¦à¤à¤¯à¤¾', 751),\n",
       " ('à¤µà¤¾à¤²à¥\\x87', 743),\n",
       " ('हमारे', 743),\n",
       " ('like', 740),\n",
       " ('à¤\\x90à¤¸à¤¾', 739),\n",
       " ('à¤\\x9aà¤¾à¤¹à¤à¤\\x8f', 738),\n",
       " ('हूं', 728),\n",
       " ('à¤ªà¤¹à¤²à¥\\x87', 719),\n",
       " ('à¤¹à¥\\x82à¤\\x82à¥¤', 717),\n",
       " ('economic', 703),\n",
       " ('à¤\\x9cà¤¾à¤¤à¤¾', 701),\n",
       " ('रहा', 700),\n",
       " ('à¤\\x95à¤¹à¤¾', 687),\n",
       " ('à¤¬à¤¾à¤¦', 684),\n",
       " ('à¤°à¤¹à¥\\x80', 682),\n",
       " ('minister', 681),\n",
       " ('à¤°à¥\\x82à¤ª', 679),\n",
       " ('life', 676),\n",
       " ('à¤²à¥\\x87', 668),\n",
       " ('global', 665),\n",
       " ('कोई', 664),\n",
       " ('करने', 661),\n",
       " ('come', 654),\n",
       " ('two', 651),\n",
       " ('à¤\\x95à¤®', 649),\n",
       " ('à¤\\x89à¤¨à¤\\x95à¥\\x8b', 649),\n",
       " ('à¤¤à¤¾à¤\\x95à¤¤', 649),\n",
       " ('à¤\\x95à¥\\x8dà¤¯à¤¾', 648),\n",
       " ('à¤\\x9cà¤¾', 644),\n",
       " ('à¤\\x89à¤¸à¤\\x95à¤¾', 637),\n",
       " ('à¤\\x86à¤ªà¤\\x95à¥\\x8b', 625),\n",
       " ('must', 624),\n",
       " ('made', 623),\n",
       " ('उस', 623),\n",
       " ('nation', 619),\n",
       " ('यह', 618),\n",
       " ('pmo', 618),\n",
       " ('pmoindia', 610),\n",
       " ('à¤\\x90à¤¸à¥\\x87', 605),\n",
       " ('à¤¥à¥\\x80', 598),\n",
       " ('à¤¬à¤à¤¼à¥\\x80', 596),\n",
       " ('à¤µà¤¾à¤²à¤¾', 596),\n",
       " ('get', 591),\n",
       " ('à¤\\x97à¤¾à¤\\x82à¤µ', 587),\n",
       " ('किया', 587),\n",
       " ('countries', 583),\n",
       " ('à¤\\x97à¤°à¥\\x80à¤¬', 577),\n",
       " ('important', 571),\n",
       " ('energy', 570),\n",
       " ('year', 569),\n",
       " ('à¤¸à¤\\xadà¥\\x80', 568),\n",
       " ('अगर', 567),\n",
       " ('à¤\\x87à¤¨', 565),\n",
       " ('à¤\\x89à¤¨à¤\\x95à¥\\x87', 565),\n",
       " ('à¤ªà¥\\x8dà¤°à¤¯à¤¾à¤¸', 563),\n",
       " ('à¤à¤°', 563),\n",
       " ('à¤ªà¤¾à¤¸', 562),\n",
       " ('poor', 556),\n",
       " ('president', 555),\n",
       " ('farmers', 554),\n",
       " ('last', 553),\n",
       " ('first', 550),\n",
       " ('à¤\\x95à¤°à¥\\x8bà¤à¤¼', 546),\n",
       " ('good', 545),\n",
       " ('à¤®à¥\\x87à¤°à¤¾', 545),\n",
       " ('day', 544),\n",
       " ('à¤µà¤¹à¤¾à¤\\x82', 541),\n",
       " ('à¤¸à¤¬', 541),\n",
       " ('cooperation', 541),\n",
       " ('सरकार', 540),\n",
       " ('way', 539),\n",
       " ('prime', 536),\n",
       " ('à¤ªà¤¨à¥\\x80', 534),\n",
       " ('see', 533),\n",
       " ('मुझे', 532),\n",
       " ('साथ', 530),\n",
       " ('जब', 530),\n",
       " ('à¤\\x86à¤ªà¤\\x95à¥\\x87', 529),\n",
       " ('even', 528),\n",
       " ('à¤¤à¤¬', 526),\n",
       " ('à¤µà¤à¤\\x95à¤¾à¤¸', 526),\n",
       " ('take', 525),\n",
       " ('à¤¦à¥\\x8b', 524),\n",
       " ('करके', 523),\n",
       " ('à¤\\x89à¤¸à¤®à¥\\x87à¤\\x82', 522),\n",
       " ('à¤\\x86à¤¨à¥\\x87', 513),\n",
       " ('रहे', 512),\n",
       " ('कुछ', 512),\n",
       " ('à¤¦à¥\\x87à¤¤à¤¾', 511),\n",
       " ('à¤\\x86', 511),\n",
       " ('à¤¦à¤à¤¨', 509),\n",
       " ('security', 509),\n",
       " ('sector', 508),\n",
       " ('à¤\\x87à¤¤à¤¨à¤¾', 507),\n",
       " ('à¤\\x95à¤à¤¸à¤¾à¤¨', 502),\n",
       " ('à¤µà¤¸à¤°', 501),\n",
       " ('साल', 501),\n",
       " ('होता', 500),\n",
       " ('partnership', 494),\n",
       " ('à¤¹à¤®à¤¾à¤°à¤¾', 493),\n",
       " ('2015', 491),\n",
       " ('much', 487),\n",
       " ('à¤ªà¥\\x82à¤°à¤¾', 483),\n",
       " ('want', 482),\n",
       " ('business', 481),\n",
       " ('à¤\\x9aà¤¾à¤¹à¤à¤\\x8fà¥¤', 477),\n",
       " ('लोग', 477),\n",
       " ('à¤\\x89à¤¨', 468),\n",
       " ('need', 468),\n",
       " ('à¤\\x86à¤¯à¤¾', 466),\n",
       " ('become', 464),\n",
       " ('लोगों', 463),\n",
       " ('à¤¬à¤¨', 457),\n",
       " ('know', 455),\n",
       " ('à¤¥à¥\\x87à¥¤', 453),\n",
       " ('infrastructure', 450),\n",
       " ('à¤\\x9cà¤à¤¸', 450),\n",
       " ('à¤¸à¤¬à¤¸à¥\\x87', 448),\n",
       " ('yoga', 447),\n",
       " ('à¤¦à¥\\x87', 445),\n",
       " ('जी', 444),\n",
       " ('power', 442),\n",
       " ('होगा', 442),\n",
       " ('à¤²à¤\\x97', 441),\n",
       " ('à¤\\x89à¤¸à¤\\x95à¥\\x80', 437),\n",
       " ('à¤\\x90à¤¸à¥\\x80', 437),\n",
       " ('together', 436),\n",
       " ('à¤¨à¤\\x88', 434),\n",
       " ('न', 430),\n",
       " ('going', 429),\n",
       " ('water', 428),\n",
       " ('करता', 427),\n",
       " ('sisters', 424),\n",
       " ('हर', 424),\n",
       " ('change', 423),\n",
       " ('यहां', 422),\n",
       " ('à¤\\x9cà¥\\x8dâ\\x80\\x8dà¤¯à¤¾à¤¦à¤¾', 420),\n",
       " ('economy', 418),\n",
       " ('बात', 418),\n",
       " ('à¤¹à¥\\x8bà¤\\x97à¤¾à¥¤', 417),\n",
       " ('à¤\\x9cà¤¾à¤\\x8f', 417),\n",
       " ('à¤¯à¥\\x8bà¤\\x9cà¤¨à¤¾', 417),\n",
       " ('थे', 416),\n",
       " ('may', 414),\n",
       " ('international', 414),\n",
       " ('सकता', 413),\n",
       " ('give', 412),\n",
       " ('à¤¬à¥\\x88à¤', 411),\n",
       " ('opportunity', 410),\n",
       " ('youth', 410),\n",
       " ('à¤¹à¥\\x8bà¤¨à¥\\x87', 410),\n",
       " ('अपने', 410),\n",
       " ('à¤¸à¤®à¤¾à¤\\x9c', 403),\n",
       " ('मेरे', 402),\n",
       " ('à¤\\x9aà¤¾à¤¹à¤¤à¤¾', 401),\n",
       " ('big', 401),\n",
       " ('हुआ', 401),\n",
       " ('state', 400),\n",
       " ('à¤¸à¤', 398),\n",
       " ('health', 398),\n",
       " ('à¤¹à¥\\x81à¤\\x88', 395),\n",
       " ('क्\\u200dया', 393),\n",
       " ('à¤¦à¤à¤¶à¤¾', 392),\n",
       " ('गया', 392),\n",
       " ('ji', 391),\n",
       " ('à¤\\x86à¤ªà¤¨à¥\\x87', 389),\n",
       " ('à¤¯à¤¾', 388),\n",
       " ('करना', 388),\n",
       " ('future', 386),\n",
       " ('land', 385),\n",
       " ('à¤\\x9cà¤¹à¤¾à¤\\x82', 384),\n",
       " ('à¤ªà¤°à¤à¤µà¤¾à¤°', 383),\n",
       " ('à¤\\x97à¤\\x8f', 383),\n",
       " ('growth', 381),\n",
       " ('à¤¸à¤à¤°à¥\\x8dà¤', 381),\n",
       " ('à¤®à¤¨', 381),\n",
       " ('à¤ªà¤¨à¤¾', 381),\n",
       " ('done', 377),\n",
       " ('à¤\\x86à¤\\x8f', 377),\n",
       " ('à¤¹à¥\\x8bà¤¨à¤¾', 375),\n",
       " ('region', 375),\n",
       " ('society', 374),\n",
       " ('सकते', 374),\n",
       " ('à¤\\x89à¤¨à¤\\x95à¤¾', 371),\n",
       " ('à¤®à¥\\x87à¤°à¥\\x80', 371),\n",
       " ('help', 369),\n",
       " ('à¤\\x9aà¤²', 368),\n",
       " ('à¤®à¤à¤²à¤¾', 368),\n",
       " ('à¤²à¤\\x97à¤¤à¤¾', 367),\n",
       " ('à¤¥à¥\\x80à¥¤', 366),\n",
       " ('strong', 364),\n",
       " ('à¤¶à¥\\x81à¤°à¥\\x82', 364),\n",
       " ('crore', 363),\n",
       " ('इसलिए', 363),\n",
       " ('उसको', 363),\n",
       " ('à¤¹à¥\\x8bà¤¤à¥\\x87', 362),\n",
       " ('à¤¦à¥\\x87à¤\\x96à¤¾', 361),\n",
       " ('well', 361),\n",
       " ('दुनिया', 361),\n",
       " ('तक', 360),\n",
       " ('thank', 359),\n",
       " ('à¤¬à¤¨à¤¾', 359),\n",
       " ('à¤\\x95à¥\\x8dà¤·à¥\\x87à¤¤à¥\\x8dà¤°', 359),\n",
       " ('à¤®à¤à¤²', 359),\n",
       " ('करते', 359),\n",
       " ('given', 357),\n",
       " ('efforts', 357),\n",
       " ('à¤µà¤¾à¤²à¥\\x80', 355),\n",
       " ('à¤ªà¤¾à¤¨à¥\\x80', 355),\n",
       " ('था।', 355),\n",
       " ('à¤¹à¤\\x9cà¤¾à¤°', 354),\n",
       " ('trade', 354),\n",
       " ('à¤ªà¤¤à¤¾', 352),\n",
       " ('friends', 350),\n",
       " ('à¤¦à¥\\x87à¤¨à¥\\x87', 350),\n",
       " ('à¤µà¤à¤¶à¥\\x8dâ\\x80\\x8dà¤µ', 349),\n",
       " ('investment', 348),\n",
       " ('à¤\\x89à¤¨à¤\\x95à¥\\x80', 347),\n",
       " ('à¤\\x87à¤¸à¤\\x95à¥\\x87', 346),\n",
       " ('à¤ªà¥\\x82à¤°à¥\\x87', 346),\n",
       " ('अब', 346),\n",
       " ('strength', 342),\n",
       " ('à¤\\x95à¤°à¥\\x87à¤\\x82', 342),\n",
       " ('बड़ा', 342),\n",
       " ('towards', 340),\n",
       " ('कैसे', 338),\n",
       " ('taken', 338),\n",
       " ('thousand', 337),\n",
       " ('à¤¸à¥\\x8c', 337),\n",
       " ('forward', 336),\n",
       " ('à¤²à¥\\x87à¤\\x95à¤°', 336),\n",
       " ('place', 335),\n",
       " ('à¤¶à¤¾à¤¯à¤¦', 335),\n",
       " ('support', 334),\n",
       " ('visit', 332),\n",
       " ('say', 332),\n",
       " ('à¤\\x9cà¤¾à¤¤à¥\\x87', 332),\n",
       " ('science', 332),\n",
       " ('asia', 332),\n",
       " ('à¤¹à¤à¤¨à¥\\x8dâ\\x80\\x8dà¤¦à¥\\x81à¤¸à¥\\x8dâ\\x80\\x8dà¤¤à¤¾à¤¨', 331),\n",
       " ('national', 331),\n",
       " ('states', 331),\n",
       " ('à¤\\x9cà¤¾à¤¤à¥\\x80', 330),\n",
       " ('हमारी', 330),\n",
       " ('money', 330),\n",
       " ('said', 329),\n",
       " ('digital', 328),\n",
       " ('à¤\\x89à¤', 328),\n",
       " ('social', 328),\n",
       " ('à¤¤à¤°à¤', 327),\n",
       " ('à¤\\x9aà¤°à¥\\x8dà¤\\x9aà¤¾', 327),\n",
       " ('हुए', 326),\n",
       " ('हमें', 325),\n",
       " ('आगे', 325),\n",
       " ('समय', 324),\n",
       " ('lot', 323),\n",
       " ('system', 322),\n",
       " ('à¤\\x87à¤¸à¤\\x95à¤¾', 322),\n",
       " ('à¤\\x87à¤¤à¤¨à¥\\x80', 322),\n",
       " ('ताकत', 321),\n",
       " ('go', 320),\n",
       " ('environment', 320),\n",
       " ('scheme', 320),\n",
       " ('50', 319),\n",
       " ('innovation', 318),\n",
       " ('100', 318),\n",
       " ('house', 318),\n",
       " ('à¤¹à¥\\x8bà¤\\x97à¥\\x80', 317),\n",
       " ('वाले', 317),\n",
       " ('working', 316),\n",
       " ('part', 316),\n",
       " ('à¤¹à¥\\x8bà¤\\x82à¤\\x97à¥\\x87', 316),\n",
       " ('à¤\\x95à¤\\x88', 316),\n",
       " ('किसी', 316),\n",
       " ('progress', 315),\n",
       " ('à¤\\x89à¤¨à¥\\x8dâ\\x80\\x8dà¤¹à¥\\x8bà¤\\x82à¤¨à¥\\x87', 315),\n",
       " ('à¤\\x98à¤°', 314),\n",
       " ('human', 314),\n",
       " ('उसके', 313),\n",
       " ('opportunities', 312),\n",
       " ('à¤¦à¤à¤¨à¥\\x8bà¤\\x82', 312),\n",
       " ('à¤\\x86à¤¤à¤¾', 311),\n",
       " ('à¤¬à¤¦à¤²à¤¾à¤µ', 311),\n",
       " ('peace', 310),\n",
       " ('à¤\\x95à¤¹à¥\\x80à¤\\x82', 310),\n",
       " ('best', 309),\n",
       " ('मैंने', 308),\n",
       " ('making', 307),\n",
       " ('small', 307),\n",
       " ('à¤\\x9aà¤¾à¤¹à¤¤à¥\\x87', 307),\n",
       " ('bank', 307),\n",
       " ('happy', 306),\n",
       " ('million', 306),\n",
       " ('nations', 305),\n",
       " ('à¤\\x95à¤¾à¤°à¥\\x8dà¤¯à¤\\x95à¥\\x8dà¤°à¤®', 305),\n",
       " ('lives', 305),\n",
       " ('à¤ªà¥\\x88à¤¦à¤¾', 304),\n",
       " ('à¤¯à¤¹à¥\\x80', 304),\n",
       " ('गांव', 303),\n",
       " ('à¤¬à¥\\x80à¤\\x9a', 302),\n",
       " ('10', 302),\n",
       " ('à¤®à¤¾à¤\\x82', 301),\n",
       " ('brothers', 301),\n",
       " ('होती', 301),\n",
       " ('à¤ªà¥\\x8dà¤°à¤§à¤¾à¤¨à¤®à¤\\x82à¤¤à¥\\x8dà¤°à¥\\x80', 299),\n",
       " ('पहले', 298),\n",
       " ('à¤\\x9cà¤¾à¤¨à¤¾', 297),\n",
       " ('à¤\\x95à¤à¤¤à¤¨à¤¾', 297),\n",
       " ('‘', 297),\n",
       " ('à¤µà¥\\x87', 296),\n",
       " ('à¤\\x89à¤¸à¥\\x80', 295),\n",
       " ('areas', 294),\n",
       " ('à¤¹à¥\\x8bà¥¤', 293),\n",
       " ('à¤\\x87à¤¤à¤¨à¥\\x87', 293),\n",
       " ('ऐसा', 293),\n",
       " ('हूं।', 292),\n",
       " ('à¤°à¥\\x87à¤²à¤µà¥\\x87', 292),\n",
       " ('number', 291),\n",
       " ('days', 291),\n",
       " ('â\\x80\\x93', 291),\n",
       " ('à¤\\x97à¤\\x88', 291),\n",
       " ('benefit', 291),\n",
       " ('हमने', 291),\n",
       " ('à¤\\x95à¤â\\x80\\x8d', 289),\n",
       " ('à¤ªà¥\\x82à¤°à¥\\x80', 287),\n",
       " ('à¤¨à¥\\x81à¤\\xadà¤µ', 287),\n",
       " ('young', 287),\n",
       " ('things', 287),\n",
       " ('used', 286),\n",
       " ('प्रकार', 286),\n",
       " ('lakh', 286),\n",
       " ('role', 285),\n",
       " ('à¤¦à¥\\x8dà¤µà¤¾à¤°à¤¾', 285),\n",
       " ('skill', 285),\n",
       " ('dear', 284),\n",
       " ('à¤µà¤à¤·à¤¯', 284),\n",
       " ('à¤¬à¥\\x88à¤\\x82à¤\\x95', 283),\n",
       " ('family', 282),\n",
       " ('three', 282),\n",
       " ('à¤\\x9cà¤¾à¤¨à¥\\x87', 280),\n",
       " ('across', 280),\n",
       " ('कारण', 280),\n",
       " ('रही', 280),\n",
       " ('विकास', 279),\n",
       " ('four', 278),\n",
       " ('à¤¬à¤¨à¤¾à¤¨à¥\\x87', 278),\n",
       " ('common', 278),\n",
       " ('education', 278),\n",
       " ('rupees', 278),\n",
       " ('जाता', 278),\n",
       " ('believe', 275),\n",
       " ('à¤\\x9cà¥\\x88à¤¸à¥\\x87', 275),\n",
       " ('different', 275),\n",
       " ('à¤\\x95à¤¹à¤¤à¤¾', 274),\n",
       " ('à¤°à¤¹à¤¤à¤¾', 274),\n",
       " ('create', 274),\n",
       " ('दिया', 274),\n",
       " ('industry', 274),\n",
       " ('long', 273),\n",
       " ('à¤¸à¤¾à¤®à¤¨à¥\\x87', 273),\n",
       " ('बार', 273),\n",
       " ('à¤¤à¥\\x88à¤¯à¤¾à¤°', 272),\n",
       " ('बड़ी', 272),\n",
       " ('think', 271),\n",
       " ('let', 271),\n",
       " ('à¤¤à¤¯', 270),\n",
       " ('à¤µà¤à¤¶à¥\\x8dâ\\x80\\x8dà¤µà¤¾à¤¸', 270),\n",
       " ('à¤\\x86à¤ªà¤\\x95à¤¾', 270),\n",
       " ('à¤¬à¤à¤\\x9cà¤²à¥\\x80', 269),\n",
       " ('special', 268),\n",
       " ('जीवन', 268),\n",
       " ('africa', 268),\n",
       " ('started', 267),\n",
       " ('à¤\\x89à¤ªà¤¯à¥\\x8bà¤\\x97', 267),\n",
       " ('seen', 265),\n",
       " ('à¤¬à¤¹à¥\\x81à¤¤à¤¬à¤¹à¥\\x81à¤¤', 265),\n",
       " ('welcome', 265),\n",
       " ('à¤\\x9cà¥\\x8dà¤¯à¤¾à¤¦à¤¾', 264),\n",
       " ('building', 264),\n",
       " ('coming', 263),\n",
       " ('कभी', 263),\n",
       " ('ago', 263),\n",
       " ('चाहिए', 263),\n",
       " ('look', 262),\n",
       " ('entire', 262),\n",
       " ('à¤µà¥\\x8dâ\\x80\\x8dà¤¯à¤µà¤¸à¥\\x8dâ\\x80\\x8dà¤¥à¤¾', 261),\n",
       " ('रूप', 260),\n",
       " ('क्या', 259),\n",
       " ('à¤¸à¤¾à¤°à¥\\x80', 256),\n",
       " ('women', 256),\n",
       " ('à¤¦à¥\\x87à¤\\x96', 255),\n",
       " ('ले', 254),\n",
       " ('à¤¦à¥\\x87à¤¨à¤¾', 253),\n",
       " ('à¤\\x95à¤¹', 253),\n",
       " ('15', 252),\n",
       " ('times', 252),\n",
       " ('à¤¬à¤¹à¤¨à¥\\x8bà¤\\x82', 251),\n",
       " ('à¤\\x82à¤¦à¤°', 251),\n",
       " ('à¤¹à¥\\x82à¤\\x81', 251),\n",
       " ('congratulate', 250),\n",
       " ('success', 250),\n",
       " ('à¤¨à¤¾à¤®', 249),\n",
       " ('कम', 249),\n",
       " ('always', 248),\n",
       " ('à¤¬à¤à¤¼à¥\\x87', 248),\n",
       " ('à¤¬à¤¾à¤¤à¥\\x87à¤\\x82', 247),\n",
       " ('à¤§à¤°à¤¤à¥\\x80', 247),\n",
       " ('बाद', 247),\n",
       " ('à¤\\x9aà¥\\x80à¤\\x9cà¥\\x87à¤\\x82', 246),\n",
       " ('à¤¬à¤¾à¤¹à¤°', 246),\n",
       " ('थी', 246),\n",
       " ('जा', 246),\n",
       " ('तब', 245),\n",
       " ('shared', 242),\n",
       " ('कहा', 242),\n",
       " ('manufacturing', 241),\n",
       " ('à¤¸à¤¾à¤¹à¤¬', 241),\n",
       " ('countrymen', 241),\n",
       " ('projects', 241),\n",
       " ('à¤²à¤\\x97à¤¾', 240),\n",
       " ('à¤\\x86à¤°à¥\\x8dà¤¥à¤à¤\\x95', 240),\n",
       " ('agriculture', 240),\n",
       " ('à¤¬à¤²', 240),\n",
       " ('वाला', 240),\n",
       " ('challenges', 240),\n",
       " ('defence', 240),\n",
       " ('service', 239),\n",
       " ('à¤¦à¥\\x80', 239),\n",
       " ('पूरा', 239),\n",
       " ('got', 238),\n",
       " ('à¤²à¤¾à¤\\x96', 238),\n",
       " ('à¤°à¤¹à¤¤à¥\\x87', 237),\n",
       " ('five', 237),\n",
       " ('large', 236),\n",
       " ('à¤\\x87à¤¸à¤\\x95à¥\\x8b', 236),\n",
       " ('ऐसे', 236),\n",
       " ('central', 236),\n",
       " ('whole', 235),\n",
       " ('à¤\\x89à¤¨à¥\\x8dà¤¹à¥\\x8bà¤\\x82à¤¨à¥\\x87', 235),\n",
       " ('à¤\\xadà¤\\x88', 235),\n",
       " ('उनके', 235),\n",
       " ('अवसर', 235),\n",
       " ('vision', 235),\n",
       " ('set', 235),\n",
       " ('cities', 234),\n",
       " ('इन', 234),\n",
       " ('excellency', 234),\n",
       " ('level', 233),\n",
       " ('better', 233),\n",
       " ('bring', 233),\n",
       " ('उसका', 232),\n",
       " ('मेरा', 232),\n",
       " ('à¤\\x95à¤°à¥\\x87à¤\\x82à¤\\x97à¥\\x87', 231),\n",
       " ('à¤µà¤à¤¶à¥\\x8dà¤µ', 231),\n",
       " ('आपको', 231),\n",
       " ('हमारा', 231),\n",
       " ('terrorism', 231),\n",
       " ('à¤\\x9cà¤°à¥\\x82à¤°à¤¤', 230),\n",
       " ('south', 230),\n",
       " ('à¤¦à¥\\x87à¤¶à¥\\x8bà¤\\x82', 229),\n",
       " ('among', 228),\n",
       " ('never', 228),\n",
       " ('à¤¸à¤¾à¤°à¥\\x87', 227),\n",
       " ('à¤¶à¤\\x95à¥\\x8dà¤¤à¤', 227),\n",
       " ('provide', 227),\n",
       " ('mission', 227),\n",
       " ('à¤®à¤¾à¤¨à¤¤à¤¾', 226),\n",
       " ('à¤\\x9cà¤\\x97à¤¹', 226),\n",
       " ('policy', 226),\n",
       " ('taking', 225),\n",
       " ('public', 225),\n",
       " ('à¤\\x97à¤¾à¤\\x82à¤§à¥\\x80', 225),\n",
       " ('à¤\\x97à¤°à¥\\x80à¤¬à¥\\x8bà¤\\x82', 225),\n",
       " ('share', 225),\n",
       " ('सभी', 225),\n",
       " ('spirit', 224),\n",
       " ('à¤¨à¥\\x8cà¤\\x9cà¤µà¤¾à¤¨', 224),\n",
       " ('à¥\\x80', 224),\n",
       " ('came', 224),\n",
       " ('could', 224),\n",
       " ('à¤¦à¥\\x87à¤¤à¥\\x87', 223),\n",
       " ('à¤ªà¥\\x8dà¤°à¤¤à¤', 223),\n",
       " ('east', 223),\n",
       " ('major', 222),\n",
       " ('à¤\\x86à¤\\x9cà¤¾à¤¦à¥\\x80', 222),\n",
       " ('à¤\\x86à¤¤à¥\\x80', 222),\n",
       " ('à¤µà¤à¤¶à¥\\x8dà¤µà¤¾à¤¸', 222),\n",
       " ('दो', 222),\n",
       " ('history', 220),\n",
       " ('culture', 220),\n",
       " ('next', 220),\n",
       " ('à¤¯à¥\\x8bà¤\\x97', 220),\n",
       " ('ties', 220),\n",
       " ('initiative', 219),\n",
       " ('city', 219),\n",
       " ('freedom', 219),\n",
       " ('पास', 219),\n",
       " ('उनको', 219),\n",
       " ('growing', 218),\n",
       " ('à¤\\x95à¤°à¥\\x87', 218),\n",
       " ('à¤\\x95à¥\\x8dâ\\x80\\x8dà¤¯à¥\\x8bà¤\\x82', 218),\n",
       " ('अपनी', 218),\n",
       " ('including', 218),\n",
       " ('market', 218),\n",
       " ('à¤¦à¥\\x87à¤\\x96à¤à¤\\x8f', 216),\n",
       " ('citizens', 216),\n",
       " ('research', 216),\n",
       " ('फिर', 216),\n",
       " ('सब', 216),\n",
       " ('build', 216),\n",
       " ('गरीब', 216),\n",
       " ('solar', 216),\n",
       " ('à¤\\x97à¤¯à¤¾à¥¤', 215),\n",
       " ('12', 215),\n",
       " ('gujarat', 214),\n",
       " ('à¤¸à¤\\x95à¤¤à¥\\x80', 214),\n",
       " ('villages', 213),\n",
       " ('free', 213),\n",
       " ('feel', 212),\n",
       " ('à¤\\x89à¤¸à¤¸à¥\\x87', 212),\n",
       " ('foreign', 212),\n",
       " ('institutions', 212),\n",
       " ('use', 211),\n",
       " ('movement', 210),\n",
       " ('à¤®à¤à¤²à¥\\x87', 210),\n",
       " ('connectivity', 209),\n",
       " ('à¤µà¤°à¥\\x8dà¤·', 209),\n",
       " ('à¤¦à¥\\x8bà¤¨à¥\\x8bà¤\\x82', 209),\n",
       " ('à¤\\x86à¤ªà¤\\x95à¥\\x80', 209),\n",
       " ('à¤\\x97à¤¤à¤', 209),\n",
       " ('आने', 209),\n",
       " ('around', 209),\n",
       " ('tourism', 209),\n",
       " ('project', 209),\n",
       " ('à¤¨à¥\\x87à¤\\x95', 208),\n",
       " ('à¤¸à¤µà¤¾', 208),\n",
       " ('students', 208),\n",
       " ('right', 208),\n",
       " ('आ', 207),\n",
       " ('प्रयास', 207),\n",
       " ('वहां', 207),\n",
       " ('quality', 206),\n",
       " ('à¤¨à¤à¤°à¥\\x8dà¤£à¤¯', 206),\n",
       " ('hope', 206),\n",
       " ('something', 206),\n",
       " ('à¤\\x9aà¥\\x80à¤\\x9cà¥\\x8bà¤\\x82', 206),\n",
       " ('person', 206),\n",
       " ('able', 206),\n",
       " ('percent', 206),\n",
       " ('full', 205),\n",
       " ('village', 205),\n",
       " ('à¤\\x9aà¤²à¤¾', 205),\n",
       " ('children', 205),\n",
       " ('without', 205),\n",
       " ('à¤\\x95à¤à¤¸', 205),\n",
       " ('governance', 205),\n",
       " ('à¤\\x95à¤¹à¤¤à¥\\x87', 204),\n",
       " ('सबसे', 204),\n",
       " ('develop', 204),\n",
       " ('à¤°à¥\\x81à¤ªà¤¯à¤¾', 203),\n",
       " ('पूरे', 203),\n",
       " ('century', 203),\n",
       " ('à¤ªà¤à¤\\x9bà¤²à¥\\x87', 202),\n",
       " ('à¤²à¤¾à¤\\xad', 202),\n",
       " ('25', 202),\n",
       " ('open', 202),\n",
       " ('à¥\\x87', 201),\n",
       " ('à¤²à¤à¤¯à¤¾', 201),\n",
       " ('generation', 201),\n",
       " ('relationship', 201),\n",
       " ('knowledge', 200),\n",
       " ('à¤¸à¥\\x8bà¤\\x9a', 200),\n",
       " ('देता', 200),\n",
       " ('2022', 199),\n",
       " ('à¤ªà¥\\x88à¤¸à¥\\x87', 199),\n",
       " ('उसमें', 199),\n",
       " ('live', 199),\n",
       " ('programme', 199),\n",
       " ('tax', 199),\n",
       " ('information', 198),\n",
       " ('à¤\\x9cà¤¾à¤\\x8fà¤\\x97à¤¾à¥¤', 198),\n",
       " ('à¤¨à¤¯à¤¾', 198),\n",
       " ('billion', 198),\n",
       " ('talk', 197),\n",
       " ('à¤\\x87à¤¸à¥\\x80', 197),\n",
       " ('à¤¾', 197),\n",
       " ('क्षेत्र', 197),\n",
       " ('दिन', 197),\n",
       " ('increase', 197),\n",
       " ('meet', 196),\n",
       " ('à¤\\x95à¥\\x8dâ\\x80\\x8dà¤¯à¥\\x8bà¤\\x82à¤\\x95à¤', 196),\n",
       " ('class', 196),\n",
       " ('area', 196),\n",
       " ('5', 195),\n",
       " ('à¤¬à¤¢à¤¼', 195),\n",
       " ('करोड़', 195),\n",
       " ('थे।', 195),\n",
       " ('community', 194),\n",
       " ('foundation', 194),\n",
       " ('à¤\\xadà¤°', 194),\n",
       " ('जिस', 194),\n",
       " ('due', 193),\n",
       " ('à¤¹à¤¾à¤¥', 193),\n",
       " ('à¤µà¥\\x8dà¤¯à¤µà¤¸à¥\\x8dà¤¥à¤¾', 193),\n",
       " ('à¤ªà¤¾à¤\\x82à¤\\x9a', 193),\n",
       " ('modi', 192),\n",
       " ('à¤\\x95à¤¹à¤¾à¤\\x82', 192),\n",
       " ('several', 192),\n",
       " ('उन', 192),\n",
       " ('20', 192),\n",
       " ('à¤\\x9aà¤à¤\\x82à¤¤à¤¾', 191),\n",
       " ('huge', 190),\n",
       " ('75', 190),\n",
       " ('लिये', 190),\n",
       " ('home', 189),\n",
       " ('योजना', 189),\n",
       " ('नई', 189),\n",
       " ('indias', 188),\n",
       " ('companies', 188),\n",
       " ('indians', 188),\n",
       " ('à¤¸à¥\\x87à¤µà¤¾', 188),\n",
       " ('commitment', 188),\n",
       " ('बन', 188),\n",
       " ('farmer', 188),\n",
       " ('à¤ªà¥\\x8dà¤°à¥\\x87à¤°à¤£à¤¾', 187),\n",
       " ('à¤¹à¥\\x8bà¤\\x82', 187),\n",
       " ('à¤®à¤¦à¤¦', 187),\n",
       " ('à¤\\x95à¥\\x8bà¤¶à¤à¤¶', 187),\n",
       " ('launched', 187),\n",
       " ('campaign', 187),\n",
       " ('इतना', 187),\n",
       " ('clean', 186),\n",
       " ('à¤\\x95à¤à¤¯à¤¾à¥¤', 186),\n",
       " ('आपके', 186),\n",
       " ('hundred', 185),\n",
       " ('à¤¸à¤¹à¥\\x80', 185),\n",
       " ('जहां', 185),\n",
       " ('needs', 185),\n",
       " ('centre', 185),\n",
       " ('natural', 185),\n",
       " ('path', 185),\n",
       " ('agreed', 185),\n",
       " ('mind', 184),\n",
       " ('mobile', 184),\n",
       " ('à¤¦à¥\\x87à¤¶à¤µà¤¾à¤¸à¤à¤¯à¥\\x8bà¤\\x82', 184),\n",
       " ('political', 184),\n",
       " ('à¤ªà¤¹à¤²à¥\\x80', 184),\n",
       " ('à¥¤', 184),\n",
       " ('à¤µà¤à¤\\x9aà¤¾à¤°', 183),\n",
       " ('à¤¬à¤¦à¤²', 183),\n",
       " ('à¤¤à¥\\x80à¤¨', 183),\n",
       " ('interest', 183),\n",
       " ('space', 182),\n",
       " ('à¤\\xadà¤à¤¯à¤¾à¤¨', 182),\n",
       " ('à¤\\x95à¥\\x8cà¤¨', 182),\n",
       " ('à¤\\x9aà¥\\x8dâ\\x80\\x8dà¤\\x9bà¤¾', 182),\n",
       " ('à¤¸à¤\\x82à¤¬à¤\\x82à¤§', 182),\n",
       " ('law', 182),\n",
       " ('since', 181),\n",
       " ('à¤\\x86à¤¤à¥\\x87', 181),\n",
       " ('potential', 181),\n",
       " ('experience', 181),\n",
       " ('nature', 181),\n",
       " ('electricity', 181),\n",
       " ('field', 180),\n",
       " ('united', 180),\n",
       " ('à¤\\xadà¤¾à¤\\x88', 180),\n",
       " ('à¤\\x86à¤\\x97à¥\\x8dà¤°à¤¹', 180),\n",
       " ('à¤¯à¤¾à¤¦', 180),\n",
       " ('within', 180),\n",
       " ('à¤\\x9cà¤¾à¤\\x8fà¤\\x97à¤¾', 180),\n",
       " ('समाज', 180),\n",
       " ('issues', 180),\n",
       " ('leadership', 180),\n",
       " ('mannkibaat', 180),\n",
       " ('30', 178),\n",
       " ('contribution', 178),\n",
       " ('à¤¸à¤¬à¤\\x95à¥\\x8b', 178),\n",
       " ('à¤¤à¤¾à¤\\x95à¤', 178),\n",
       " ('होगा।', 178),\n",
       " ('governments', 178),\n",
       " ('sports', 178),\n",
       " ('prosperity', 178),\n",
       " ('occasion', 177),\n",
       " ('past', 177),\n",
       " ('independence', 177),\n",
       " ('reach', 177),\n",
       " ('à¤°à¤¹à¤¤à¥\\x80', 177),\n",
       " ('à¤\\x89à¤¸à¥\\x87', 177),\n",
       " ('summit', 177),\n",
       " ('meeting', 176),\n",
       " ('keep', 176),\n",
       " ('services', 176),\n",
       " ('à¤\\x9aà¤¾à¤¹à¥\\x87', 176),\n",
       " ('à¤®à¥\\x8bà¤¦à¥\\x80', 176),\n",
       " ('engagement', 176),\n",
       " ('democracy', 176),\n",
       " ('july', 176),\n",
       " ('relations', 175),\n",
       " ('everyone', 175),\n",
       " ('à¤\\x95à¤à¤¸à¤¾à¤¨à¥\\x8bà¤\\x82', 175),\n",
       " ('2014', 175),\n",
       " ('à¤¹à¤à¤\\x82à¤¦à¥\\x81à¤¸à¥\\x8dâ\\x80\\x8dà¤¤à¤¾à¤¨', 175),\n",
       " ('हुई', 175),\n",
       " ('proud', 174),\n",
       " ('à¤¯à¤¾à¤¤à¥\\x8dà¤°à¤¾', 174),\n",
       " ('possible', 174),\n",
       " ('another', 174),\n",
       " ('à¤\\x95à¤à¤¤à¤¨à¥\\x80', 174),\n",
       " ('ऐसी', 173),\n",
       " ('चाहिए।', 173),\n",
       " ('ensure', 173),\n",
       " ('process', 172),\n",
       " ('dreams', 172),\n",
       " ('किसान', 172),\n",
       " ('resources', 172),\n",
       " ('therefore', 172),\n",
       " ('crores', 171),\n",
       " ('parliament', 171),\n",
       " ('à¤\\x9cà¤à¤\\x82à¤¦à¤\\x97à¥\\x80', 171),\n",
       " ('अभी', 171),\n",
       " ('à¤ªà¤°à¤à¤£à¤¾à¤®', 171),\n",
       " ('financial', 170),\n",
       " ('à¤¬à¤§à¤¾à¤\\x88', 170),\n",
       " ('à¤\\x86à¤\\x88', 170),\n",
       " ('आजादी', 170),\n",
       " ('old', 170),\n",
       " ('sri', 170),\n",
       " ('bilateral', 170),\n",
       " ('à¤²', 169),\n",
       " ('continue', 169),\n",
       " ('à¥\\x80à¤\\x95', 169),\n",
       " ('आया', 169),\n",
       " ('families', 169),\n",
       " ('देने', 169),\n",
       " ('à¤\\x96à¥\\x81à¤¦', 168),\n",
       " ('à¤\\xadà¤à¤¨à¤\\x82à¤¦à¤¨', 168),\n",
       " ('tell', 168),\n",
       " ('wish', 168),\n",
       " ('à¤\\x97à¤°à¥\\x8dà¤µ', 168),\n",
       " ('à¤®à¤à¤²à¤¤à¤¾', 168),\n",
       " ('strategic', 168),\n",
       " ('leaders', 168),\n",
       " ('confidence', 167),\n",
       " ('account', 167),\n",
       " ('बीच', 167),\n",
       " ('सिर्फ', 167),\n",
       " ('दिशा', 167),\n",
       " ('means', 166),\n",
       " ('high', 166),\n",
       " ('à¤\\x97à¥\\x88à¤¸', 166),\n",
       " ('विश्व', 166),\n",
       " ('per', 166),\n",
       " ('bharat', 165),\n",
       " ('à¤®à¤¹à¥\\x80à¤¨à¥\\x87', 165),\n",
       " ('à¤\\xadà¤¾à¤°à¤¤à¥\\x80à¤¯', 165),\n",
       " ('example', 164),\n",
       " ('à¤\\xadà¤¾à¤µ', 164),\n",
       " ('उसकी', 164),\n",
       " ('university', 164),\n",
       " ('created', 163),\n",
       " ('road', 163),\n",
       " ('message', 163),\n",
       " ('months', 163),\n",
       " ('brics', 163),\n",
       " ('values', 162),\n",
       " ('40', 162),\n",
       " ('à¤\\x97à¥\\x81à¤\\x9cà¤°à¤¾à¤¤', 162),\n",
       " ('à¤¦à¥\\x87à¤\\x96à¤¤à¥\\x87', 162),\n",
       " ('à¤¸à¤¾à¤®à¤¾à¤¨à¥\\x8dâ\\x80\\x8dà¤¯', 162),\n",
       " ('à¤\\x95à¤°à¥\\x80à¤¬', 162),\n",
       " ('दे', 162),\n",
       " ('pradesh', 162),\n",
       " ('related', 162),\n",
       " ('corruption', 162),\n",
       " ('gandhi', 161),\n",
       " ('remember', 161),\n",
       " ('climate', 161),\n",
       " ('june', 161),\n",
       " ('respect', 160),\n",
       " ('à¤¹à¤à¤\\x82à¤¦à¥\\x81à¤¸à¥\\x8dà¤¤à¤¾à¤¨', 160),\n",
       " ('à¤\\x9cà¤à¤¤à¤¨à¤¾', 160),\n",
       " ('journey', 160),\n",
       " ('decision', 160),\n",
       " ('told', 159),\n",
       " ('à¤\\x96à¤à¤¼à¤¾', 159),\n",
       " ('focus', 159),\n",
       " ('understand', 158),\n",
       " ('à¤\\x9aà¤²à¥\\x87', 158),\n",
       " ('steps', 158),\n",
       " ('department', 158),\n",
       " ('app', 157),\n",
       " ('start', 157),\n",
       " ('à¤\\x95à¤¦à¤®', 157),\n",
       " ('thing', 157),\n",
       " ('hard', 157),\n",
       " ('north', 157),\n",
       " ('revolution', 157),\n",
       " ('especially', 156),\n",
       " ('à¤¬à¤¾à¤¬à¤¾', 156),\n",
       " ('à¤\\x9aà¥\\x80à¤\\x9c', 156),\n",
       " ('à¤¸à¤\\x82à¤\\x95à¤\\x9f', 156),\n",
       " ('à¤¨à¤\\x8f', 156),\n",
       " ('à¤¯à¥\\x81à¤µà¤¾', 156),\n",
       " ('income', 156),\n",
       " ('modern', 155),\n",
       " ('à¤\\x9aà¤²à¤¤à¤¾', 155),\n",
       " ('decided', 155),\n",
       " ('à¤°à¥\\x8bà¤\\x9cà¤\\x97à¤¾à¤°', 155),\n",
       " ('force', 155),\n",
       " ('लेकर', 155),\n",
       " ('मन', 155),\n",
       " ('होगी', 155),\n",
       " ('regional', 155),\n",
       " ('à¤¬à¤¨à¥\\x87', 154),\n",
       " ('à¤°à¤¾à¤\\x9cà¥\\x8dâ\\x80\\x8dà¤¯', 154),\n",
       " ('ahead', 154),\n",
       " ('matter', 154),\n",
       " ('connected', 154),\n",
       " ('connect', 154),\n",
       " ('present', 153),\n",
       " ('direction', 153),\n",
       " ('à¤¦à¤à¤¯à¤¾à¥¤', 153),\n",
       " ('shri', 153),\n",
       " ('delhi', 153),\n",
       " ('competition', 153),\n",
       " ('move', 152),\n",
       " ('à¤\\x95à¥\\x8dà¤¯à¥\\x8bà¤\\x82à¤\\x95à¤', 152),\n",
       " ('gas', 152),\n",
       " ('various', 151),\n",
       " ('करें', 151),\n",
       " ('जाए', 151),\n",
       " ('à¤\\xadà¤¾à¤\\x87à¤¯à¥\\x8bà¤\\x82', 151),\n",
       " ('april', 151),\n",
       " ('increased', 150),\n",
       " ('à¤¤à¤°à¤¹', 150),\n",
       " ('mr', 150),\n",
       " ('team', 150),\n",
       " ('already', 150),\n",
       " ('cleanliness', 150),\n",
       " ('à¤\\x95à¤°à¤¤à¥\\x80', 149),\n",
       " ('18', 149),\n",
       " ...]"
      ]
     },
     "execution_count": 31,
     "metadata": {},
     "output_type": "execute_result"
    }
   ],
   "source": [
    "# See sorted frequency distribution of all tokens\n",
    "\n",
    "nltk.FreqDist(all_tokens).most_common()"
   ]
  },
  {
   "cell_type": "code",
   "execution_count": 32,
   "metadata": {},
   "outputs": [],
   "source": [
    "of_interest = [ \"country\",\"people\",\"gorvernment\",\"freedom\", \"democracy\", \"nation\", \"world\",\n",
    "    \"environment\", \"oil\", \"soil\", \"jobs\", \"education\", \"employment\", \"security\",\n",
    "    \"terrorism\", \"pakistan\", \"china\", \"russia\", \"america\", \"terrorist\", \"gst\", \"pulwama\",\n",
    "    \"surgical\", \"smart\", \"growth\", \"strike\", \"kashmir\",\"violence\", \"rahul\", \"money\", \"election\", \"friends\", \"backward\",\n",
    "    \"gujarat\", \"suicide\",\"farmers\", \"development\", \"startup\", \"healthcare\", \"kisan\",\"tourism\", \"army\",\"corruption\"]"
   ]
  },
  {
   "cell_type": "code",
   "execution_count": 33,
   "metadata": {},
   "outputs": [],
   "source": [
    "# filtering list of all tokens based on list of words of interest\n",
    "\n",
    "tokens_of_interest = [w for w in all_tokens if w in of_interest]"
   ]
  },
  {
   "cell_type": "code",
   "execution_count": 34,
   "metadata": {},
   "outputs": [],
   "source": [
    "# joining list in string\n",
    "\n",
    "tokens_of_interest_str = ' '.join(tokens_of_interest)"
   ]
  },
  {
   "cell_type": "code",
   "execution_count": 35,
   "metadata": {},
   "outputs": [],
   "source": [
    "# writing it to a txt file\n",
    "\n",
    "with open('A:\\\\Data Analysis Jupyter\\\\Campaign-Analytics\\\\Code\\\\Analysis\\\\tokens_of_interest_str.txt', 'a') as f:\n",
    "    f.write(tokens_of_interest_str)"
   ]
  },
  {
   "cell_type": "code",
   "execution_count": 36,
   "metadata": {},
   "outputs": [],
   "source": [
    "fdist = nltk.FreqDist(tokens_of_interest)"
   ]
  },
  {
   "cell_type": "code",
   "execution_count": 37,
   "metadata": {},
   "outputs": [
    {
     "data": {
      "text/plain": [
       "[('people', 2262),\n",
       " ('country', 1775),\n",
       " ('world', 1682),\n",
       " ('development', 1147),\n",
       " ('nation', 619),\n",
       " ('farmers', 554),\n",
       " ('security', 509),\n",
       " ('growth', 381),\n",
       " ('friends', 350),\n",
       " ('money', 330),\n",
       " ('environment', 320),\n",
       " ('education', 278),\n",
       " ('terrorism', 231),\n",
       " ('freedom', 219),\n",
       " ('gujarat', 214),\n",
       " ('tourism', 209),\n",
       " ('democracy', 176),\n",
       " ('corruption', 162),\n",
       " ('employment', 147),\n",
       " ('smart', 144),\n",
       " ('gst', 144),\n",
       " ('soil', 131),\n",
       " ('startup', 126),\n",
       " ('china', 109),\n",
       " ('jobs', 89),\n",
       " ('healthcare', 87),\n",
       " ('army', 66),\n",
       " ('violence', 65),\n",
       " ('election', 59),\n",
       " ('russia', 56),\n",
       " ('kashmir', 51),\n",
       " ('kisan', 35),\n",
       " ('terrorist', 32),\n",
       " ('oil', 27),\n",
       " ('america', 26),\n",
       " ('strike', 22),\n",
       " ('pakistan', 22),\n",
       " ('backward', 17),\n",
       " ('surgical', 17),\n",
       " ('pulwama', 12),\n",
       " ('rahul', 3),\n",
       " ('suicide', 2)]"
      ]
     },
     "execution_count": 37,
     "metadata": {},
     "output_type": "execute_result"
    }
   ],
   "source": [
    "fdist.most_common()"
   ]
  },
  {
   "cell_type": "code",
   "execution_count": 38,
   "metadata": {},
   "outputs": [],
   "source": [
    "from os import path\n",
    "from PIL import Image\n",
    "from wordcloud import WordCloud, STOPWORDS"
   ]
  },
  {
   "cell_type": "code",
   "execution_count": 39,
   "metadata": {},
   "outputs": [],
   "source": [
    "d = path.dirname('A:\\\\Data Analysis Jupyter\\\\Campaign-Analytics\\\\Code\\\\Analysis\\\\tokens_of_interest_str.txt')"
   ]
  },
  {
   "cell_type": "code",
   "execution_count": 40,
   "metadata": {},
   "outputs": [],
   "source": [
    "# read the whole text\n",
    "text = open(path.join(d, 'A:\\\\Data Analysis Jupyter\\\\Campaign-Analytics\\\\Code\\\\Analysis\\\\tokens_of_interest_str.txt')).read()"
   ]
  },
  {
   "cell_type": "code",
   "execution_count": 41,
   "metadata": {},
   "outputs": [],
   "source": [
    "# read the mask image \n",
    "india_base = np.array(Image.open(path.join(d, \"A:\\\\Data Analysis Jupyter\\\\Campaign-Analytics\\\\Code\\\\Analysis\\\\india_mask1.jpg\")))"
   ]
  },
  {
   "cell_type": "code",
   "execution_count": 42,
   "metadata": {},
   "outputs": [],
   "source": [
    "stopwords = set(STOPWORDS)"
   ]
  },
  {
   "cell_type": "code",
   "execution_count": 43,
   "metadata": {},
   "outputs": [],
   "source": [
    "wc = WordCloud(background_color = \"white\", max_words = 2500, mask = india_base,\n",
    "              stopwords = stopwords, contour_width = 3, contour_color = 'steelblue')"
   ]
  },
  {
   "cell_type": "code",
   "execution_count": 44,
   "metadata": {},
   "outputs": [
    {
     "data": {
      "text/plain": [
       "<wordcloud.wordcloud.WordCloud at 0x2027859b0b8>"
      ]
     },
     "execution_count": 44,
     "metadata": {},
     "output_type": "execute_result"
    }
   ],
   "source": [
    "wc.generate(text)"
   ]
  },
  {
   "cell_type": "code",
   "execution_count": 45,
   "metadata": {},
   "outputs": [
    {
     "data": {
      "text/plain": [
       "<wordcloud.wordcloud.WordCloud at 0x2027859b0b8>"
      ]
     },
     "execution_count": 45,
     "metadata": {},
     "output_type": "execute_result"
    }
   ],
   "source": [
    "wc.to_file(path.join(d, \"wordcloud.png\"))"
   ]
  },
  {
   "cell_type": "code",
   "execution_count": 46,
   "metadata": {},
   "outputs": [
    {
     "data": {
      "image/png": "[encoded data removed]",
      "text/plain": [
       "<Figure size 432x288 with 1 Axes>"
      ]
     },
     "metadata": {},
     "output_type": "display_data"
    },
    {
     "data": {
      "image/png": "[encoded data removed]",
      "text/plain": [
       "<Figure size 432x288 with 1 Axes>"
      ]
     },
     "metadata": {},
     "output_type": "display_data"
    }
   ],
   "source": [
    "plt.imshow(wc)\n",
    "plt.axis(\"off\")\n",
    "plt.figure()\n",
    "plt.imshow(india_base, cmap = plt.cm.gray)\n",
    "plt.axis(\"off\")\n",
    "plt.show()"
   ]
  },
  {
   "cell_type": "code",
   "execution_count": 47,
   "metadata": {},
   "outputs": [
    {
     "data": {
      "text/html": [
       "<div>\n",
       "<style scoped>\n",
       "    .dataframe tbody tr th:only-of-type {\n",
       "        vertical-align: middle;\n",
       "    }\n",
       "\n",
       "    .dataframe tbody tr th {\n",
       "        vertical-align: top;\n",
       "    }\n",
       "\n",
       "    .dataframe thead th {\n",
       "        text-align: right;\n",
       "    }\n",
       "</style>\n",
       "<table border=\"1\" class=\"dataframe\">\n",
       "  <thead>\n",
       "    <tr style=\"text-align: right;\">\n",
       "      <th></th>\n",
       "      <th>Year</th>\n",
       "      <th>Month</th>\n",
       "      <th>Day</th>\n",
       "      <th>Title</th>\n",
       "      <th>Speech</th>\n",
       "      <th>Date</th>\n",
       "      <th>no_punct</th>\n",
       "      <th>tokens</th>\n",
       "      <th>no_stopwords</th>\n",
       "      <th>nltk_Text</th>\n",
       "    </tr>\n",
       "  </thead>\n",
       "  <tbody>\n",
       "    <tr>\n",
       "      <th>517</th>\n",
       "      <td>2019</td>\n",
       "      <td>2</td>\n",
       "      <td>Tuesday</td>\n",
       "      <td>2019\\26_02_2019_PM’s speech at unveiling cerem...</td>\n",
       "      <td>﻿Hare Krishna - Hare KrishnaAshok's Chairman P...</td>\n",
       "      <td>2019-02-26</td>\n",
       "      <td>﻿hare krishna  hare krishnaashoks chairman puj...</td>\n",
       "      <td>[﻿hare, krishna, hare, krishnaashoks, chairman...</td>\n",
       "      <td>[﻿hare, krishna, hare, krishnaashoks, chairman...</td>\n",
       "      <td>(﻿hare, krishna, hare, krishnaashoks, chairman...</td>\n",
       "    </tr>\n",
       "    <tr>\n",
       "      <th>518</th>\n",
       "      <td>2019</td>\n",
       "      <td>3</td>\n",
       "      <td>Friday</td>\n",
       "      <td>2019\\01_03_2019_PM’s address after launch of d...</td>\n",
       "      <td>﻿Friends.\\nI am delighted to be here in Kanyak...</td>\n",
       "      <td>2019-03-01</td>\n",
       "      <td>﻿friends\\ni am delighted to be here in kanyaku...</td>\n",
       "      <td>[﻿friends, i, am, delighted, to, be, here, in,...</td>\n",
       "      <td>[﻿friends, delighted, kanyakumari, begin, payi...</td>\n",
       "      <td>(﻿friends, delighted, kanyakumari, begin, payi...</td>\n",
       "    </tr>\n",
       "    <tr>\n",
       "      <th>519</th>\n",
       "      <td>2019</td>\n",
       "      <td>3</td>\n",
       "      <td>Saturday</td>\n",
       "      <td>2019\\02_03_2019_PM’s address at the India Toda...</td>\n",
       "      <td>﻿Arun Puri, Chairman and Editor-in-Chief of In...</td>\n",
       "      <td>2019-03-02</td>\n",
       "      <td>﻿arun puri chairman and editorinchief of india...</td>\n",
       "      <td>[﻿arun, puri, chairman, and, editorinchief, of...</td>\n",
       "      <td>[﻿arun, puri, chairman, editorinchief, india, ...</td>\n",
       "      <td>(﻿arun, puri, chairman, editorinchief, india, ...</td>\n",
       "    </tr>\n",
       "    <tr>\n",
       "      <th>520</th>\n",
       "      <td>2019</td>\n",
       "      <td>3</td>\n",
       "      <td>Saturday</td>\n",
       "      <td>2019\\02_03_2019_PM’s opening remarks on the oc...</td>\n",
       "      <td>﻿Congratulations to all the young colleagues w...</td>\n",
       "      <td>2019-03-02</td>\n",
       "      <td>﻿congratulations to all the young colleagues w...</td>\n",
       "      <td>[﻿congratulations, to, all, the, young, collea...</td>\n",
       "      <td>[﻿congratulations, young, colleagues, working,...</td>\n",
       "      <td>(﻿congratulations, young, colleagues, working,...</td>\n",
       "    </tr>\n",
       "    <tr>\n",
       "      <th>521</th>\n",
       "      <td>2019</td>\n",
       "      <td>10</td>\n",
       "      <td>Friday</td>\n",
       "      <td>2019\\25_10_2019_PM’s Address at India-South Af...</td>\n",
       "      <td>﻿The President of the Republic of South Africa...</td>\n",
       "      <td>2019-10-25</td>\n",
       "      <td>﻿the president of the republic of south africa...</td>\n",
       "      <td>[﻿the, president, of, the, republic, of, south...</td>\n",
       "      <td>[﻿the, president, republic, south, africa, exc...</td>\n",
       "      <td>(﻿the, president, republic, south, africa, exc...</td>\n",
       "    </tr>\n",
       "  </tbody>\n",
       "</table>\n",
       "</div>"
      ],
      "text/plain": [
       "     Year  Month       Day                                              Title  \\\n",
       "517  2019      2   Tuesday  2019\\26_02_2019_PM’s speech at unveiling cerem...   \n",
       "518  2019      3    Friday  2019\\01_03_2019_PM’s address after launch of d...   \n",
       "519  2019      3  Saturday  2019\\02_03_2019_PM’s address at the India Toda...   \n",
       "520  2019      3  Saturday  2019\\02_03_2019_PM’s opening remarks on the oc...   \n",
       "521  2019     10    Friday  2019\\25_10_2019_PM’s Address at India-South Af...   \n",
       "\n",
       "                                                Speech       Date  \\\n",
       "517  ﻿Hare Krishna - Hare KrishnaAshok's Chairman P... 2019-02-26   \n",
       "518  ﻿Friends.\\nI am delighted to be here in Kanyak... 2019-03-01   \n",
       "519  ﻿Arun Puri, Chairman and Editor-in-Chief of In... 2019-03-02   \n",
       "520  ﻿Congratulations to all the young colleagues w... 2019-03-02   \n",
       "521  ﻿The President of the Republic of South Africa... 2019-10-25   \n",
       "\n",
       "                                              no_punct  \\\n",
       "517  ﻿hare krishna  hare krishnaashoks chairman puj...   \n",
       "518  ﻿friends\\ni am delighted to be here in kanyaku...   \n",
       "519  ﻿arun puri chairman and editorinchief of india...   \n",
       "520  ﻿congratulations to all the young colleagues w...   \n",
       "521  ﻿the president of the republic of south africa...   \n",
       "\n",
       "                                                tokens  \\\n",
       "517  [﻿hare, krishna, hare, krishnaashoks, chairman...   \n",
       "518  [﻿friends, i, am, delighted, to, be, here, in,...   \n",
       "519  [﻿arun, puri, chairman, and, editorinchief, of...   \n",
       "520  [﻿congratulations, to, all, the, young, collea...   \n",
       "521  [﻿the, president, of, the, republic, of, south...   \n",
       "\n",
       "                                          no_stopwords  \\\n",
       "517  [﻿hare, krishna, hare, krishnaashoks, chairman...   \n",
       "518  [﻿friends, delighted, kanyakumari, begin, payi...   \n",
       "519  [﻿arun, puri, chairman, editorinchief, india, ...   \n",
       "520  [﻿congratulations, young, colleagues, working,...   \n",
       "521  [﻿the, president, republic, south, africa, exc...   \n",
       "\n",
       "                                             nltk_Text  \n",
       "517  (﻿hare, krishna, hare, krishnaashoks, chairman...  \n",
       "518  (﻿friends, delighted, kanyakumari, begin, payi...  \n",
       "519  (﻿arun, puri, chairman, editorinchief, india, ...  \n",
       "520  (﻿congratulations, young, colleagues, working,...  \n",
       "521  (﻿the, president, republic, south, africa, exc...  "
      ]
     },
     "execution_count": 47,
     "metadata": {},
     "output_type": "execute_result"
    }
   ],
   "source": [
    "speeches.tail()"
   ]
  },
  {
   "cell_type": "code",
   "execution_count": 48,
   "metadata": {},
   "outputs": [],
   "source": [
    "from collections import Counter"
   ]
  },
  {
   "cell_type": "code",
   "execution_count": 49,
   "metadata": {},
   "outputs": [],
   "source": [
    "def col_counter(list_of_words, word):\n",
    "    counter = Counter(w for w in list_of_words if w in word)\n",
    "    return counter[word]"
   ]
  },
  {
   "cell_type": "code",
   "execution_count": 50,
   "metadata": {},
   "outputs": [],
   "source": [
    "speeches['peace'] = [col_counter(speeches['no_stopwords'][i], 'peace') for i in range(len(speeches['no_stopwords']))]"
   ]
  },
  {
   "cell_type": "code",
   "execution_count": 51,
   "metadata": {},
   "outputs": [],
   "source": [
    "speeches['terrorism'] = [col_counter(speeches['no_stopwords'][i], 'terrorism') for i in range(len(speeches['no_stopwords']))]"
   ]
  },
  {
   "cell_type": "code",
   "execution_count": 52,
   "metadata": {},
   "outputs": [
    {
     "data": {
      "image/png": "[encoded data removed]",
      "text/plain": [
       "<Figure size 432x288 with 1 Axes>"
      ]
     },
     "metadata": {},
     "output_type": "display_data"
    }
   ],
   "source": [
    "peace_by_month = by_year_month['peace'].agg('sum')\n",
    "terrorism_by_month = by_year_month['terrorism'].agg('sum')\n",
    "peace_by_month.plot()\n",
    "terrorism_by_month.plot()\n",
    "plt.title(\"Use of the words 'peace' and 'terrorism' (Jan 2014 to March-2019)\", fontdict={'fontsize': 20,\\\n",
    "                                                                                'verticalalignment': 'bottom'})\n",
    "plt.ylabel(\"Number of mentions\", fontdict={'fontsize': 14})\n",
    "plt.xlabel(\"Month\", fontdict={'fontsize': 14})\n",
    "labels = month_labels\n",
    "plt.xticks(range(68), labels, rotation='vertical')\n",
    "plt.axvline(x=26, linewidth=1, color='b')\n",
    "plt.legend(['peace', 'terrorism'], loc='upper left');"
   ]
  },
  {
   "cell_type": "markdown",
   "metadata": {},
   "source": [
    "### Public Policy Areas"
   ]
  },
  {
   "cell_type": "code",
   "execution_count": 53,
   "metadata": {},
   "outputs": [],
   "source": [
    "speeches['education'] = [col_counter(speeches['no_stopwords'][i], 'education') for i in range(len(speeches['no_stopwords']))]"
   ]
  },
  {
   "cell_type": "code",
   "execution_count": 54,
   "metadata": {},
   "outputs": [],
   "source": [
    "speeches['poverty'] = [col_counter(speeches['no_stopwords'][i], 'poverty') for i in range(len(speeches['no_stopwords']))]"
   ]
  },
  {
   "cell_type": "code",
   "execution_count": 55,
   "metadata": {},
   "outputs": [],
   "source": [
    "speeches['entrepreneurship'] = [col_counter(speeches['no_stopwords'][i], 'entrepreneurship') for i in range(len(speeches['no_stopwords']))]"
   ]
  },
  {
   "cell_type": "code",
   "execution_count": 56,
   "metadata": {},
   "outputs": [],
   "source": [
    "speeches['buisness'] = [col_counter(speeches['no_stopwords'][i], 'buisness') for i in range(len(speeches['no_stopwords']))]"
   ]
  },
  {
   "cell_type": "code",
   "execution_count": 57,
   "metadata": {},
   "outputs": [],
   "source": [
    "speeches['innovation'] = [col_counter(speeches['no_stopwords'][i], 'innovation') for i in range(len(speeches['no_stopwords']))]"
   ]
  },
  {
   "cell_type": "code",
   "execution_count": 58,
   "metadata": {},
   "outputs": [],
   "source": [
    "speeches['industry'] = [col_counter(speeches['no_stopwords'][i], 'industry') for i in range(len(speeches['no_stopwords']))]"
   ]
  },
  {
   "cell_type": "code",
   "execution_count": 59,
   "metadata": {},
   "outputs": [],
   "source": [
    "speeches['commercial'] = [col_counter(speeches['no_stopwords'][i], 'commercial') for i in range(len(speeches['no_stopwords']))]"
   ]
  },
  {
   "cell_type": "code",
   "execution_count": null,
   "metadata": {},
   "outputs": [],
   "source": []
  },
  {
   "cell_type": "code",
   "execution_count": 60,
   "metadata": {},
   "outputs": [],
   "source": [
    "speeches['employment'] = [col_counter(speeches['no_stopwords'][i], 'employment') for i in range(len(speeches['no_stopwords']))]"
   ]
  },
  {
   "cell_type": "code",
   "execution_count": 61,
   "metadata": {},
   "outputs": [],
   "source": [
    "speeches['defense'] = [col_counter(speeches['no_stopwords'][i], 'defense') for i in range(len(speeches['no_stopwords']))]"
   ]
  },
  {
   "cell_type": "code",
   "execution_count": 62,
   "metadata": {},
   "outputs": [],
   "source": [
    "speeches['criminal'] = [col_counter(speeches['no_stopwords'][i], 'criminal') for i in range(len(speeches['no_stopwords']))]"
   ]
  },
  {
   "cell_type": "code",
   "execution_count": 63,
   "metadata": {},
   "outputs": [],
   "source": [
    "speeches['health'] = [col_counter(speeches['no_stopwords'][i], 'health') for i in range(len(speeches['no_stopwords']))]"
   ]
  },
  {
   "cell_type": "code",
   "execution_count": 64,
   "metadata": {},
   "outputs": [],
   "source": [
    "speeches['environment'] = [col_counter(speeches['no_stopwords'][i], 'environment') for i in range(len(speeches['no_stopwords']))]"
   ]
  },
  {
   "cell_type": "code",
   "execution_count": 65,
   "metadata": {},
   "outputs": [],
   "source": [
    "speeches['trade'] = [col_counter(speeches['no_stopwords'][i], 'trade') for i in range(len(speeches['no_stopwords']))]"
   ]
  },
  {
   "cell_type": "code",
   "execution_count": 66,
   "metadata": {},
   "outputs": [],
   "source": [
    "speeches['nuclear'] = [col_counter(speeches['no_stopwords'][i], 'nuclear') for i in range(len(speeches['no_stopwords']))]"
   ]
  },
  {
   "cell_type": "code",
   "execution_count": 67,
   "metadata": {},
   "outputs": [],
   "source": [
    "speeches['farmers'] = [col_counter(speeches['no_stopwords'][i], 'farmer') for i in range(len(speeches['no_stopwords']))]"
   ]
  },
  {
   "cell_type": "code",
   "execution_count": 68,
   "metadata": {},
   "outputs": [],
   "source": [
    "speeches['kashmir'] = [col_counter(speeches['no_stopwords'][i], 'kashmir') for i in range(len(speeches['no_stopwords']))]"
   ]
  },
  {
   "cell_type": "code",
   "execution_count": 69,
   "metadata": {},
   "outputs": [],
   "source": [
    "speeches['transport'] = [col_counter(speeches['no_stopwords'][i], 'transport') for i in range(len(speeches['no_stopwords']))]"
   ]
  },
  {
   "cell_type": "code",
   "execution_count": 70,
   "metadata": {},
   "outputs": [],
   "source": [
    "speeches['cleanliness'] = [col_counter(speeches['no_stopwords'][i], 'cleanliness') for i in range(len(speeches['no_stopwords']))]"
   ]
  },
  {
   "cell_type": "code",
   "execution_count": 71,
   "metadata": {},
   "outputs": [],
   "source": [
    "speeches['infrastructure'] = [col_counter(speeches['no_stopwords'][i], 'infrastructure') for i in range(len(speeches['no_stopwords']))]"
   ]
  },
  {
   "cell_type": "code",
   "execution_count": 72,
   "metadata": {},
   "outputs": [],
   "source": [
    "speeches['technology'] = [col_counter(speeches['no_stopwords'][i], 'technology') for i in range(len(speeches['no_stopwords']))]"
   ]
  },
  {
   "cell_type": "code",
   "execution_count": 73,
   "metadata": {},
   "outputs": [],
   "source": [
    "speeches['yoga'] = [col_counter(speeches['no_stopwords'][i], 'yoga') for i in range(len(speeches['no_stopwords']))]"
   ]
  },
  {
   "cell_type": "code",
   "execution_count": 74,
   "metadata": {},
   "outputs": [],
   "source": [
    "speeches['hindu'] = [col_counter(speeches['no_stopwords'][i], 'hindu') for i in range(len(speeches['no_stopwords']))]"
   ]
  },
  {
   "cell_type": "code",
   "execution_count": 75,
   "metadata": {},
   "outputs": [],
   "source": [
    "speeches['muslim'] = [col_counter(speeches['no_stopwords'][i], 'muslim') for i in range(len(speeches['no_stopwords']))]"
   ]
  },
  {
   "cell_type": "code",
   "execution_count": 76,
   "metadata": {},
   "outputs": [],
   "source": [
    "education_by_month = by_year_month['education'].agg('sum')\n",
    "poverty_by_month = by_year_month['poverty'].agg('sum')\n",
    "entrepreneurship_by_month = by_year_month['entrepreneurship'].agg('sum')\n",
    "buisness_by_month = by_year_month['buisness'].agg('sum')\n",
    "innovation_by_month = by_year_month['innovation'].agg('sum')\n",
    "industry_by_month = by_year_month['industry'].agg('sum')\n",
    "commercial_by_month = by_year_month['commercial'].agg('sum')\n",
    "employment_by_month = by_year_month['employment'].agg('sum')\n",
    "defense_by_month = by_year_month['defense'].agg('sum')\n",
    "criminal_by_month = by_year_month['criminal'].agg('sum')\n",
    "health_by_month = by_year_month['health'].agg('sum')\n",
    "environment_by_month = by_year_month['environment'].agg('sum')\n",
    "trade_by_month = by_year_month['trade'].agg('sum')\n",
    "health_by_month = by_year_month['health'].agg('sum')\n",
    "nuclear_by_month = by_year_month['nuclear'].agg('sum')\n",
    "farmers_by_month = by_year_month['farmers'].agg('sum')\n",
    "transport_by_month = by_year_month['transport'].agg('sum')\n",
    "cleanliness_by_month = by_year_month['cleanliness'].agg('sum')\n",
    "infrastructure_by_month = by_year_month['infrastructure'].agg('sum')\n",
    "technology_by_month = by_year_month['technology'].agg('sum')\n",
    "yoga_by_month = by_year_month['yoga'].agg('sum')\n",
    "hindu_by_month = by_year_month['hindu'].agg('sum')\n",
    "muslim_by_month = by_year_month['muslim'].agg('sum')"
   ]
  },
  {
   "cell_type": "code",
   "execution_count": 77,
   "metadata": {},
   "outputs": [
    {
     "data": {
      "image/png": "[encoded data removed]",
      "text/plain": [
       "<Figure size 432x288 with 1 Axes>"
      ]
     },
     "metadata": {},
     "output_type": "display_data"
    }
   ],
   "source": [
    "education_by_month.plot()\n",
    "poverty_by_month.plot()\n",
    "employment_by_month.plot()\n",
    "\n",
    "plt.title(\"Use of key words per month (Jan-2014 to March-2019)\", fontdict={'fontsize': 20,\\\n",
    "                                                                                'verticalalignment': 'bottom'})\n",
    "plt.ylabel(\"Number of mentions\", fontdict={'fontsize': 14})\n",
    "plt.xlabel(\"Month\", fontdict={'fontsize': 14})\n",
    "labels = month_labels\n",
    "plt.xticks(range(68), labels, rotation='vertical')\n",
    "plt.legend(['education','pove','empleo'], loc='upper left');"
   ]
  },
  {
   "cell_type": "code",
   "execution_count": 78,
   "metadata": {},
   "outputs": [
    {
     "data": {
      "image/png": "[encoded data removed]",
      "text/plain": [
       "<Figure size 432x288 with 1 Axes>"
      ]
     },
     "metadata": {},
     "output_type": "display_data"
    }
   ],
   "source": [
    "industry_by_month.plot()\n",
    "trade_by_month.plot()\n",
    "defense_by_month.plot()\n",
    "\n",
    "plt.title(\"Use of key words per month (August-2010 to March-2016)\", fontdict={'fontsize': 20,\\\n",
    "                                                                                'verticalalignment': 'bottom'})\n",
    "plt.ylabel(\"Number of mentions\", fontdict={'fontsize': 14})\n",
    "plt.xlabel(\"Month\", fontdict={'fontsize': 14})\n",
    "labels = month_labels\n",
    "plt.xticks(range(68), labels, rotation='vertical')\n",
    "plt.legend(['industry','trade','defense'], loc='upper left');"
   ]
  },
  {
   "cell_type": "code",
   "execution_count": 79,
   "metadata": {},
   "outputs": [
    {
     "data": {
      "image/png": "[encoded data removed]",
      "text/plain": [
       "<Figure size 432x288 with 1 Axes>"
      ]
     },
     "metadata": {},
     "output_type": "display_data"
    }
   ],
   "source": [
    "yoga_by_month.plot()\n",
    "hindu_by_month.plot()\n",
    "muslim_by_month.plot()\n",
    "\n",
    "plt.title(\"Use of key words per month (Jan 2014 to March-2019)\", fontdict={'fontsize': 20,\\\n",
    "                                                                                'verticalalignment': 'bottom'})\n",
    "plt.ylabel(\"Number of mentions\", fontdict={'fontsize': 14})\n",
    "plt.xlabel(\"Month\", fontdict={'fontsize': 14})\n",
    "labels = month_labels\n",
    "plt.xticks(range(68), labels, rotation='vertical')\n",
    "plt.legend(['yoga','hindu','muslim'], loc='upper left');"
   ]
  },
  {
   "cell_type": "code",
   "execution_count": 80,
   "metadata": {},
   "outputs": [
    {
     "data": {
      "image/png": "[encoded data removed]",
      "text/plain": [
       "<Figure size 432x288 with 1 Axes>"
      ]
     },
     "metadata": {},
     "output_type": "display_data"
    }
   ],
   "source": [
    "farmers_by_month.plot()\n",
    "nuclear_by_month.plot()\n",
    "criminal_by_month.plot()\n",
    "\n",
    "plt.title(\"Use of key words per month (Jan 2014 to March-2019)\", fontdict={'fontsize': 20,\\\n",
    "                                                                                'verticalalignment': 'bottom'})\n",
    "plt.ylabel(\"Number of mentions\", fontdict={'fontsize': 14})\n",
    "plt.xlabel(\"Month\", fontdict={'fontsize': 14})\n",
    "labels = month_labels\n",
    "plt.xticks(range(68), labels, rotation='vertical')\n",
    "plt.legend(['farmers','nuclear','criminal'], loc='upper left');"
   ]
  },
  {
   "cell_type": "code",
   "execution_count": 81,
   "metadata": {},
   "outputs": [
    {
     "name": "stderr",
     "output_type": "stream",
     "text": [
      "C:\\Users\\hp\\Anaconda3\\lib\\site-packages\\ipykernel_launcher.py:1: DeprecationWarning: \n",
      ".ix is deprecated. Please use\n",
      ".loc for label based indexing or\n",
      ".iloc for positional indexing\n",
      "\n",
      "See the documentation here:\n",
      "http://pandas.pydata.org/pandas-docs/stable/indexing.html#ix-indexer-is-deprecated\n",
      "  \"\"\"Entry point for launching an IPython kernel.\n"
     ]
    },
    {
     "data": {
      "text/plain": [
       "technology        959\n",
       "infrastructure    451\n",
       "yoga              447\n",
       "health            398\n",
       "trade             354\n",
       "environment       320\n",
       "innovation        318\n",
       "industry          274\n",
       "farmers           188\n",
       "cleanliness       150\n",
       "employment        147\n",
       "nuclear            79\n",
       "transport          71\n",
       "commercial         70\n",
       "kashmir            51\n",
       "defense            36\n",
       "hindu              19\n",
       "criminal           16\n",
       "muslim             11\n",
       "buisness            0\n",
       "dtype: int64"
      ]
     },
     "execution_count": 81,
     "metadata": {},
     "output_type": "execute_result"
    }
   ],
   "source": [
    "totals_by_topic = speeches.ix[:,15:].sum()\n",
    "totals_by_topic = totals_by_topic.sort_values(ascending=False)\n",
    "totals_by_topic"
   ]
  },
  {
   "cell_type": "code",
   "execution_count": 83,
   "metadata": {},
   "outputs": [
    {
     "data": {
      "text/plain": [
       "Text(0.5,0,'Topic')"
      ]
     },
     "execution_count": 83,
     "metadata": {},
     "output_type": "execute_result"
    },
    {
     "data": {
      "image/png": "[encoded data removed]",
      "text/plain": [
       "<Figure size 432x288 with 1 Axes>"
      ]
     },
     "metadata": {},
     "output_type": "display_data"
    }
   ],
   "source": [
    "totals_by_topic.plot(kind='bar')\n",
    "\n",
    "plt.title(\"Total use of topic key words\", fontdict={'fontsize': 20,\\\n",
    "                                                                                'verticalalignment': 'bottom'})\n",
    "plt.ylabel(\"Number of mentions\", fontdict={'fontsize': 14})\n",
    "plt.xlabel(\"Topic\", fontdict={'fontsize': 14})"
   ]
  },
  {
   "cell_type": "markdown",
   "metadata": {},
   "source": [
    "### Collocations"
   ]
  },
  {
   "cell_type": "code",
   "execution_count": 84,
   "metadata": {},
   "outputs": [
    {
     "data": {
      "text/plain": [
       "<Text: helloa country like japan atmosphere aike season together...>"
      ]
     },
     "execution_count": 84,
     "metadata": {},
     "output_type": "execute_result"
    }
   ],
   "source": [
    "all_speeches_Text = nltk.Text(all_tokens)\n",
    "all_speeches_Text"
   ]
  },
  {
   "cell_type": "code",
   "execution_count": 85,
   "metadata": {},
   "outputs": [
    {
     "name": "stdout",
     "output_type": "stream",
     "text": [
      "à¤à¥ à¤²à¤à¤; à¤¹à¥ à¤à¤; prime minister; india pmoindia; pmo\n",
      "india; à¤à¥ à¤¸à¤¾à¤¥; à¤¹à¥ à¤à¤°; à¤à¤° à¤à¤¸à¤²à¤à¤;\n",
      "à¤ªà¥à¤°à¤à¤¾à¤° à¤¸à¥; à¤¸à¤à¤¤à¥ à¤¹à¥à¤; à¤à¤°\n",
      "à¤¸à¤à¤¤à¥; à¤¹à¥à¤ à¤à¤; à¤¹à¥à¤¤à¤¾ à¤¹à¥; à¤à¥ à¤¬à¤¾à¤¦;\n",
      "brothers sisters; à¤°à¤¹à¥ à¤¹à¥à¤à¥¤; à¤²à¥à¤à¥à¤ à¤à¥;\n",
      "à¤¹à¥ à¤¤à¥; à¤à¤° à¤°à¤¹à¥; à¤à¤ à¤¬à¤¾à¤°; à¤¸à¤µà¤¾ à¤¸à¥;\n",
      "à¤°à¤¹à¥ à¤¹à¥à¤; à¤¦à¥à¤¶ à¤à¥; à¤¦à¤à¤¶à¤¾ à¤®à¥à¤;\n",
      "à¤¬à¤¹à¥à¤¤ à¤¬à¤à¤¼à¤¾; à¤°à¤¹à¤¾ à¤¹à¥à¥¤; à¤à¤°à¤¤à¤¾ à¤¹à¥à¤;\n",
      "à¤¹à¤®à¤¾à¤°à¥ à¤¦à¥à¤¶; à¤à¤°à¤¤à¥ à¤¹à¥à¤; à¤¸à¤à¤¤à¤¾ à¤¹à¥\n"
     ]
    }
   ],
   "source": [
    "all_speeches_Text.collocations(num = 30)"
   ]
  },
  {
   "cell_type": "code",
   "execution_count": 86,
   "metadata": {},
   "outputs": [
    {
     "data": {
      "image/png": "[encoded data removed]",
      "text/plain": [
       "<Figure size 432x288 with 1 Axes>"
      ]
     },
     "metadata": {},
     "output_type": "display_data"
    }
   ],
   "source": [
    "all_speeches_Text.dispersion_plot(['unity', 'industry', 'nuclear', 'defense', 'mature', 'cleanliness',\\\n",
    "                                   'peace', 'security', 'opposition', 'paramilitaries', 'terrorists'])"
   ]
  }
 ],
 "metadata": {
  "kernelspec": {
   "display_name": "Python 3",
   "language": "python",
   "name": "python3"
  },
  "language_info": {
   "codemirror_mode": {
    "name": "ipython",
    "version": 3
   },
   "file_extension": ".py",
   "mimetype": "text/x-python",
   "name": "python",
   "nbconvert_exporter": "python",
   "pygments_lexer": "ipython3",
   "version": "3.7.0"
  }
 },
 "nbformat": 4,
 "nbformat_minor": 2
}
