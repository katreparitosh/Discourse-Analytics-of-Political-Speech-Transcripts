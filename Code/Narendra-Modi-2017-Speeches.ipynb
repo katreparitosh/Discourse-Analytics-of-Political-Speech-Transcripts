{
 "cells": [
  {
   "cell_type": "code",
   "execution_count": 2,
   "metadata": {},
   "outputs": [],
   "source": [
    "import pandas as pd\n",
    "import re\n",
    "pd.options.display.max_columns = 30  #Can't have too many columns.\n",
    "import glob\n",
    "from datetime import datetime\n",
    "import dateutil.parser\n",
    "import nltk\n",
    "import numpy as np\n",
    "import matplotlib.pyplot as plt\n",
    "%matplotlib inline\n",
    "plt.rcParams['figure.figsize']= (17,5)\n",
    "from collections import Counter\n",
    "import re\n",
    "import string\n",
    "from sklearn.feature_extraction.text import CountVectorizer\n",
    "from sklearn.feature_extraction.text import TfidfVectorizer\n",
    "import re\n",
    "from nltk.stem.porter import PorterStemmer\n",
    "from sklearn.cluster import KMeans\n",
    "import langid\n",
    "from tqdm import tqdm"
   ]
  },
  {
   "cell_type": "code",
   "execution_count": 3,
   "metadata": {},
   "outputs": [
    {
     "data": {
      "text/plain": [
       "99"
      ]
     },
     "execution_count": 3,
     "metadata": {},
     "output_type": "execute_result"
    }
   ],
   "source": [
    "#Checking if all the speeches are loaded or not\n",
    "folder = nltk.data.find(\n",
    "    'A:/Data Analysis Jupyter/Campaign-Analytics/Speeches/narendramodi/2017')\n",
    "paths = glob.glob('A:/Data Analysis Jupyter/Campaign-Analytics/Speeches/narendramodi/2017/*')\n",
    "len(paths)"
   ]
  },
  {
   "cell_type": "code",
   "execution_count": 72,
   "metadata": {},
   "outputs": [
    {
     "data": {
      "text/html": [
       "<div>\n",
       "<style scoped>\n",
       "    .dataframe tbody tr th:only-of-type {\n",
       "        vertical-align: middle;\n",
       "    }\n",
       "\n",
       "    .dataframe tbody tr th {\n",
       "        vertical-align: top;\n",
       "    }\n",
       "\n",
       "    .dataframe thead th {\n",
       "        text-align: right;\n",
       "    }\n",
       "</style>\n",
       "<table border=\"1\" class=\"dataframe\">\n",
       "  <thead>\n",
       "    <tr style=\"text-align: right;\">\n",
       "      <th></th>\n",
       "      <th>average_sentence_length</th>\n",
       "      <th>content</th>\n",
       "      <th>date</th>\n",
       "      <th>filename</th>\n",
       "      <th>number_of_sentences</th>\n",
       "      <th>number_of_words</th>\n",
       "    </tr>\n",
       "  </thead>\n",
       "  <tbody>\n",
       "    <tr>\n",
       "      <th>0</th>\n",
       "      <td>165.501052</td>\n",
       "      <td>Governor of Andhra Pradesh, Shri E. S. L. Nara...</td>\n",
       "      <td>2017-01-03</td>\n",
       "      <td>2017\\421_03_Jan_2017_PMs_address_at_the_inaugu...</td>\n",
       "      <td>5227</td>\n",
       "      <td>865074</td>\n",
       "    </tr>\n",
       "    <tr>\n",
       "      <th>1</th>\n",
       "      <td>165.501052</td>\n",
       "      <td>à¤¶à¥à¤°à¥ à¤ªà¤à¤¨à¤¾ à¤¸à¤¾à¤¹à¤¿à¤¬, à¤...</td>\n",
       "      <td>2017-01-05</td>\n",
       "      <td>2017\\422_05_Jan_2017_PMs_address_at_350th_Birt...</td>\n",
       "      <td>5227</td>\n",
       "      <td>865074</td>\n",
       "    </tr>\n",
       "    <tr>\n",
       "      <th>2</th>\n",
       "      <td>165.501052</td>\n",
       "      <td>Your Excellency, Prime Minister Antonio Costa,...</td>\n",
       "      <td>2017-01-07</td>\n",
       "      <td>2017\\423_07_Jan_2017_Media_Statement_by_the_PM...</td>\n",
       "      <td>5227</td>\n",
       "      <td>865074</td>\n",
       "    </tr>\n",
       "    <tr>\n",
       "      <th>3</th>\n",
       "      <td>165.501052</td>\n",
       "      <td>Excellencies and friends,\\nTo begin with, let ...</td>\n",
       "      <td>2017-01-08</td>\n",
       "      <td>2017\\424_08_Jan_2017_PMs_address_at_the_inaugu...</td>\n",
       "      <td>5227</td>\n",
       "      <td>865074</td>\n",
       "    </tr>\n",
       "    <tr>\n",
       "      <th>4</th>\n",
       "      <td>165.501052</td>\n",
       "      <td>à¤ªà¥à¤¯à¤¾à¤°à¥ à¤­à¤¾à¤à¤¯à¥à¤ à¤à¤° à...</td>\n",
       "      <td>2017-01-09</td>\n",
       "      <td>2017\\425_09_Jan_2017_PMs_address_at_Bhumi_Puja...</td>\n",
       "      <td>5227</td>\n",
       "      <td>865074</td>\n",
       "    </tr>\n",
       "  </tbody>\n",
       "</table>\n",
       "</div>"
      ],
      "text/plain": [
       "   average_sentence_length                                            content  \\\n",
       "0               165.501052  Governor of Andhra Pradesh, Shri E. S. L. Nara...   \n",
       "1               165.501052  à¤¶à¥à¤°à¥ à¤ªà¤à¤¨à¤¾ à¤¸à¤¾à¤¹à¤¿à¤¬, à¤...   \n",
       "2               165.501052  Your Excellency, Prime Minister Antonio Costa,...   \n",
       "3               165.501052  Excellencies and friends,\\nTo begin with, let ...   \n",
       "4               165.501052  à¤ªà¥à¤¯à¤¾à¤°à¥ à¤­à¤¾à¤à¤¯à¥à¤ à¤à¤° à...   \n",
       "\n",
       "        date                                           filename  \\\n",
       "0 2017-01-03  2017\\421_03_Jan_2017_PMs_address_at_the_inaugu...   \n",
       "1 2017-01-05  2017\\422_05_Jan_2017_PMs_address_at_350th_Birt...   \n",
       "2 2017-01-07  2017\\423_07_Jan_2017_Media_Statement_by_the_PM...   \n",
       "3 2017-01-08  2017\\424_08_Jan_2017_PMs_address_at_the_inaugu...   \n",
       "4 2017-01-09  2017\\425_09_Jan_2017_PMs_address_at_Bhumi_Puja...   \n",
       "\n",
       "   number_of_sentences  number_of_words  \n",
       "0                 5227           865074  \n",
       "1                 5227           865074  \n",
       "2                 5227           865074  \n",
       "3                 5227           865074  \n",
       "4                 5227           865074  "
      ]
     },
     "execution_count": 72,
     "metadata": {},
     "output_type": "execute_result"
    }
   ],
   "source": [
    "nm_speeches = [ ]  #Empty dataframe to store all the content of speeches\n",
    "for path in paths:\n",
    "    corpusReader = nltk.corpus.PlaintextCorpusReader(folder, '.*\\.txt')\n",
    "    number_of_sentences = len(corpusReader.sents())\n",
    "    number_of_words = len(\n",
    "        [word for sentence in corpusReader.sents() for word in sentence])\n",
    "    number_of_fids = len(corpusReader.fileids())\n",
    "    # opening the files and converting it to a dictionary\n",
    "    with open(path, encoding=\"utf-8\") as speech_file:\n",
    "        filename = path.split('/')[-1]\n",
    "        date = re.search(r\"(\\d+)_([a-zA-Z]+)_(\\d+)\", filename)\n",
    "        if date:\n",
    "            date = datetime.strptime(date.group(0), '%d_%b_%Y')\n",
    "        else:\n",
    "            date = np.nan\n",
    "        speech = {\n",
    "            'filename' : path.split('/')[-1],\n",
    "            'content' : speech_file.read(),\n",
    "            'date' : date,\n",
    "            'number_of_sentences' : number_of_sentences,\n",
    "            'number_of_words' : number_of_words,\n",
    "            'average_sentence_length': number_of_words/number_of_sentences\n",
    "        }   \n",
    "    nm_speeches.append(speech)\n",
    "nm_df = pd.DataFrame(nm_speeches)\n",
    "nm_df.head()"
   ]
  },
  {
   "cell_type": "code",
   "execution_count": 73,
   "metadata": {},
   "outputs": [
    {
     "data": {
      "text/html": [
       "<div>\n",
       "<style scoped>\n",
       "    .dataframe tbody tr th:only-of-type {\n",
       "        vertical-align: middle;\n",
       "    }\n",
       "\n",
       "    .dataframe tbody tr th {\n",
       "        vertical-align: top;\n",
       "    }\n",
       "\n",
       "    .dataframe thead th {\n",
       "        text-align: right;\n",
       "    }\n",
       "</style>\n",
       "<table border=\"1\" class=\"dataframe\">\n",
       "  <thead>\n",
       "    <tr style=\"text-align: right;\">\n",
       "      <th></th>\n",
       "      <th>average_sentence_length</th>\n",
       "      <th>content</th>\n",
       "      <th>date</th>\n",
       "      <th>filename</th>\n",
       "      <th>number_of_sentences</th>\n",
       "      <th>number_of_words</th>\n",
       "    </tr>\n",
       "    <tr>\n",
       "      <th>date</th>\n",
       "      <th></th>\n",
       "      <th></th>\n",
       "      <th></th>\n",
       "      <th></th>\n",
       "      <th></th>\n",
       "      <th></th>\n",
       "    </tr>\n",
       "  </thead>\n",
       "  <tbody>\n",
       "    <tr>\n",
       "      <th>2017-01-03</th>\n",
       "      <td>165.501052</td>\n",
       "      <td>Governor of Andhra Pradesh, Shri E. S. L. Nara...</td>\n",
       "      <td>2017-01-03</td>\n",
       "      <td>2017\\421_03_Jan_2017_PMs_address_at_the_inaugu...</td>\n",
       "      <td>5227</td>\n",
       "      <td>865074</td>\n",
       "    </tr>\n",
       "    <tr>\n",
       "      <th>2017-01-05</th>\n",
       "      <td>165.501052</td>\n",
       "      <td>à¤¶à¥à¤°à¥ à¤ªà¤à¤¨à¤¾ à¤¸à¤¾à¤¹à¤¿à¤¬, à¤...</td>\n",
       "      <td>2017-01-05</td>\n",
       "      <td>2017\\422_05_Jan_2017_PMs_address_at_350th_Birt...</td>\n",
       "      <td>5227</td>\n",
       "      <td>865074</td>\n",
       "    </tr>\n",
       "    <tr>\n",
       "      <th>2017-01-07</th>\n",
       "      <td>165.501052</td>\n",
       "      <td>Your Excellency, Prime Minister Antonio Costa,...</td>\n",
       "      <td>2017-01-07</td>\n",
       "      <td>2017\\423_07_Jan_2017_Media_Statement_by_the_PM...</td>\n",
       "      <td>5227</td>\n",
       "      <td>865074</td>\n",
       "    </tr>\n",
       "    <tr>\n",
       "      <th>2017-01-08</th>\n",
       "      <td>165.501052</td>\n",
       "      <td>Excellencies and friends,\\nTo begin with, let ...</td>\n",
       "      <td>2017-01-08</td>\n",
       "      <td>2017\\424_08_Jan_2017_PMs_address_at_the_inaugu...</td>\n",
       "      <td>5227</td>\n",
       "      <td>865074</td>\n",
       "    </tr>\n",
       "    <tr>\n",
       "      <th>2017-01-09</th>\n",
       "      <td>165.501052</td>\n",
       "      <td>à¤ªà¥à¤¯à¤¾à¤°à¥ à¤­à¤¾à¤à¤¯à¥à¤ à¤à¤° à...</td>\n",
       "      <td>2017-01-09</td>\n",
       "      <td>2017\\425_09_Jan_2017_PMs_address_at_Bhumi_Puja...</td>\n",
       "      <td>5227</td>\n",
       "      <td>865074</td>\n",
       "    </tr>\n",
       "  </tbody>\n",
       "</table>\n",
       "</div>"
      ],
      "text/plain": [
       "            average_sentence_length  \\\n",
       "date                                  \n",
       "2017-01-03               165.501052   \n",
       "2017-01-05               165.501052   \n",
       "2017-01-07               165.501052   \n",
       "2017-01-08               165.501052   \n",
       "2017-01-09               165.501052   \n",
       "\n",
       "                                                      content       date  \\\n",
       "date                                                                       \n",
       "2017-01-03  Governor of Andhra Pradesh, Shri E. S. L. Nara... 2017-01-03   \n",
       "2017-01-05  à¤¶à¥à¤°à¥ à¤ªà¤à¤¨à¤¾ à¤¸à¤¾à¤¹à¤¿à¤¬, à¤... 2017-01-05   \n",
       "2017-01-07  Your Excellency, Prime Minister Antonio Costa,... 2017-01-07   \n",
       "2017-01-08  Excellencies and friends,\\nTo begin with, let ... 2017-01-08   \n",
       "2017-01-09  à¤ªà¥à¤¯à¤¾à¤°à¥ à¤­à¤¾à¤à¤¯à¥à¤ à¤à¤° à... 2017-01-09   \n",
       "\n",
       "                                                     filename  \\\n",
       "date                                                            \n",
       "2017-01-03  2017\\421_03_Jan_2017_PMs_address_at_the_inaugu...   \n",
       "2017-01-05  2017\\422_05_Jan_2017_PMs_address_at_350th_Birt...   \n",
       "2017-01-07  2017\\423_07_Jan_2017_Media_Statement_by_the_PM...   \n",
       "2017-01-08  2017\\424_08_Jan_2017_PMs_address_at_the_inaugu...   \n",
       "2017-01-09  2017\\425_09_Jan_2017_PMs_address_at_Bhumi_Puja...   \n",
       "\n",
       "            number_of_sentences  number_of_words  \n",
       "date                                              \n",
       "2017-01-03                 5227           865074  \n",
       "2017-01-05                 5227           865074  \n",
       "2017-01-07                 5227           865074  \n",
       "2017-01-08                 5227           865074  \n",
       "2017-01-09                 5227           865074  "
      ]
     },
     "execution_count": 73,
     "metadata": {},
     "output_type": "execute_result"
    }
   ],
   "source": [
    "nm_df.index = nm_df['date']  #Setting a dateindex\n",
    "nm_df.head()"
   ]
  },
  {
   "cell_type": "code",
   "execution_count": 74,
   "metadata": {},
   "outputs": [
    {
     "data": {
      "text/html": [
       "<div>\n",
       "<style scoped>\n",
       "    .dataframe tbody tr th:only-of-type {\n",
       "        vertical-align: middle;\n",
       "    }\n",
       "\n",
       "    .dataframe tbody tr th {\n",
       "        vertical-align: top;\n",
       "    }\n",
       "\n",
       "    .dataframe thead th {\n",
       "        text-align: right;\n",
       "    }\n",
       "</style>\n",
       "<table border=\"1\" class=\"dataframe\">\n",
       "  <thead>\n",
       "    <tr style=\"text-align: right;\">\n",
       "      <th></th>\n",
       "      <th>average_sentence_length</th>\n",
       "      <th>number_of_sentences</th>\n",
       "      <th>number_of_words</th>\n",
       "    </tr>\n",
       "  </thead>\n",
       "  <tbody>\n",
       "    <tr>\n",
       "      <th>count</th>\n",
       "      <td>9.900000e+01</td>\n",
       "      <td>99.0</td>\n",
       "      <td>99.0</td>\n",
       "    </tr>\n",
       "    <tr>\n",
       "      <th>mean</th>\n",
       "      <td>1.655011e+02</td>\n",
       "      <td>5227.0</td>\n",
       "      <td>865074.0</td>\n",
       "    </tr>\n",
       "    <tr>\n",
       "      <th>std</th>\n",
       "      <td>1.142654e-13</td>\n",
       "      <td>0.0</td>\n",
       "      <td>0.0</td>\n",
       "    </tr>\n",
       "    <tr>\n",
       "      <th>min</th>\n",
       "      <td>1.655011e+02</td>\n",
       "      <td>5227.0</td>\n",
       "      <td>865074.0</td>\n",
       "    </tr>\n",
       "    <tr>\n",
       "      <th>25%</th>\n",
       "      <td>1.655011e+02</td>\n",
       "      <td>5227.0</td>\n",
       "      <td>865074.0</td>\n",
       "    </tr>\n",
       "    <tr>\n",
       "      <th>50%</th>\n",
       "      <td>1.655011e+02</td>\n",
       "      <td>5227.0</td>\n",
       "      <td>865074.0</td>\n",
       "    </tr>\n",
       "    <tr>\n",
       "      <th>75%</th>\n",
       "      <td>1.655011e+02</td>\n",
       "      <td>5227.0</td>\n",
       "      <td>865074.0</td>\n",
       "    </tr>\n",
       "    <tr>\n",
       "      <th>max</th>\n",
       "      <td>1.655011e+02</td>\n",
       "      <td>5227.0</td>\n",
       "      <td>865074.0</td>\n",
       "    </tr>\n",
       "  </tbody>\n",
       "</table>\n",
       "</div>"
      ],
      "text/plain": [
       "       average_sentence_length  number_of_sentences  number_of_words\n",
       "count             9.900000e+01                 99.0             99.0\n",
       "mean              1.655011e+02               5227.0         865074.0\n",
       "std               1.142654e-13                  0.0              0.0\n",
       "min               1.655011e+02               5227.0         865074.0\n",
       "25%               1.655011e+02               5227.0         865074.0\n",
       "50%               1.655011e+02               5227.0         865074.0\n",
       "75%               1.655011e+02               5227.0         865074.0\n",
       "max               1.655011e+02               5227.0         865074.0"
      ]
     },
     "execution_count": 74,
     "metadata": {},
     "output_type": "execute_result"
    }
   ],
   "source": [
    "nm_df.describe()"
   ]
  },
  {
   "cell_type": "code",
   "execution_count": 75,
   "metadata": {},
   "outputs": [
    {
     "data": {
      "text/plain": [
       "<matplotlib.axes._subplots.AxesSubplot at 0x1bf8953c048>"
      ]
     },
     "execution_count": 75,
     "metadata": {},
     "output_type": "execute_result"
    },
    {
     "data": {
      "image/png": "[encoded data removed]",
      "text/plain": [
       "<Figure size 432x288 with 1 Axes>"
      ]
     },
     "metadata": {},
     "output_type": "display_data"
    }
   ],
   "source": [
    "plt.style.use('ggplot')\n",
    "nm_df.groupby(by=nm_df.index.month)['filename'].count().plot()"
   ]
  },
  {
   "cell_type": "code",
   "execution_count": 88,
   "metadata": {},
   "outputs": [
    {
     "data": {
      "text/plain": [
       "<matplotlib.axes._subplots.AxesSubplot at 0x1bf916af278>"
      ]
     },
     "execution_count": 88,
     "metadata": {},
     "output_type": "execute_result"
    },
    {
     "data": {
      "image/png": "[encoded data removed]",
      "text/plain": [
       "<Figure size 1080x360 with 1 Axes>"
      ]
     },
     "metadata": {},
     "output_type": "display_data"
    }
   ],
   "source": [
    "nm_df['average_sentence_length'].groupby(\n",
    "    by=nm_df.index.month).resample('m').sum().plot(\n",
    "        figsize=(15, 5), kind='bar')"
   ]
  },
  {
   "cell_type": "code",
   "execution_count": 89,
   "metadata": {},
   "outputs": [
    {
     "data": {
      "text/plain": [
       "<matplotlib.axes._subplots.AxesSubplot at 0x1bf90eaf080>"
      ]
     },
     "execution_count": 89,
     "metadata": {},
     "output_type": "execute_result"
    },
    {
     "data": {
      "image/png": "[encoded data removed]",
      "text/plain": [
       "<Figure size 1080x360 with 1 Axes>"
      ]
     },
     "metadata": {},
     "output_type": "display_data"
    }
   ],
   "source": [
    "nm_df['number_of_sentences'].groupby(\n",
    "    by=nm_df.index.year).resample('q').mean().plot(figsize=(15, 5))"
   ]
  },
  {
   "cell_type": "code",
   "execution_count": 92,
   "metadata": {},
   "outputs": [
    {
     "data": {
      "text/plain": [
       "<matplotlib.axes._subplots.AxesSubplot at 0x1bf90a96390>"
      ]
     },
     "execution_count": 92,
     "metadata": {},
     "output_type": "execute_result"
    },
    {
     "data": {
      "image/png": "[encoded data removed]",
      "text/plain": [
       "<Figure size 720x576 with 1 Axes>"
      ]
     },
     "metadata": {},
     "output_type": "display_data"
    }
   ],
   "source": [
    "nm_df['number_of_words'].groupby(\n",
    "    by=nm_df.index.year).resample('M').sum().plot(figsize=(10, 8))"
   ]
  }
 ],
 "metadata": {
  "kernelspec": {
   "display_name": "Python 3",
   "language": "python",
   "name": "python3"
  },
  "language_info": {
   "codemirror_mode": {
    "name": "ipython",
    "version": 3
   },
   "file_extension": ".py",
   "mimetype": "text/x-python",
   "name": "python",
   "nbconvert_exporter": "python",
   "pygments_lexer": "ipython3",
   "version": "3.7.0"
  }
 },
 "nbformat": 4,
 "nbformat_minor": 2
}
