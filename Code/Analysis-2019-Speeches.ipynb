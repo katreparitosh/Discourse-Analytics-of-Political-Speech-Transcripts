{
 "cells": [
  {
   "cell_type": "code",
   "execution_count": 2,
   "metadata": {},
   "outputs": [],
   "source": [
    "import pandas as pd\n",
    "import numpy as np\n",
    "import nltk\n",
    "from nltk import word_tokenize\n",
    "from nltk.corpus import stopwords\n",
    "%matplotlib inline\n",
    "import matplotlib.pyplot as plt\n",
    "plt.rcParams[\"figure.figsize\"] = [18.0, 8.0]\n",
    "import re\n",
    "import string"
   ]
  },
  {
   "cell_type": "code",
   "execution_count": 3,
   "metadata": {},
   "outputs": [],
   "source": [
    "nm_df = pd.read_pickle('speeches_nm_2019.pkl')"
   ]
  },
  {
   "cell_type": "code",
   "execution_count": 4,
   "metadata": {},
   "outputs": [
    {
     "data": {
      "text/html": [
       "<div>\n",
       "<style scoped>\n",
       "    .dataframe tbody tr th:only-of-type {\n",
       "        vertical-align: middle;\n",
       "    }\n",
       "\n",
       "    .dataframe tbody tr th {\n",
       "        vertical-align: top;\n",
       "    }\n",
       "\n",
       "    .dataframe thead th {\n",
       "        text-align: right;\n",
       "    }\n",
       "</style>\n",
       "<table border=\"1\" class=\"dataframe\">\n",
       "  <thead>\n",
       "    <tr style=\"text-align: right;\">\n",
       "      <th></th>\n",
       "      <th>Year</th>\n",
       "      <th>Month</th>\n",
       "      <th>Day</th>\n",
       "      <th>Title</th>\n",
       "      <th>Speech</th>\n",
       "      <th>Date</th>\n",
       "      <th>no_punct</th>\n",
       "      <th>Tokens</th>\n",
       "      <th>no_stopwords</th>\n",
       "      <th>nltk.Text</th>\n",
       "    </tr>\n",
       "  </thead>\n",
       "  <tbody>\n",
       "    <tr>\n",
       "      <th>0</th>\n",
       "      <td>2019</td>\n",
       "      <td>1</td>\n",
       "      <td>18</td>\n",
       "      <td>2019\\18_01_2019_PM’s address at the inaugurati...</td>\n",
       "      <td>﻿Honourable Ministers and Excellencies from va...</td>\n",
       "      <td>2019-01-18</td>\n",
       "      <td>﻿honourable ministers and excellencies from va...</td>\n",
       "      <td>[﻿honourable, ministers, and, excellencies, fr...</td>\n",
       "      <td>[﻿honourable, ministers, excellencies, various...</td>\n",
       "      <td>(﻿honourable, ministers, excellencies, various...</td>\n",
       "    </tr>\n",
       "    <tr>\n",
       "      <th>1</th>\n",
       "      <td>2019</td>\n",
       "      <td>1</td>\n",
       "      <td>19</td>\n",
       "      <td>2019\\19_01_2019_PM’s speech at foundation layi...</td>\n",
       "      <td>﻿My dear brothers and sisters \\nToday, as a Pr...</td>\n",
       "      <td>2019-01-19</td>\n",
       "      <td>﻿my dear brothers and sisters today as a prime...</td>\n",
       "      <td>[﻿my, dear, brothers, and, sisters, today, as,...</td>\n",
       "      <td>[﻿my, dear, brothers, sisters, today, prime, m...</td>\n",
       "      <td>(﻿my, dear, brothers, sisters, today, prime, m...</td>\n",
       "    </tr>\n",
       "    <tr>\n",
       "      <th>2</th>\n",
       "      <td>2019</td>\n",
       "      <td>1</td>\n",
       "      <td>19</td>\n",
       "      <td>2019\\19_01_2019_PM’s address at the inaugurati...</td>\n",
       "      <td>﻿All the charioteers, superheroes associated w...</td>\n",
       "      <td>2019-01-19</td>\n",
       "      <td>﻿all the charioteers superheroes associated wi...</td>\n",
       "      <td>[﻿all, the, charioteers, superheroes, associat...</td>\n",
       "      <td>[﻿all, charioteers, superheroes, associated, c...</td>\n",
       "      <td>(﻿all, charioteers, superheroes, associated, c...</td>\n",
       "    </tr>\n",
       "    <tr>\n",
       "      <th>3</th>\n",
       "      <td>2019</td>\n",
       "      <td>1</td>\n",
       "      <td>22</td>\n",
       "      <td>2019\\22_01_2019_PM's address at the 15th Prava...</td>\n",
       "      <td>﻿Mauritius Prime Minister Your Excellency, Pra...</td>\n",
       "      <td>2019-01-22</td>\n",
       "      <td>﻿mauritius prime minister your excellency prav...</td>\n",
       "      <td>[﻿mauritius, prime, minister, your, excellency...</td>\n",
       "      <td>[﻿mauritius, prime, minister, excellency, prav...</td>\n",
       "      <td>(﻿mauritius, prime, minister, excellency, prav...</td>\n",
       "    </tr>\n",
       "    <tr>\n",
       "      <th>4</th>\n",
       "      <td>2019</td>\n",
       "      <td>1</td>\n",
       "      <td>25</td>\n",
       "      <td>2019\\25_01_2019_PM’s Press Statement during st...</td>\n",
       "      <td>﻿Your Excellency, President Ramaphosa,\\nDistin...</td>\n",
       "      <td>2019-01-25</td>\n",
       "      <td>﻿your excellency president ramaphosadistinguis...</td>\n",
       "      <td>[﻿your, excellency, president, ramaphosadistin...</td>\n",
       "      <td>[﻿your, excellency, president, ramaphosadistin...</td>\n",
       "      <td>(﻿your, excellency, president, ramaphosadistin...</td>\n",
       "    </tr>\n",
       "  </tbody>\n",
       "</table>\n",
       "</div>"
      ],
      "text/plain": [
       "   Year  Month  Day                                              Title  \\\n",
       "0  2019      1   18  2019\\18_01_2019_PM’s address at the inaugurati...   \n",
       "1  2019      1   19  2019\\19_01_2019_PM’s speech at foundation layi...   \n",
       "2  2019      1   19  2019\\19_01_2019_PM’s address at the inaugurati...   \n",
       "3  2019      1   22  2019\\22_01_2019_PM's address at the 15th Prava...   \n",
       "4  2019      1   25  2019\\25_01_2019_PM’s Press Statement during st...   \n",
       "\n",
       "                                              Speech       Date  \\\n",
       "0  ﻿Honourable Ministers and Excellencies from va... 2019-01-18   \n",
       "1  ﻿My dear brothers and sisters \\nToday, as a Pr... 2019-01-19   \n",
       "2  ﻿All the charioteers, superheroes associated w... 2019-01-19   \n",
       "3  ﻿Mauritius Prime Minister Your Excellency, Pra... 2019-01-22   \n",
       "4  ﻿Your Excellency, President Ramaphosa,\\nDistin... 2019-01-25   \n",
       "\n",
       "                                            no_punct  \\\n",
       "0  ﻿honourable ministers and excellencies from va...   \n",
       "1  ﻿my dear brothers and sisters today as a prime...   \n",
       "2  ﻿all the charioteers superheroes associated wi...   \n",
       "3  ﻿mauritius prime minister your excellency prav...   \n",
       "4  ﻿your excellency president ramaphosadistinguis...   \n",
       "\n",
       "                                              Tokens  \\\n",
       "0  [﻿honourable, ministers, and, excellencies, fr...   \n",
       "1  [﻿my, dear, brothers, and, sisters, today, as,...   \n",
       "2  [﻿all, the, charioteers, superheroes, associat...   \n",
       "3  [﻿mauritius, prime, minister, your, excellency...   \n",
       "4  [﻿your, excellency, president, ramaphosadistin...   \n",
       "\n",
       "                                        no_stopwords  \\\n",
       "0  [﻿honourable, ministers, excellencies, various...   \n",
       "1  [﻿my, dear, brothers, sisters, today, prime, m...   \n",
       "2  [﻿all, charioteers, superheroes, associated, c...   \n",
       "3  [﻿mauritius, prime, minister, excellency, prav...   \n",
       "4  [﻿your, excellency, president, ramaphosadistin...   \n",
       "\n",
       "                                           nltk.Text  \n",
       "0  (﻿honourable, ministers, excellencies, various...  \n",
       "1  (﻿my, dear, brothers, sisters, today, prime, m...  \n",
       "2  (﻿all, charioteers, superheroes, associated, c...  \n",
       "3  (﻿mauritius, prime, minister, excellency, prav...  \n",
       "4  (﻿your, excellency, president, ramaphosadistin...  "
      ]
     },
     "execution_count": 4,
     "metadata": {},
     "output_type": "execute_result"
    }
   ],
   "source": [
    "nm_df.head()"
   ]
  },
  {
   "cell_type": "code",
   "execution_count": 6,
   "metadata": {},
   "outputs": [
    {
     "data": {
      "text/plain": [
       "28"
      ]
     },
     "execution_count": 6,
     "metadata": {},
     "output_type": "execute_result"
    }
   ],
   "source": [
    "# Number of days in which at least one speech was given\n",
    "len(nm_df.Date.unique())"
   ]
  },
  {
   "cell_type": "code",
   "execution_count": 7,
   "metadata": {},
   "outputs": [
    {
     "data": {
      "text/plain": [
       "2019-02-15    2\n",
       "2019-02-23    2\n",
       "2019-02-24    2\n",
       "2019-02-18    2\n",
       "2019-01-27    2\n",
       "2019-02-17    2\n",
       "2019-02-12    2\n",
       "2019-02-16    2\n",
       "2019-01-19    2\n",
       "2019-02-13    2\n",
       "2019-02-26    2\n",
       "2019-03-02    2\n",
       "2019-01-22    1\n",
       "2019-02-11    1\n",
       "2019-03-01    1\n",
       "2019-01-28    1\n",
       "2019-02-03    1\n",
       "2019-02-09    1\n",
       "2019-02-21    1\n",
       "2019-01-18    1\n",
       "2019-01-31    1\n",
       "2019-02-25    1\n",
       "2019-01-25    1\n",
       "2019-02-19    1\n",
       "2019-02-07    1\n",
       "2019-02-01    1\n",
       "2019-02-20    1\n",
       "2019-10-25    1\n",
       "Name: Date, dtype: int64"
      ]
     },
     "execution_count": 7,
     "metadata": {},
     "output_type": "execute_result"
    }
   ],
   "source": [
    "nm_df['Date'].value_counts()"
   ]
  },
  {
   "cell_type": "code",
   "execution_count": 9,
   "metadata": {},
   "outputs": [
    {
     "data": {
      "text/plain": [
       "['2019\\\\15_02_2019_PM’s address at dedication of various development projects in Jhansi, Uttar Pradesh.txt',\n",
       " '2019\\\\15_02_2019_PM’s address at the flagging off Vande Bharat Express.txt']"
      ]
     },
     "execution_count": 9,
     "metadata": {},
     "output_type": "execute_result"
    }
   ],
   "source": [
    "# confirm\n",
    "list(nm_df[nm_df['Date'] == '2019-02-15']['Title'])"
   ]
  },
  {
   "cell_type": "markdown",
   "metadata": {},
   "source": [
    "### Histogram of number of speeches per day"
   ]
  },
  {
   "cell_type": "code",
   "execution_count": 14,
   "metadata": {},
   "outputs": [
    {
     "data": {
      "image/png": "[encoded data removed]",
      "text/plain": [
       "<Figure size 1296x576 with 1 Axes>"
      ]
     },
     "metadata": {},
     "output_type": "display_data"
    }
   ],
   "source": [
    "by_date = nm_df['Date'].value_counts()\n",
    "plt.style.use('ggplot')\n",
    "by_date.plot.hist(bins = range (1,5), align = 'left')\n",
    "plt.xticks(range(1,8))\n",
    "plt.xlim(0.5,6.5)\n",
    "plt.title(\"Number of speeches per day\", fontdict={'fontsize': 20})\n",
    "plt.ylabel(\"Number of speeches\", fontdict={'fontsize': 14})\n",
    "plt.xlabel(\"Speeches per day\", fontdict={'fontsize': 14});"
   ]
  },
  {
   "cell_type": "code",
   "execution_count": 18,
   "metadata": {},
   "outputs": [],
   "source": [
    "# Removing day of the week\n",
    "nm_df['Day'] = nm_df['Date'].dt.dayofweek"
   ]
  },
  {
   "cell_type": "code",
   "execution_count": 20,
   "metadata": {},
   "outputs": [],
   "source": [
    "# Dictionary to label categorical variable produced by 'dayofweek' method\n",
    "days = {0:'Monday',1:'Tuesday',2:'Wedsnesday',3:'Thursday',4:'Friday',5:'Saturday',6:'Sunday'}\n",
    "\n",
    "# For each value in 'Weekday', apply function that labels with corresponding name of the weekday\n",
    "nm_df['Day'] = nm_df['Day'].apply(lambda x: days[x])"
   ]
  },
  {
   "cell_type": "code",
   "execution_count": 21,
   "metadata": {},
   "outputs": [],
   "source": [
    "nm_df['Day'] = pd.Categorical(nm_df['Day'], ['Monday', 'Tuesday', 'Wednesday', 'Thursday', 'Friday', 'Saturday', 'Sunday'])"
   ]
  },
  {
   "cell_type": "code",
   "execution_count": 22,
   "metadata": {},
   "outputs": [
    {
     "data": {
      "text/html": [
       "<div>\n",
       "<style scoped>\n",
       "    .dataframe tbody tr th:only-of-type {\n",
       "        vertical-align: middle;\n",
       "    }\n",
       "\n",
       "    .dataframe tbody tr th {\n",
       "        vertical-align: top;\n",
       "    }\n",
       "\n",
       "    .dataframe thead th {\n",
       "        text-align: right;\n",
       "    }\n",
       "</style>\n",
       "<table border=\"1\" class=\"dataframe\">\n",
       "  <thead>\n",
       "    <tr style=\"text-align: right;\">\n",
       "      <th></th>\n",
       "      <th>Year</th>\n",
       "      <th>Month</th>\n",
       "      <th>Day</th>\n",
       "      <th>Title</th>\n",
       "      <th>Speech</th>\n",
       "      <th>Date</th>\n",
       "      <th>no_punct</th>\n",
       "      <th>Tokens</th>\n",
       "      <th>no_stopwords</th>\n",
       "      <th>nltk.Text</th>\n",
       "    </tr>\n",
       "  </thead>\n",
       "  <tbody>\n",
       "    <tr>\n",
       "      <th>0</th>\n",
       "      <td>2019</td>\n",
       "      <td>1</td>\n",
       "      <td>Friday</td>\n",
       "      <td>2019\\18_01_2019_PM’s address at the inaugurati...</td>\n",
       "      <td>﻿Honourable Ministers and Excellencies from va...</td>\n",
       "      <td>2019-01-18</td>\n",
       "      <td>﻿honourable ministers and excellencies from va...</td>\n",
       "      <td>[﻿honourable, ministers, and, excellencies, fr...</td>\n",
       "      <td>[﻿honourable, ministers, excellencies, various...</td>\n",
       "      <td>(﻿honourable, ministers, excellencies, various...</td>\n",
       "    </tr>\n",
       "    <tr>\n",
       "      <th>1</th>\n",
       "      <td>2019</td>\n",
       "      <td>1</td>\n",
       "      <td>Saturday</td>\n",
       "      <td>2019\\19_01_2019_PM’s speech at foundation layi...</td>\n",
       "      <td>﻿My dear brothers and sisters \\nToday, as a Pr...</td>\n",
       "      <td>2019-01-19</td>\n",
       "      <td>﻿my dear brothers and sisters today as a prime...</td>\n",
       "      <td>[﻿my, dear, brothers, and, sisters, today, as,...</td>\n",
       "      <td>[﻿my, dear, brothers, sisters, today, prime, m...</td>\n",
       "      <td>(﻿my, dear, brothers, sisters, today, prime, m...</td>\n",
       "    </tr>\n",
       "    <tr>\n",
       "      <th>2</th>\n",
       "      <td>2019</td>\n",
       "      <td>1</td>\n",
       "      <td>Saturday</td>\n",
       "      <td>2019\\19_01_2019_PM’s address at the inaugurati...</td>\n",
       "      <td>﻿All the charioteers, superheroes associated w...</td>\n",
       "      <td>2019-01-19</td>\n",
       "      <td>﻿all the charioteers superheroes associated wi...</td>\n",
       "      <td>[﻿all, the, charioteers, superheroes, associat...</td>\n",
       "      <td>[﻿all, charioteers, superheroes, associated, c...</td>\n",
       "      <td>(﻿all, charioteers, superheroes, associated, c...</td>\n",
       "    </tr>\n",
       "    <tr>\n",
       "      <th>3</th>\n",
       "      <td>2019</td>\n",
       "      <td>1</td>\n",
       "      <td>Tuesday</td>\n",
       "      <td>2019\\22_01_2019_PM's address at the 15th Prava...</td>\n",
       "      <td>﻿Mauritius Prime Minister Your Excellency, Pra...</td>\n",
       "      <td>2019-01-22</td>\n",
       "      <td>﻿mauritius prime minister your excellency prav...</td>\n",
       "      <td>[﻿mauritius, prime, minister, your, excellency...</td>\n",
       "      <td>[﻿mauritius, prime, minister, excellency, prav...</td>\n",
       "      <td>(﻿mauritius, prime, minister, excellency, prav...</td>\n",
       "    </tr>\n",
       "    <tr>\n",
       "      <th>4</th>\n",
       "      <td>2019</td>\n",
       "      <td>1</td>\n",
       "      <td>Friday</td>\n",
       "      <td>2019\\25_01_2019_PM’s Press Statement during st...</td>\n",
       "      <td>﻿Your Excellency, President Ramaphosa,\\nDistin...</td>\n",
       "      <td>2019-01-25</td>\n",
       "      <td>﻿your excellency president ramaphosadistinguis...</td>\n",
       "      <td>[﻿your, excellency, president, ramaphosadistin...</td>\n",
       "      <td>[﻿your, excellency, president, ramaphosadistin...</td>\n",
       "      <td>(﻿your, excellency, president, ramaphosadistin...</td>\n",
       "    </tr>\n",
       "  </tbody>\n",
       "</table>\n",
       "</div>"
      ],
      "text/plain": [
       "   Year  Month       Day                                              Title  \\\n",
       "0  2019      1    Friday  2019\\18_01_2019_PM’s address at the inaugurati...   \n",
       "1  2019      1  Saturday  2019\\19_01_2019_PM’s speech at foundation layi...   \n",
       "2  2019      1  Saturday  2019\\19_01_2019_PM’s address at the inaugurati...   \n",
       "3  2019      1   Tuesday  2019\\22_01_2019_PM's address at the 15th Prava...   \n",
       "4  2019      1    Friday  2019\\25_01_2019_PM’s Press Statement during st...   \n",
       "\n",
       "                                              Speech       Date  \\\n",
       "0  ﻿Honourable Ministers and Excellencies from va... 2019-01-18   \n",
       "1  ﻿My dear brothers and sisters \\nToday, as a Pr... 2019-01-19   \n",
       "2  ﻿All the charioteers, superheroes associated w... 2019-01-19   \n",
       "3  ﻿Mauritius Prime Minister Your Excellency, Pra... 2019-01-22   \n",
       "4  ﻿Your Excellency, President Ramaphosa,\\nDistin... 2019-01-25   \n",
       "\n",
       "                                            no_punct  \\\n",
       "0  ﻿honourable ministers and excellencies from va...   \n",
       "1  ﻿my dear brothers and sisters today as a prime...   \n",
       "2  ﻿all the charioteers superheroes associated wi...   \n",
       "3  ﻿mauritius prime minister your excellency prav...   \n",
       "4  ﻿your excellency president ramaphosadistinguis...   \n",
       "\n",
       "                                              Tokens  \\\n",
       "0  [﻿honourable, ministers, and, excellencies, fr...   \n",
       "1  [﻿my, dear, brothers, and, sisters, today, as,...   \n",
       "2  [﻿all, the, charioteers, superheroes, associat...   \n",
       "3  [﻿mauritius, prime, minister, your, excellency...   \n",
       "4  [﻿your, excellency, president, ramaphosadistin...   \n",
       "\n",
       "                                        no_stopwords  \\\n",
       "0  [﻿honourable, ministers, excellencies, various...   \n",
       "1  [﻿my, dear, brothers, sisters, today, prime, m...   \n",
       "2  [﻿all, charioteers, superheroes, associated, c...   \n",
       "3  [﻿mauritius, prime, minister, excellency, prav...   \n",
       "4  [﻿your, excellency, president, ramaphosadistin...   \n",
       "\n",
       "                                           nltk.Text  \n",
       "0  (﻿honourable, ministers, excellencies, various...  \n",
       "1  (﻿my, dear, brothers, sisters, today, prime, m...  \n",
       "2  (﻿all, charioteers, superheroes, associated, c...  \n",
       "3  (﻿mauritius, prime, minister, excellency, prav...  \n",
       "4  (﻿your, excellency, president, ramaphosadistin...  "
      ]
     },
     "execution_count": 22,
     "metadata": {},
     "output_type": "execute_result"
    }
   ],
   "source": [
    "nm_df.head()"
   ]
  },
  {
   "cell_type": "code",
   "execution_count": 23,
   "metadata": {},
   "outputs": [
    {
     "name": "stderr",
     "output_type": "stream",
     "text": [
      "C:\\Users\\hp\\Anaconda3\\lib\\site-packages\\ipykernel_launcher.py:3: FutureWarning: sortlevel is deprecated, use sort_index(level=...)\n",
      "  This is separate from the ipykernel package so we can avoid doing imports until\n"
     ]
    },
    {
     "data": {
      "text/plain": [
       "Monday       5\n",
       "Tuesday      6\n",
       "Wednesday    0\n",
       "Thursday     3\n",
       "Friday       7\n",
       "Saturday     9\n",
       "Sunday       7\n",
       "Name: Day, dtype: int64"
      ]
     },
     "execution_count": 23,
     "metadata": {},
     "output_type": "execute_result"
    }
   ],
   "source": [
    "# getting count by weekday\n",
    "\n",
    "by_weekday = nm_df['Day'].value_counts().sortlevel()\n",
    "by_weekday"
   ]
  },
  {
   "cell_type": "markdown",
   "metadata": {},
   "source": [
    "#### Plotting number of speeches per day of the week."
   ]
  },
  {
   "cell_type": "code",
   "execution_count": 24,
   "metadata": {},
   "outputs": [
    {
     "data": {
      "image/png": "[encoded data removed]",
      "text/plain": [
       "<Figure size 1296x576 with 1 Axes>"
      ]
     },
     "metadata": {},
     "output_type": "display_data"
    }
   ],
   "source": [
    "by_weekday.plot.bar()\n",
    "plt.title(\"Number of speeches per weekday\", fontdict={'fontsize': 20})\n",
    "plt.ylabel(\"Number of speeches\", fontdict={'fontsize': 14})\n",
    "plt.xlabel(\"Day of the week\", fontdict={'fontsize': 14});"
   ]
  },
  {
   "cell_type": "code",
   "execution_count": 27,
   "metadata": {},
   "outputs": [
    {
     "data": {
      "text/plain": [
       "1      9\n",
       "2     27\n",
       "3      3\n",
       "10     1\n",
       "Name: Month, dtype: int64"
      ]
     },
     "execution_count": 27,
     "metadata": {},
     "output_type": "execute_result"
    }
   ],
   "source": [
    "by_month = nm_df['Month'].value_counts().sort_index()\n",
    "by_month"
   ]
  },
  {
   "cell_type": "code",
   "execution_count": 29,
   "metadata": {},
   "outputs": [
    {
     "data": {
      "image/png": "[encoded data removed]",
      "text/plain": [
       "<Figure size 1296x576 with 1 Axes>"
      ]
     },
     "metadata": {},
     "output_type": "display_data"
    }
   ],
   "source": [
    "by_month.plot.bar()\n",
    "plt.title(\"Number of speeches per month\", fontdict={'fontsize': 20})\n",
    "plt.ylabel(\"Number of speeches\", fontdict={'fontsize': 14})\n",
    "plt.xlabel(\"Month\", fontdict={'fontsize': 14})\n",
    "labels = ['January','February','March','April','May','June','July','August','September','October','November','December']\n",
    "plt.xticks(range(12), labels, rotation='horizontal');"
   ]
  }
 ],
 "metadata": {
  "kernelspec": {
   "display_name": "Python 3",
   "language": "python",
   "name": "python3"
  },
  "language_info": {
   "codemirror_mode": {
    "name": "ipython",
    "version": 3
   },
   "file_extension": ".py",
   "mimetype": "text/x-python",
   "name": "python",
   "nbconvert_exporter": "python",
   "pygments_lexer": "ipython3",
   "version": "3.7.0"
  }
 },
 "nbformat": 4,
 "nbformat_minor": 2
}
