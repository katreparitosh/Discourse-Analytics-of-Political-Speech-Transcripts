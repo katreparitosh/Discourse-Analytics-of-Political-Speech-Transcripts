{
 "cells": [
  {
   "cell_type": "code",
   "execution_count": 244,
   "metadata": {},
   "outputs": [],
   "source": [
    "#Putting all the import packages over here.\n",
    "import pandas as pd\n",
    "import re\n",
    "pd.options.display.max_columns = 30  #Can't have too many columns.\n",
    "import glob\n",
    "from datetime import datetime\n",
    "import dateutil.parser\n",
    "import nltk\n",
    "import numpy as np\n",
    "import matplotlib.pyplot as plt\n",
    "%matplotlib inline\n",
    "plt.rcParams['figure.figsize']= (17,5)\n",
    "from collections import Counter\n",
    "import re\n",
    "import string\n",
    "from sklearn.feature_extraction.text import CountVectorizer\n",
    "from sklearn.feature_extraction.text import TfidfVectorizer\n",
    "import re\n",
    "from nltk.stem.porter import PorterStemmer\n",
    "from sklearn.cluster import KMeans\n",
    "import langid\n",
    "from tqdm import tqdm\n",
    "import os"
   ]
  },
  {
   "cell_type": "code",
   "execution_count": 247,
   "metadata": {},
   "outputs": [
    {
     "data": {
      "text/plain": [
       "40"
      ]
     },
     "execution_count": 247,
     "metadata": {},
     "output_type": "execute_result"
    }
   ],
   "source": [
    "#Checking if all the speeches are loaded or not\n",
    "folder = nltk.data.find('A:/Data Analysis Jupyter/Campaign-Analytics/Speeches/narendramodi/2019/')\n",
    "path_link = 'A:/Data Analysis Jupyter/Campaign-Analytics/Speeches/narendramodi/2019/*'\n",
    "paths = glob.glob(path_link)\n",
    "len(paths)"
   ]
  },
  {
   "cell_type": "code",
   "execution_count": 366,
   "metadata": {},
   "outputs": [
    {
     "data": {
      "text/html": [
       "<div>\n",
       "<style scoped>\n",
       "    .dataframe tbody tr th:only-of-type {\n",
       "        vertical-align: middle;\n",
       "    }\n",
       "\n",
       "    .dataframe tbody tr th {\n",
       "        vertical-align: top;\n",
       "    }\n",
       "\n",
       "    .dataframe thead th {\n",
       "        text-align: right;\n",
       "    }\n",
       "</style>\n",
       "<table border=\"1\" class=\"dataframe\">\n",
       "  <thead>\n",
       "    <tr style=\"text-align: right;\">\n",
       "      <th></th>\n",
       "      <th>Date</th>\n",
       "      <th>Speech</th>\n",
       "      <th>Title</th>\n",
       "    </tr>\n",
       "  </thead>\n",
       "  <tbody>\n",
       "    <tr>\n",
       "      <th>0</th>\n",
       "      <td>2019-02-01</td>\n",
       "      <td>﻿“This is a major step towards making India a ...</td>\n",
       "      <td>2019\\01_02_2019_PM’s address on Budget 2019-20...</td>\n",
       "    </tr>\n",
       "    <tr>\n",
       "      <th>1</th>\n",
       "      <td>2019-03-01</td>\n",
       "      <td>﻿Friends.\\nI am delighted to be here in Kanyak...</td>\n",
       "      <td>2019\\01_03_2019_PM’s address after launch of d...</td>\n",
       "    </tr>\n",
       "    <tr>\n",
       "      <th>2</th>\n",
       "      <td>2019-03-02</td>\n",
       "      <td>﻿Arun Puri, Chairman and Editor-in-Chief of In...</td>\n",
       "      <td>2019\\02_03_2019_PM’s address at the India Toda...</td>\n",
       "    </tr>\n",
       "    <tr>\n",
       "      <th>3</th>\n",
       "      <td>2019-03-02</td>\n",
       "      <td>﻿Congratulations to all the young colleagues w...</td>\n",
       "      <td>2019\\02_03_2019_PM’s opening remarks on the oc...</td>\n",
       "    </tr>\n",
       "    <tr>\n",
       "      <th>4</th>\n",
       "      <td>2019-02-03</td>\n",
       "      <td>﻿Before coming here someone told me that there...</td>\n",
       "      <td>2019\\03_02_2019_PM’s address at inauguration o...</td>\n",
       "    </tr>\n",
       "    <tr>\n",
       "      <th>5</th>\n",
       "      <td>2019-02-07</td>\n",
       "      <td>﻿Chairman, I have come to thank him on the hon...</td>\n",
       "      <td>2019\\07_02_2019_PM’s address at the reply to t...</td>\n",
       "    </tr>\n",
       "    <tr>\n",
       "      <th>6</th>\n",
       "      <td>2019-02-09</td>\n",
       "      <td>﻿My dear brothers and sistersThe rising sun sy...</td>\n",
       "      <td>2019\\09_02_2019_PM’s address at the inaugurati...</td>\n",
       "    </tr>\n",
       "    <tr>\n",
       "      <th>7</th>\n",
       "      <td>2019-02-11</td>\n",
       "      <td>﻿Ladies and Gentlemen, I was delayed in coming...</td>\n",
       "      <td>2019\\11_02_2019_PM's address at third Billiont...</td>\n",
       "    </tr>\n",
       "    <tr>\n",
       "      <th>8</th>\n",
       "      <td>2019-02-12</td>\n",
       "      <td>﻿Governor of Haryana Shri Satyadev Narayan Ary...</td>\n",
       "      <td>2019\\12_02_2019_PM’s address at the foundation...</td>\n",
       "    </tr>\n",
       "    <tr>\n",
       "      <th>9</th>\n",
       "      <td>2019-02-12</td>\n",
       "      <td>﻿His Excellency, President, Vice President, Sp...</td>\n",
       "      <td>2019\\12_02_2019_PM’s address at the unveiling ...</td>\n",
       "    </tr>\n",
       "  </tbody>\n",
       "</table>\n",
       "</div>"
      ],
      "text/plain": [
       "        Date                                             Speech  \\\n",
       "0 2019-02-01  ﻿“This is a major step towards making India a ...   \n",
       "1 2019-03-01  ﻿Friends.\\nI am delighted to be here in Kanyak...   \n",
       "2 2019-03-02  ﻿Arun Puri, Chairman and Editor-in-Chief of In...   \n",
       "3 2019-03-02  ﻿Congratulations to all the young colleagues w...   \n",
       "4 2019-02-03  ﻿Before coming here someone told me that there...   \n",
       "5 2019-02-07  ﻿Chairman, I have come to thank him on the hon...   \n",
       "6 2019-02-09  ﻿My dear brothers and sistersThe rising sun sy...   \n",
       "7 2019-02-11  ﻿Ladies and Gentlemen, I was delayed in coming...   \n",
       "8 2019-02-12  ﻿Governor of Haryana Shri Satyadev Narayan Ary...   \n",
       "9 2019-02-12  ﻿His Excellency, President, Vice President, Sp...   \n",
       "\n",
       "                                               Title  \n",
       "0  2019\\01_02_2019_PM’s address on Budget 2019-20...  \n",
       "1  2019\\01_03_2019_PM’s address after launch of d...  \n",
       "2  2019\\02_03_2019_PM’s address at the India Toda...  \n",
       "3  2019\\02_03_2019_PM’s opening remarks on the oc...  \n",
       "4  2019\\03_02_2019_PM’s address at inauguration o...  \n",
       "5  2019\\07_02_2019_PM’s address at the reply to t...  \n",
       "6  2019\\09_02_2019_PM’s address at the inaugurati...  \n",
       "7  2019\\11_02_2019_PM's address at third Billiont...  \n",
       "8  2019\\12_02_2019_PM’s address at the foundation...  \n",
       "9  2019\\12_02_2019_PM’s address at the unveiling ...  "
      ]
     },
     "execution_count": 366,
     "metadata": {},
     "output_type": "execute_result"
    }
   ],
   "source": [
    "nm_speeches = [ ]  #Empty dataframe to store all the content of speeches\n",
    "for path in paths:\n",
    "    corpusReader = nltk.corpus.PlaintextCorpusReader(folder, '.*\\.txt')\n",
    "    # opening the files and converting it to a dictionary\n",
    "    with open(path, encoding=\"utf-8\") as speech_file:\n",
    "        filename = path.split('/')[-1]\n",
    "        date = re.search(r\"(\\d\\d)_(\\d\\d)_(\\d\\d\\d\\d)\", filename) \n",
    "        if date:\n",
    "            date = datetime.strptime(date.group(0), '%d_%m_%Y')\n",
    "        else:\n",
    "            date = np.nan\n",
    "        speech = {\n",
    "            'Title' : path.split('/')[-1],\n",
    "            'Speech' : speech_file.read(),\n",
    "            'Date' : date\n",
    "        }   \n",
    "    nm_speeches.append(speech)\n",
    "nm_df = pd.DataFrame(nm_speeches)\n",
    "nm_df.head(10)"
   ]
  },
  {
   "cell_type": "code",
   "execution_count": 368,
   "metadata": {},
   "outputs": [],
   "source": [
    "nm_df['Year'],nm_df['Month'],nm_df['Day'] = nm_df.Date.dt.year, nm_df.Date.dt.month, nm_df.Date.dt.day"
   ]
  },
  {
   "cell_type": "code",
   "execution_count": 369,
   "metadata": {},
   "outputs": [
    {
     "data": {
      "text/html": [
       "<div>\n",
       "<style scoped>\n",
       "    .dataframe tbody tr th:only-of-type {\n",
       "        vertical-align: middle;\n",
       "    }\n",
       "\n",
       "    .dataframe tbody tr th {\n",
       "        vertical-align: top;\n",
       "    }\n",
       "\n",
       "    .dataframe thead th {\n",
       "        text-align: right;\n",
       "    }\n",
       "</style>\n",
       "<table border=\"1\" class=\"dataframe\">\n",
       "  <thead>\n",
       "    <tr style=\"text-align: right;\">\n",
       "      <th></th>\n",
       "      <th>Date</th>\n",
       "      <th>Speech</th>\n",
       "      <th>Title</th>\n",
       "      <th>Year</th>\n",
       "      <th>Month</th>\n",
       "      <th>Day</th>\n",
       "    </tr>\n",
       "  </thead>\n",
       "  <tbody>\n",
       "    <tr>\n",
       "      <th>0</th>\n",
       "      <td>2019-02-01</td>\n",
       "      <td>﻿“This is a major step towards making India a ...</td>\n",
       "      <td>2019\\01_02_2019_PM’s address on Budget 2019-20...</td>\n",
       "      <td>2019</td>\n",
       "      <td>2</td>\n",
       "      <td>1</td>\n",
       "    </tr>\n",
       "    <tr>\n",
       "      <th>1</th>\n",
       "      <td>2019-03-01</td>\n",
       "      <td>﻿Friends.\\nI am delighted to be here in Kanyak...</td>\n",
       "      <td>2019\\01_03_2019_PM’s address after launch of d...</td>\n",
       "      <td>2019</td>\n",
       "      <td>3</td>\n",
       "      <td>1</td>\n",
       "    </tr>\n",
       "    <tr>\n",
       "      <th>2</th>\n",
       "      <td>2019-03-02</td>\n",
       "      <td>﻿Arun Puri, Chairman and Editor-in-Chief of In...</td>\n",
       "      <td>2019\\02_03_2019_PM’s address at the India Toda...</td>\n",
       "      <td>2019</td>\n",
       "      <td>3</td>\n",
       "      <td>2</td>\n",
       "    </tr>\n",
       "    <tr>\n",
       "      <th>3</th>\n",
       "      <td>2019-03-02</td>\n",
       "      <td>﻿Congratulations to all the young colleagues w...</td>\n",
       "      <td>2019\\02_03_2019_PM’s opening remarks on the oc...</td>\n",
       "      <td>2019</td>\n",
       "      <td>3</td>\n",
       "      <td>2</td>\n",
       "    </tr>\n",
       "    <tr>\n",
       "      <th>4</th>\n",
       "      <td>2019-02-03</td>\n",
       "      <td>﻿Before coming here someone told me that there...</td>\n",
       "      <td>2019\\03_02_2019_PM’s address at inauguration o...</td>\n",
       "      <td>2019</td>\n",
       "      <td>2</td>\n",
       "      <td>3</td>\n",
       "    </tr>\n",
       "  </tbody>\n",
       "</table>\n",
       "</div>"
      ],
      "text/plain": [
       "        Date                                             Speech  \\\n",
       "0 2019-02-01  ﻿“This is a major step towards making India a ...   \n",
       "1 2019-03-01  ﻿Friends.\\nI am delighted to be here in Kanyak...   \n",
       "2 2019-03-02  ﻿Arun Puri, Chairman and Editor-in-Chief of In...   \n",
       "3 2019-03-02  ﻿Congratulations to all the young colleagues w...   \n",
       "4 2019-02-03  ﻿Before coming here someone told me that there...   \n",
       "\n",
       "                                               Title  Year  Month  Day  \n",
       "0  2019\\01_02_2019_PM’s address on Budget 2019-20...  2019      2    1  \n",
       "1  2019\\01_03_2019_PM’s address after launch of d...  2019      3    1  \n",
       "2  2019\\02_03_2019_PM’s address at the India Toda...  2019      3    2  \n",
       "3  2019\\02_03_2019_PM’s opening remarks on the oc...  2019      3    2  \n",
       "4  2019\\03_02_2019_PM’s address at inauguration o...  2019      2    3  "
      ]
     },
     "execution_count": 369,
     "metadata": {},
     "output_type": "execute_result"
    }
   ],
   "source": [
    "nm_df.head()"
   ]
  },
  {
   "cell_type": "code",
   "execution_count": 371,
   "metadata": {},
   "outputs": [],
   "source": [
    "nm_df = nm_df[[\"Year\",\"Month\", \"Day\", \"Title\", \"Speech\", \"Date\"]]"
   ]
  },
  {
   "cell_type": "code",
   "execution_count": 372,
   "metadata": {},
   "outputs": [
    {
     "data": {
      "text/html": [
       "<div>\n",
       "<style scoped>\n",
       "    .dataframe tbody tr th:only-of-type {\n",
       "        vertical-align: middle;\n",
       "    }\n",
       "\n",
       "    .dataframe tbody tr th {\n",
       "        vertical-align: top;\n",
       "    }\n",
       "\n",
       "    .dataframe thead th {\n",
       "        text-align: right;\n",
       "    }\n",
       "</style>\n",
       "<table border=\"1\" class=\"dataframe\">\n",
       "  <thead>\n",
       "    <tr style=\"text-align: right;\">\n",
       "      <th></th>\n",
       "      <th>Year</th>\n",
       "      <th>Month</th>\n",
       "      <th>Day</th>\n",
       "      <th>Title</th>\n",
       "      <th>Speech</th>\n",
       "      <th>Date</th>\n",
       "    </tr>\n",
       "  </thead>\n",
       "  <tbody>\n",
       "    <tr>\n",
       "      <th>0</th>\n",
       "      <td>2019</td>\n",
       "      <td>2</td>\n",
       "      <td>1</td>\n",
       "      <td>2019\\01_02_2019_PM’s address on Budget 2019-20...</td>\n",
       "      <td>﻿“This is a major step towards making India a ...</td>\n",
       "      <td>2019-02-01</td>\n",
       "    </tr>\n",
       "    <tr>\n",
       "      <th>1</th>\n",
       "      <td>2019</td>\n",
       "      <td>3</td>\n",
       "      <td>1</td>\n",
       "      <td>2019\\01_03_2019_PM’s address after launch of d...</td>\n",
       "      <td>﻿Friends.\\nI am delighted to be here in Kanyak...</td>\n",
       "      <td>2019-03-01</td>\n",
       "    </tr>\n",
       "    <tr>\n",
       "      <th>2</th>\n",
       "      <td>2019</td>\n",
       "      <td>3</td>\n",
       "      <td>2</td>\n",
       "      <td>2019\\02_03_2019_PM’s address at the India Toda...</td>\n",
       "      <td>﻿Arun Puri, Chairman and Editor-in-Chief of In...</td>\n",
       "      <td>2019-03-02</td>\n",
       "    </tr>\n",
       "    <tr>\n",
       "      <th>3</th>\n",
       "      <td>2019</td>\n",
       "      <td>3</td>\n",
       "      <td>2</td>\n",
       "      <td>2019\\02_03_2019_PM’s opening remarks on the oc...</td>\n",
       "      <td>﻿Congratulations to all the young colleagues w...</td>\n",
       "      <td>2019-03-02</td>\n",
       "    </tr>\n",
       "    <tr>\n",
       "      <th>4</th>\n",
       "      <td>2019</td>\n",
       "      <td>2</td>\n",
       "      <td>3</td>\n",
       "      <td>2019\\03_02_2019_PM’s address at inauguration o...</td>\n",
       "      <td>﻿Before coming here someone told me that there...</td>\n",
       "      <td>2019-02-03</td>\n",
       "    </tr>\n",
       "  </tbody>\n",
       "</table>\n",
       "</div>"
      ],
      "text/plain": [
       "   Year  Month  Day                                              Title  \\\n",
       "0  2019      2    1  2019\\01_02_2019_PM’s address on Budget 2019-20...   \n",
       "1  2019      3    1  2019\\01_03_2019_PM’s address after launch of d...   \n",
       "2  2019      3    2  2019\\02_03_2019_PM’s address at the India Toda...   \n",
       "3  2019      3    2  2019\\02_03_2019_PM’s opening remarks on the oc...   \n",
       "4  2019      2    3  2019\\03_02_2019_PM’s address at inauguration o...   \n",
       "\n",
       "                                              Speech       Date  \n",
       "0  ﻿“This is a major step towards making India a ... 2019-02-01  \n",
       "1  ﻿Friends.\\nI am delighted to be here in Kanyak... 2019-03-01  \n",
       "2  ﻿Arun Puri, Chairman and Editor-in-Chief of In... 2019-03-02  \n",
       "3  ﻿Congratulations to all the young colleagues w... 2019-03-02  \n",
       "4  ﻿Before coming here someone told me that there... 2019-02-03  "
      ]
     },
     "execution_count": 372,
     "metadata": {},
     "output_type": "execute_result"
    }
   ],
   "source": [
    "nm_df.head()"
   ]
  },
  {
   "cell_type": "code",
   "execution_count": 52,
   "metadata": {},
   "outputs": [
    {
     "data": {
      "text/html": [
       "<div>\n",
       "<style scoped>\n",
       "    .dataframe tbody tr th:only-of-type {\n",
       "        vertical-align: middle;\n",
       "    }\n",
       "\n",
       "    .dataframe tbody tr th {\n",
       "        vertical-align: top;\n",
       "    }\n",
       "\n",
       "    .dataframe thead th {\n",
       "        text-align: right;\n",
       "    }\n",
       "</style>\n",
       "<table border=\"1\" class=\"dataframe\">\n",
       "  <thead>\n",
       "    <tr style=\"text-align: right;\">\n",
       "      <th></th>\n",
       "      <th>content</th>\n",
       "      <th>date</th>\n",
       "      <th>filename</th>\n",
       "    </tr>\n",
       "    <tr>\n",
       "      <th>date</th>\n",
       "      <th></th>\n",
       "      <th></th>\n",
       "      <th></th>\n",
       "    </tr>\n",
       "  </thead>\n",
       "  <tbody>\n",
       "    <tr>\n",
       "      <th>2019-02-01</th>\n",
       "      <td>﻿“This is a major step towards making India a ...</td>\n",
       "      <td>2019-02-01</td>\n",
       "      <td>2019\\01_02_2019_PM’s address on Budget 2019-20...</td>\n",
       "    </tr>\n",
       "    <tr>\n",
       "      <th>2019-03-01</th>\n",
       "      <td>﻿Friends.\\n\\nI am delighted to be here in Kany...</td>\n",
       "      <td>2019-03-01</td>\n",
       "      <td>2019\\01_03_2019_PM’s address after launch of d...</td>\n",
       "    </tr>\n",
       "    <tr>\n",
       "      <th>2019-03-02</th>\n",
       "      <td>﻿Arun Puri, Chairman and Editor-in-Chief of In...</td>\n",
       "      <td>2019-03-02</td>\n",
       "      <td>2019\\02_03_2019_PM’s address at the India Toda...</td>\n",
       "    </tr>\n",
       "    <tr>\n",
       "      <th>2019-03-02</th>\n",
       "      <td>﻿Congratulations to all the young colleagues w...</td>\n",
       "      <td>2019-03-02</td>\n",
       "      <td>2019\\02_03_2019_PM’s opening remarks on the oc...</td>\n",
       "    </tr>\n",
       "    <tr>\n",
       "      <th>2019-02-03</th>\n",
       "      <td>﻿Before coming here someone told me that there...</td>\n",
       "      <td>2019-02-03</td>\n",
       "      <td>2019\\03_02_2019_PM’s address at inauguration o...</td>\n",
       "    </tr>\n",
       "  </tbody>\n",
       "</table>\n",
       "</div>"
      ],
      "text/plain": [
       "                                                      content       date  \\\n",
       "date                                                                       \n",
       "2019-02-01  ﻿“This is a major step towards making India a ... 2019-02-01   \n",
       "2019-03-01  ﻿Friends.\\n\\nI am delighted to be here in Kany... 2019-03-01   \n",
       "2019-03-02  ﻿Arun Puri, Chairman and Editor-in-Chief of In... 2019-03-02   \n",
       "2019-03-02  ﻿Congratulations to all the young colleagues w... 2019-03-02   \n",
       "2019-02-03  ﻿Before coming here someone told me that there... 2019-02-03   \n",
       "\n",
       "                                                     filename  \n",
       "date                                                           \n",
       "2019-02-01  2019\\01_02_2019_PM’s address on Budget 2019-20...  \n",
       "2019-03-01  2019\\01_03_2019_PM’s address after launch of d...  \n",
       "2019-03-02  2019\\02_03_2019_PM’s address at the India Toda...  \n",
       "2019-03-02  2019\\02_03_2019_PM’s opening remarks on the oc...  \n",
       "2019-02-03  2019\\03_02_2019_PM’s address at inauguration o...  "
      ]
     },
     "execution_count": 52,
     "metadata": {},
     "output_type": "execute_result"
    }
   ],
   "source": [
    "nm_df.index = nm_df['date']  #Setting a dateindex\n",
    "nm_df.head()"
   ]
  },
  {
   "cell_type": "code",
   "execution_count": 60,
   "metadata": {},
   "outputs": [
    {
     "data": {
      "text/plain": [
       "<matplotlib.axes._subplots.AxesSubplot at 0x231954e1fd0>"
      ]
     },
     "execution_count": 60,
     "metadata": {},
     "output_type": "execute_result"
    },
    {
     "data": {
      "image/png": "[encoded data removed]",
      "text/plain": [
       "<Figure size 432x288 with 1 Axes>"
      ]
     },
     "metadata": {},
     "output_type": "display_data"
    }
   ],
   "source": [
    "plt.style.use('ggplot')\n",
    "nm_df.groupby(by=nm_df.index.weekday_name)['filename'].count().plot()"
   ]
  },
  {
   "cell_type": "markdown",
   "metadata": {},
   "source": [
    "### Word Occurances in his speechs"
   ]
  },
  {
   "cell_type": "code",
   "execution_count": 63,
   "metadata": {},
   "outputs": [],
   "source": [
    "#Words whose occurances we would want to track\n",
    "list_of_words = [\"freedom\", \"democracy\", \"nation\", \"world\", \"soil\",\n",
    "    \"environment\", \"oil\", \"jobs\", \"education\", \"employment\", \"security\",\n",
    "    \"terrorism\", \"pakistan\", \"china\", \"u.s\", \"america\", \"rape\", \"rahul\",\n",
    "    \"corruption\", \"black money\", \"farmers\",\"suicide\", \"surgical strike\"]"
   ]
  },
  {
   "cell_type": "code",
   "execution_count": 64,
   "metadata": {},
   "outputs": [],
   "source": [
    "#Word Count Function\n",
    "def get_word_time_trend(x, word):\n",
    "    text_string = re.sub('', '', x).lower().split()\n",
    "    c = 0\n",
    "    for w in text_string:\n",
    "        if (w == word):\n",
    "            c += 1\n",
    "    return c"
   ]
  },
  {
   "cell_type": "code",
   "execution_count": 65,
   "metadata": {},
   "outputs": [],
   "source": [
    "#Normalize\n",
    "def normalize(x, y):\n",
    "    return (1000 * x) / y"
   ]
  },
  {
   "cell_type": "code",
   "execution_count": 66,
   "metadata": {},
   "outputs": [],
   "source": [
    "df = nm_df.copy()"
   ]
  },
  {
   "cell_type": "code",
   "execution_count": 67,
   "metadata": {},
   "outputs": [],
   "source": [
    "for word in list_of_words:\n",
    "    df['t_' + word] = df.content.apply(lambda x: get_word_time_trend(x, word))"
   ]
  },
  {
   "cell_type": "code",
   "execution_count": 68,
   "metadata": {},
   "outputs": [],
   "source": [
    "df2 = df[df.index.isnull() == False]"
   ]
  },
  {
   "cell_type": "code",
   "execution_count": 72,
   "metadata": {},
   "outputs": [],
   "source": [
    "nm_fdist = nltk.FreqDist(nm_df)"
   ]
  },
  {
   "cell_type": "code",
   "execution_count": 73,
   "metadata": {},
   "outputs": [
    {
     "data": {
      "text/plain": [
       "3"
      ]
     },
     "execution_count": 73,
     "metadata": {},
     "output_type": "execute_result"
    }
   ],
   "source": [
    "len(nm_fdist)"
   ]
  },
  {
   "cell_type": "code",
   "execution_count": 74,
   "metadata": {},
   "outputs": [
    {
     "data": {
      "text/plain": [
       "[('content', 1), ('date', 1), ('filename', 1)]"
      ]
     },
     "execution_count": 74,
     "metadata": {},
     "output_type": "execute_result"
    }
   ],
   "source": [
    "nm_fdist.most_common()"
   ]
  }
 ],
 "metadata": {
  "kernelspec": {
   "display_name": "Python 3",
   "language": "python",
   "name": "python3"
  },
  "language_info": {
   "codemirror_mode": {
    "name": "ipython",
    "version": 3
   },
   "file_extension": ".py",
   "mimetype": "text/x-python",
   "name": "python",
   "nbconvert_exporter": "python",
   "pygments_lexer": "ipython3",
   "version": "3.7.0"
  }
 },
 "nbformat": 4,
 "nbformat_minor": 2
}
