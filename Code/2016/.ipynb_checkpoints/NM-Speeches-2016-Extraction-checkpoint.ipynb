{
 "cells": [
  {
   "cell_type": "code",
   "execution_count": 1,
   "metadata": {},
   "outputs": [],
   "source": [
    "import pandas as pd\n",
    "import re\n",
    "pd.options.display.max_columns = 30  #Can't have too many columns.\n",
    "import glob\n",
    "from datetime import datetime\n",
    "import dateutil.parser\n",
    "import nltk\n",
    "import numpy as np\n",
    "import matplotlib.pyplot as plt\n",
    "%matplotlib inline\n",
    "plt.rcParams['figure.figsize']= (17,5)\n",
    "from collections import Counter\n",
    "import re\n",
    "import string\n",
    "from sklearn.feature_extraction.text import CountVectorizer\n",
    "from sklearn.feature_extraction.text import TfidfVectorizer\n",
    "import re\n",
    "from nltk.stem.porter import PorterStemmer\n",
    "from sklearn.cluster import KMeans\n",
    "import langid\n",
    "from tqdm import tqdm\n",
    "import os\n",
    "import locale "
   ]
  },
  {
   "cell_type": "code",
   "execution_count": 7,
   "metadata": {},
   "outputs": [
    {
     "data": {
      "text/plain": [
       "160"
      ]
     },
     "execution_count": 7,
     "metadata": {},
     "output_type": "execute_result"
    }
   ],
   "source": [
    "#Checking if all the speeches are loaded or not\n",
    "folder = nltk.data.find('A:/Data Analysis Jupyter/Campaign-Analytics/Speeches/narendramodi/2016/')\n",
    "path_link = 'A:/Data Analysis Jupyter/Campaign-Analytics/Speeches/narendramodi/2016/*'\n",
    "paths = glob.glob(path_link)\n",
    "len(paths)"
   ]
  },
  {
   "cell_type": "code",
   "execution_count": 8,
   "metadata": {},
   "outputs": [
    {
     "data": {
      "text/html": [
       "<div>\n",
       "<style scoped>\n",
       "    .dataframe tbody tr th:only-of-type {\n",
       "        vertical-align: middle;\n",
       "    }\n",
       "\n",
       "    .dataframe tbody tr th {\n",
       "        vertical-align: top;\n",
       "    }\n",
       "\n",
       "    .dataframe thead th {\n",
       "        text-align: right;\n",
       "    }\n",
       "</style>\n",
       "<table border=\"1\" class=\"dataframe\">\n",
       "  <thead>\n",
       "    <tr style=\"text-align: right;\">\n",
       "      <th></th>\n",
       "      <th>Date</th>\n",
       "      <th>Speech</th>\n",
       "      <th>Title</th>\n",
       "    </tr>\n",
       "  </thead>\n",
       "  <tbody>\n",
       "    <tr>\n",
       "      <th>0</th>\n",
       "      <td>2016-01-02</td>\n",
       "      <td>à¤à¥à¤°à¥à¤¦à¥à¤µ à¤¦à¤¤à¥à¤¤! à¤¦à¤¤à¥à...</td>\n",
       "      <td>2016\\234_02_Jan_2016_Text_of_PMs_address_at_th...</td>\n",
       "    </tr>\n",
       "    <tr>\n",
       "      <th>1</th>\n",
       "      <td>2016-01-02</td>\n",
       "      <td>à¤®à¥à¤à¥ à¤ªà¥à¤ à¤°à¤¹à¥ à¤¥à¥ à¤à¤¿...</td>\n",
       "      <td>2016\\235_02_Jan_2016_Text_of_PMs_address_at_Ce...</td>\n",
       "    </tr>\n",
       "    <tr>\n",
       "      <th>2</th>\n",
       "      <td>2016-01-03</td>\n",
       "      <td>à¤®à¤à¤ à¤ªà¤° à¤µà¤¿à¤°à¤¾à¤à¤®à¤¾à¤¨ à¤¸à...</td>\n",
       "      <td>2016\\237_03_Jan_2016_Text_of_PMs_address_at_th...</td>\n",
       "    </tr>\n",
       "    <tr>\n",
       "      <th>3</th>\n",
       "      <td>2016-01-03</td>\n",
       "      <td>The Prime Minister, Shri Narendra Modi, today ...</td>\n",
       "      <td>2016\\238_03_Jan_2016_PM_inaugurates_Internatio...</td>\n",
       "    </tr>\n",
       "    <tr>\n",
       "      <th>4</th>\n",
       "      <td>2016-01-10</td>\n",
       "      <td>à¤µà¤¹à¤¾à¤ à¤à¤ªà¤¸à¥à¤¥à¤¿à¤¤ à¤¸à¤­à¥ à...</td>\n",
       "      <td>2016\\239_10_Jan_2016_Text_of_PMs_address_at_th...</td>\n",
       "    </tr>\n",
       "    <tr>\n",
       "      <th>5</th>\n",
       "      <td>2016-01-12</td>\n",
       "      <td>à¤­à¤¾à¤°à¤¤ à¤à¥ à¤à¥à¤¨à¥ âà¤à¥à¤¨ ...</td>\n",
       "      <td>2016\\240_12_Jan_2016_Text_of_PMs_address_at_th...</td>\n",
       "    </tr>\n",
       "    <tr>\n",
       "      <th>6</th>\n",
       "      <td>2016-01-14</td>\n",
       "      <td>à¤à¤ªà¤¸à¥à¤¥à¤¿à¤¤ à¤¸à¤­à¥ à¤®à¤¹à¤¾à¤¨à¥...</td>\n",
       "      <td>2016\\241_14_Jan_2016_Text_of_PMs_address_at_th...</td>\n",
       "    </tr>\n",
       "    <tr>\n",
       "      <th>7</th>\n",
       "      <td>2016-01-16</td>\n",
       "      <td>à¤à¤ Saturday à¤¹à¥, à¤¸à¤°à¤à¤¾à¤° à¤à¤¾...</td>\n",
       "      <td>2016\\242_16_Jan_2016_Text_of_PMs_speech_at_the...</td>\n",
       "    </tr>\n",
       "    <tr>\n",
       "      <th>8</th>\n",
       "      <td>2016-01-19</td>\n",
       "      <td>मंच पर विराजमान सभी वरिष्‍ठ महानुभाव, नौजवान स...</td>\n",
       "      <td>2016\\244_19_Jan_2016_Text_of_the_PMs_address_a...</td>\n",
       "    </tr>\n",
       "    <tr>\n",
       "      <th>9</th>\n",
       "      <td>2016-01-22</td>\n",
       "      <td>à¤à¥à¤à¤¦à¥à¤° à¤®à¥à¤ à¤®à¤à¤¤à¥à¤°à¥...</td>\n",
       "      <td>2016\\245_22_Jan_2016_Text_of_PMs_speech_at_Sam...</td>\n",
       "    </tr>\n",
       "  </tbody>\n",
       "</table>\n",
       "</div>"
      ],
      "text/plain": [
       "        Date                                             Speech  \\\n",
       "0 2016-01-02  à¤à¥à¤°à¥à¤¦à¥à¤µ à¤¦à¤¤à¥à¤¤! à¤¦à¤¤à¥à...   \n",
       "1 2016-01-02  à¤®à¥à¤à¥ à¤ªà¥à¤ à¤°à¤¹à¥ à¤¥à¥ à¤à¤¿...   \n",
       "2 2016-01-03  à¤®à¤à¤ à¤ªà¤° à¤µà¤¿à¤°à¤¾à¤à¤®à¤¾à¤¨ à¤¸à...   \n",
       "3 2016-01-03  The Prime Minister, Shri Narendra Modi, today ...   \n",
       "4 2016-01-10  à¤µà¤¹à¤¾à¤ à¤à¤ªà¤¸à¥à¤¥à¤¿à¤¤ à¤¸à¤­à¥ à...   \n",
       "5 2016-01-12  à¤­à¤¾à¤°à¤¤ à¤à¥ à¤à¥à¤¨à¥ âà¤à¥à¤¨ ...   \n",
       "6 2016-01-14  à¤à¤ªà¤¸à¥à¤¥à¤¿à¤¤ à¤¸à¤­à¥ à¤®à¤¹à¤¾à¤¨à¥...   \n",
       "7 2016-01-16  à¤à¤ Saturday à¤¹à¥, à¤¸à¤°à¤à¤¾à¤° à¤à¤¾...   \n",
       "8 2016-01-19  मंच पर विराजमान सभी वरिष्‍ठ महानुभाव, नौजवान स...   \n",
       "9 2016-01-22  à¤à¥à¤à¤¦à¥à¤° à¤®à¥à¤ à¤®à¤à¤¤à¥à¤°à¥...   \n",
       "\n",
       "                                               Title  \n",
       "0  2016\\234_02_Jan_2016_Text_of_PMs_address_at_th...  \n",
       "1  2016\\235_02_Jan_2016_Text_of_PMs_address_at_Ce...  \n",
       "2  2016\\237_03_Jan_2016_Text_of_PMs_address_at_th...  \n",
       "3  2016\\238_03_Jan_2016_PM_inaugurates_Internatio...  \n",
       "4  2016\\239_10_Jan_2016_Text_of_PMs_address_at_th...  \n",
       "5  2016\\240_12_Jan_2016_Text_of_PMs_address_at_th...  \n",
       "6  2016\\241_14_Jan_2016_Text_of_PMs_address_at_th...  \n",
       "7  2016\\242_16_Jan_2016_Text_of_PMs_speech_at_the...  \n",
       "8  2016\\244_19_Jan_2016_Text_of_the_PMs_address_a...  \n",
       "9  2016\\245_22_Jan_2016_Text_of_PMs_speech_at_Sam...  "
      ]
     },
     "execution_count": 8,
     "metadata": {},
     "output_type": "execute_result"
    }
   ],
   "source": [
    "nm_speeches = [ ]  #Empty dataframe to store all the content of speeches\n",
    "for path in paths:\n",
    "    corpusReader = nltk.corpus.PlaintextCorpusReader(folder, '.*\\.txt')\n",
    "    # opening the files and converting it to a dictionary\n",
    "    with open(path, encoding=\"utf-8\") as speech_file:\n",
    "        filename = path.split('/')[-1]\n",
    "        date = re.search(r\"(_\\d\\d)_(\\w+)_(\\d\\d\\d\\d)\", filename) \n",
    "        if date:\n",
    "            date = datetime.strptime(date.group(0), '_%d_%b_%Y')\n",
    "        else:\n",
    "            date = np.nan\n",
    "        speech = {\n",
    "            'Title' : path.split('/')[-1],\n",
    "            'Speech' : speech_file.read(),\n",
    "            'Date' : date\n",
    "        }   \n",
    "    nm_speeches.append(speech)\n",
    "nm_df = pd.DataFrame(nm_speeches)\n",
    "nm_df.head(10)"
   ]
  },
  {
   "cell_type": "code",
   "execution_count": 9,
   "metadata": {},
   "outputs": [],
   "source": [
    "nm_df['Year'],nm_df['Month'],nm_df['Day'] = nm_df.Date.dt.year, nm_df.Date.dt.month, nm_df.Date.dt.day"
   ]
  },
  {
   "cell_type": "code",
   "execution_count": 10,
   "metadata": {},
   "outputs": [],
   "source": [
    "nm_df = nm_df[[\"Year\",\"Month\", \"Day\", \"Title\", \"Speech\", \"Date\"]]"
   ]
  }
 ],
 "metadata": {
  "kernelspec": {
   "display_name": "Python 3",
   "language": "python",
   "name": "python3"
  },
  "language_info": {
   "codemirror_mode": {
    "name": "ipython",
    "version": 3
   },
   "file_extension": ".py",
   "mimetype": "text/x-python",
   "name": "python",
   "nbconvert_exporter": "python",
   "pygments_lexer": "ipython3",
   "version": "3.7.0"
  }
 },
 "nbformat": 4,
 "nbformat_minor": 2
}
