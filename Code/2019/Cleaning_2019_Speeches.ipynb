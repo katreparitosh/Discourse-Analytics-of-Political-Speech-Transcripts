{
 "cells": [
  {
   "cell_type": "code",
   "execution_count": 3,
   "metadata": {},
   "outputs": [],
   "source": [
    "import pandas as pd\n",
    "import nltk\n",
    "from nltk import word_tokenize\n",
    "from nltk.corpus import stopwords\n",
    "%matplotlib inline\n",
    "import matplotlib.pyplot as plt\n",
    "plt.rcParams[\"figure.figsize\"] = [18.0, 8.0]\n",
    "import re\n",
    "import string"
   ]
  },
  {
   "cell_type": "code",
   "execution_count": 5,
   "metadata": {},
   "outputs": [
    {
     "data": {
      "text/html": [
       "<div>\n",
       "<style scoped>\n",
       "    .dataframe tbody tr th:only-of-type {\n",
       "        vertical-align: middle;\n",
       "    }\n",
       "\n",
       "    .dataframe tbody tr th {\n",
       "        vertical-align: top;\n",
       "    }\n",
       "\n",
       "    .dataframe thead th {\n",
       "        text-align: right;\n",
       "    }\n",
       "</style>\n",
       "<table border=\"1\" class=\"dataframe\">\n",
       "  <thead>\n",
       "    <tr style=\"text-align: right;\">\n",
       "      <th></th>\n",
       "      <th>Year</th>\n",
       "      <th>Month</th>\n",
       "      <th>Day</th>\n",
       "      <th>Title</th>\n",
       "      <th>Speech</th>\n",
       "      <th>Date</th>\n",
       "    </tr>\n",
       "  </thead>\n",
       "  <tbody>\n",
       "    <tr>\n",
       "      <th>0</th>\n",
       "      <td>2019</td>\n",
       "      <td>2</td>\n",
       "      <td>1</td>\n",
       "      <td>2019\\01_02_2019_PM’s address on Budget 2019-20...</td>\n",
       "      <td>﻿“This is a major step towards making India a ...</td>\n",
       "      <td>2019-02-01</td>\n",
       "    </tr>\n",
       "    <tr>\n",
       "      <th>1</th>\n",
       "      <td>2019</td>\n",
       "      <td>3</td>\n",
       "      <td>1</td>\n",
       "      <td>2019\\01_03_2019_PM’s address after launch of d...</td>\n",
       "      <td>﻿Friends.\\nI am delighted to be here in Kanyak...</td>\n",
       "      <td>2019-03-01</td>\n",
       "    </tr>\n",
       "    <tr>\n",
       "      <th>2</th>\n",
       "      <td>2019</td>\n",
       "      <td>3</td>\n",
       "      <td>2</td>\n",
       "      <td>2019\\02_03_2019_PM’s address at the India Toda...</td>\n",
       "      <td>﻿Arun Puri, Chairman and Editor-in-Chief of In...</td>\n",
       "      <td>2019-03-02</td>\n",
       "    </tr>\n",
       "    <tr>\n",
       "      <th>3</th>\n",
       "      <td>2019</td>\n",
       "      <td>3</td>\n",
       "      <td>2</td>\n",
       "      <td>2019\\02_03_2019_PM’s opening remarks on the oc...</td>\n",
       "      <td>﻿Congratulations to all the young colleagues w...</td>\n",
       "      <td>2019-03-02</td>\n",
       "    </tr>\n",
       "    <tr>\n",
       "      <th>4</th>\n",
       "      <td>2019</td>\n",
       "      <td>2</td>\n",
       "      <td>3</td>\n",
       "      <td>2019\\03_02_2019_PM’s address at inauguration o...</td>\n",
       "      <td>﻿Before coming here someone told me that there...</td>\n",
       "      <td>2019-02-03</td>\n",
       "    </tr>\n",
       "  </tbody>\n",
       "</table>\n",
       "</div>"
      ],
      "text/plain": [
       "   Year  Month  Day                                              Title  \\\n",
       "0  2019      2    1  2019\\01_02_2019_PM’s address on Budget 2019-20...   \n",
       "1  2019      3    1  2019\\01_03_2019_PM’s address after launch of d...   \n",
       "2  2019      3    2  2019\\02_03_2019_PM’s address at the India Toda...   \n",
       "3  2019      3    2  2019\\02_03_2019_PM’s opening remarks on the oc...   \n",
       "4  2019      2    3  2019\\03_02_2019_PM’s address at inauguration o...   \n",
       "\n",
       "                                              Speech       Date  \n",
       "0  ﻿“This is a major step towards making India a ... 2019-02-01  \n",
       "1  ﻿Friends.\\nI am delighted to be here in Kanyak... 2019-03-01  \n",
       "2  ﻿Arun Puri, Chairman and Editor-in-Chief of In... 2019-03-02  \n",
       "3  ﻿Congratulations to all the young colleagues w... 2019-03-02  \n",
       "4  ﻿Before coming here someone told me that there... 2019-02-03  "
      ]
     },
     "execution_count": 5,
     "metadata": {},
     "output_type": "execute_result"
    }
   ],
   "source": [
    "nm_df = pd.read_pickle('speeches_df_2019.pkl')\n",
    "nm_df.head()"
   ]
  },
  {
   "cell_type": "code",
   "execution_count": 6,
   "metadata": {},
   "outputs": [],
   "source": [
    "nm_df['Date'] = pd.to_datetime(nm_df.Year * 10000 + nm_df.Month * 100 + nm_df.Day, format = '%Y%m%d')\n"
   ]
  },
  {
   "cell_type": "code",
   "execution_count": 7,
   "metadata": {},
   "outputs": [
    {
     "data": {
      "text/plain": [
       "0   2019-02-01\n",
       "1   2019-03-01\n",
       "2   2019-03-02\n",
       "3   2019-03-02\n",
       "4   2019-02-03\n",
       "Name: Date, dtype: datetime64[ns]"
      ]
     },
     "execution_count": 7,
     "metadata": {},
     "output_type": "execute_result"
    }
   ],
   "source": [
    "nm_df.Date[0:5]"
   ]
  },
  {
   "cell_type": "code",
   "execution_count": 8,
   "metadata": {},
   "outputs": [],
   "source": [
    "# sort by date\n",
    "nm_df.sort_values('Date', inplace = True)"
   ]
  },
  {
   "cell_type": "code",
   "execution_count": 9,
   "metadata": {},
   "outputs": [],
   "source": [
    "# reset index\n",
    "nm_df.reset_index(inplace=True, drop=True)"
   ]
  },
  {
   "cell_type": "code",
   "execution_count": 10,
   "metadata": {},
   "outputs": [
    {
     "data": {
      "text/html": [
       "<div>\n",
       "<style scoped>\n",
       "    .dataframe tbody tr th:only-of-type {\n",
       "        vertical-align: middle;\n",
       "    }\n",
       "\n",
       "    .dataframe tbody tr th {\n",
       "        vertical-align: top;\n",
       "    }\n",
       "\n",
       "    .dataframe thead th {\n",
       "        text-align: right;\n",
       "    }\n",
       "</style>\n",
       "<table border=\"1\" class=\"dataframe\">\n",
       "  <thead>\n",
       "    <tr style=\"text-align: right;\">\n",
       "      <th></th>\n",
       "      <th>Year</th>\n",
       "      <th>Month</th>\n",
       "      <th>Day</th>\n",
       "      <th>Title</th>\n",
       "      <th>Speech</th>\n",
       "      <th>Date</th>\n",
       "    </tr>\n",
       "  </thead>\n",
       "  <tbody>\n",
       "    <tr>\n",
       "      <th>0</th>\n",
       "      <td>2019</td>\n",
       "      <td>1</td>\n",
       "      <td>18</td>\n",
       "      <td>2019\\18_01_2019_PM’s address at the inaugurati...</td>\n",
       "      <td>﻿Honourable Ministers and Excellencies from va...</td>\n",
       "      <td>2019-01-18</td>\n",
       "    </tr>\n",
       "    <tr>\n",
       "      <th>1</th>\n",
       "      <td>2019</td>\n",
       "      <td>1</td>\n",
       "      <td>19</td>\n",
       "      <td>2019\\19_01_2019_PM’s speech at foundation layi...</td>\n",
       "      <td>﻿My dear brothers and sisters \\nToday, as a Pr...</td>\n",
       "      <td>2019-01-19</td>\n",
       "    </tr>\n",
       "    <tr>\n",
       "      <th>2</th>\n",
       "      <td>2019</td>\n",
       "      <td>1</td>\n",
       "      <td>19</td>\n",
       "      <td>2019\\19_01_2019_PM’s address at the inaugurati...</td>\n",
       "      <td>﻿All the charioteers, superheroes associated w...</td>\n",
       "      <td>2019-01-19</td>\n",
       "    </tr>\n",
       "    <tr>\n",
       "      <th>3</th>\n",
       "      <td>2019</td>\n",
       "      <td>1</td>\n",
       "      <td>22</td>\n",
       "      <td>2019\\22_01_2019_PM's address at the 15th Prava...</td>\n",
       "      <td>﻿Mauritius Prime Minister Your Excellency, Pra...</td>\n",
       "      <td>2019-01-22</td>\n",
       "    </tr>\n",
       "    <tr>\n",
       "      <th>4</th>\n",
       "      <td>2019</td>\n",
       "      <td>1</td>\n",
       "      <td>25</td>\n",
       "      <td>2019\\25_01_2019_PM’s Press Statement during st...</td>\n",
       "      <td>﻿Your Excellency, President Ramaphosa,\\nDistin...</td>\n",
       "      <td>2019-01-25</td>\n",
       "    </tr>\n",
       "  </tbody>\n",
       "</table>\n",
       "</div>"
      ],
      "text/plain": [
       "   Year  Month  Day                                              Title  \\\n",
       "0  2019      1   18  2019\\18_01_2019_PM’s address at the inaugurati...   \n",
       "1  2019      1   19  2019\\19_01_2019_PM’s speech at foundation layi...   \n",
       "2  2019      1   19  2019\\19_01_2019_PM’s address at the inaugurati...   \n",
       "3  2019      1   22  2019\\22_01_2019_PM's address at the 15th Prava...   \n",
       "4  2019      1   25  2019\\25_01_2019_PM’s Press Statement during st...   \n",
       "\n",
       "                                              Speech       Date  \n",
       "0  ﻿Honourable Ministers and Excellencies from va... 2019-01-18  \n",
       "1  ﻿My dear brothers and sisters \\nToday, as a Pr... 2019-01-19  \n",
       "2  ﻿All the charioteers, superheroes associated w... 2019-01-19  \n",
       "3  ﻿Mauritius Prime Minister Your Excellency, Pra... 2019-01-22  \n",
       "4  ﻿Your Excellency, President Ramaphosa,\\nDistin... 2019-01-25  "
      ]
     },
     "execution_count": 10,
     "metadata": {},
     "output_type": "execute_result"
    }
   ],
   "source": [
    "nm_df.head()"
   ]
  },
  {
   "cell_type": "code",
   "execution_count": 22,
   "metadata": {},
   "outputs": [
    {
     "data": {
      "text/plain": [
       "'!\"#$%&\\'()*+,-./:;<=>?@[\\\\]^_`{|}~'"
      ]
     },
     "execution_count": 22,
     "metadata": {},
     "output_type": "execute_result"
    }
   ],
   "source": [
    "string.punctuation"
   ]
  },
  {
   "cell_type": "code",
   "execution_count": 24,
   "metadata": {},
   "outputs": [
    {
     "data": {
      "text/plain": [
       "'!\"#$%&\\'()*+,-./:;<=>?@[\\\\]^_`{|}~\\n'"
      ]
     },
     "execution_count": 24,
     "metadata": {},
     "output_type": "execute_result"
    }
   ],
   "source": [
    "punctuation = string.punctuation + '\\n'\n",
    "punctuation"
   ]
  },
  {
   "cell_type": "code",
   "execution_count": 18,
   "metadata": {},
   "outputs": [],
   "source": [
    "# string punctuation from string \n",
    "\n",
    "def no_punct(string):\n",
    "    transtable =  string.maketrans('','', punctuation)\n",
    "    return string.translate(transtable)"
   ]
  },
  {
   "cell_type": "markdown",
   "metadata": {},
   "source": [
    "Addc column with no punctuation "
   ]
  },
  {
   "cell_type": "code",
   "execution_count": 19,
   "metadata": {},
   "outputs": [],
   "source": [
    "nm_df['no_punct'] = nm_df['Speech'].apply(no_punct)"
   ]
  },
  {
   "cell_type": "code",
   "execution_count": 20,
   "metadata": {},
   "outputs": [],
   "source": [
    "# lowercase\n",
    "\n",
    "nm_df['no_punct'] = nm_df['no_punct'].apply(str.lower)"
   ]
  },
  {
   "cell_type": "code",
   "execution_count": 21,
   "metadata": {},
   "outputs": [
    {
     "data": {
      "text/plain": [
       "'\\ufeffhonourable ministers and excellencies from various countries representatives and delegates from partner countries corporate leaders invitees participants and delegates dignitaries on the dais young friends ladies  gentlemeni am delighted to welcome you to the 9th chapter of the vibrant gujarat summitas you can seethis has now become a truly global event one that has space for everyoneit has dignityof the presence of senior political leadershipit has the energyof ceos and corporate leaders it has the gravitas of institutions and opinion makers andit has the vitality of young enterprise and startupsvibrant gujarat has contributed to the confidence building of our enterprises it has also helped in capacity building and adoption of global best practices by government agenciesi wish you all a productive fruitful and enjoyable summitin gujarat this is the season of the kite festivalor uttarayan amid the busy schedule of this summit i hope you shall be able to take some time out to enjoy the sights and sounds of the festivities and the statei particularly welcome and thank the 15 partner countriesof this edition of vibrant gujarati also thank the 11 partner organisationsand all those countries organisations and institutions who are holding their seminars at this forumit is also a matter of satisfaction that eight indian states have come forward to make use of this forum to highlight their respective investment opportunitiesi hope you shall find time to visit the global trade show which is remarkable in its scale and range of worldclass products processes and technologiesin factgujarat represents the best of business spirit which exists in india this eventhas further sharpenedthe edge which gujarat had since several decadesthe vibrant gujarat summit has had a transformational journeyof eight successful editionsa number of conventions and seminarshave been organised on various topics these issues are of importanceto indian society and economyas well as the entire global communityby way of examplelet me mention the celebration of africa day tomorrowand the global conclave of international chambers on 20th januaryfriendsassembled here today is a truly augustgatheringwe are honoured bythe presence of many heads of state and government andseveral other distinguished delegates this shows that international bilateral cooperation is no longer limited to national capitals but now extends to our state capitals as wellin indiaas in most emerging economies our challenge is to grow horizontally as well as verticallyhorizontallywe have to spread the benefits of development to regions and communities that have lagged behindverticallywe have to meet enhanced expectations in terms of quality of life quality of services and quality of infrastructurewe are well awarethat our achievements here in india will directly impact one sixth of humanityfriendsthose who visit india regularlywould have felt a change in the airthe change is both in terms of direction and intensityover the last four yearsthe focus of my government has been to reduce government and enhance governance the mantra of my government has been reform perform transform andfurther performwe have taken a number of drasticsteps we have also undertaken deeper structural reforms which have added strengthto our economy and nationas we have done so we continued to remain one of the fastest growing major economies in the world major international financial institutionslike the world bank and the imfas well as agencies like moody’s have expressed confidence in india’s economic journeywe have focused on removing the barrierswhich were preventing us from achieving our full potential we will continue the pace and process of reforms and deregulationfriendsindia is now ready for business as never before we have made doing business easierin the last four years we have jumped 65places in the global ranking of world bank’s doing business reportfrom 142 in 2014 to 77 now butwe are still not satisfied i have asked my team to work harder so that india is in the top 50 next yeari want our regulations and processes to compare with the best in the worldwe have also made doing business cheaperthe historic implementation of goods and services tax and other measures of simplification and consolidation of taxes havereduced transaction costs andmade processes efficientwe have also made doing business faster through digital processes online transactions and single point interfacesin fdi foreign direct investment we are one of the most open countries now most of the sectors of our economy are now only open for fdi more than 90 percent approvals have been put on automatic route such measures have propelled our economy into a high growth path in the last four years we have received fdi worth 263 billion dollars this is 45 percent of the fdi received in last 18 yearsand friends we have also made doing business smarter we are insisting on it based transactions in procurement and purchases of government digital payments including direct transfer of government benefits is now under full implementation we are among the largest ecosystems in the world for startups and a number of them have come up in the field of technology i can therefore safely say that doing business with us is a great opportunitythis is also because we are among the top 10 fdi destinations listed by unctad ours is a globally cost competitive manufacturing environmentwe have a vast pool of skilled professionals with knowledge and energy we have a world class engineering education base and strong research and development facilities rise in gdp a rising middle class and their purchasing power is creating further growth in our huge domestic market in the last two yearswe have moved towards a low tax regimeon the corporate side we have lowered the tax from 30  to 25  for new investments as well as small andmedium ventureson ipr issues we have evolved benchmarking policies now we are one of the fastest trademark regimesthe insolvency and bankruptcy code nowgives businesses an exit window without the burden of long legal and financial battlesthus from the start of business to its operation and closure we have paid attention in building new institutions processesand procedures all this is important not just for doing business but also for ease of life of our people we also understand that being a young nation we need to create job opportunities and better infrastructure both are linked with investments therefore in recent years there has been unprecedented focus on manufacturing and infrastructurewe have worked hard to promote manufacturing to create jobs for our youth investments through our “make in india” initiative have been well supported by programmes like ‘digital india’ and ‘skill india’ our focus also includes bringing our industrial infrastructure policies and practices to best global standards and to convert india into a global manufacturing hubcleaner energy and greener development zero defect and zero effect manufacturingthese are also our commitments we have committed to the world to work towards reducing the effects of climate change on the energy front we are now the fifth largest producer of renewable energy in the world  we are fourth largest in wind energyand fifth largest producer of solar energywe are keen to scale up investments in next generation infrastructureincluding roads ports railways airports telecom digital networks and energy we are also investing heavily in our social industrial and agriinfrastructure to give better income and quality of life to our people to give some examplesin four years there has been maximum capacity addition  generation of electricityfor the first time india has become a net exporter of electricity we have distributed led bulbs on a massive scale this has resulted in huge energy savingswe have installed transmission lines at an unprecedented pace our speed in road construction has almost doubled we have done unprecedented capacity addition in major ports rural road connectivity is now 90   the speed of setting up new rail lines gauge conversion doubling and electrification of railway tracks has also doubled  we are debottlenecking execution of major projectson a regular basis through an online processour public private partnership regime for infrastructure has been made more investor friendlyat 73the average gdp growth over the entire term of our governmenthas been the highest of any indian government since 1991at the same timethe rate of inflation at46  is the lowest for any indian government since 1991 when india began its process of liberalizationwe believe that fruits of development must reach people with ease and efficiencyto give you a few examples now we have a bank account for every family we are giving loans to small enterprises without collateral we now have electricity in every village     we also have electricityin almost all households now we have given cooking gas to large numbers of people who were not able to afford it so far we have ensured that there is proper sanitation in all areas – both urban and rural we are working towards full coverage of toilets for householdsand their proper useladies and gentlemenwe were among the highest growing tourist destinationsin the world in 2017 india had a growth of 14 percent over 2016while the world grew at an average of 7 percent in the same yearwe have also been the fastest growing aviation market in the world with doubledigit growth in passenger ticketing termsfor over four yearsthusa new india is emergingwhich will be modern and competitiveand yet caring and compassionate an example of this compassionis our medical assurance scheme called ayushman bharatthis will benefit about 500 million people – which is more than the population of united states canada and mexico combined ayushman bharat will provide immense investment opportunitiesin the areas of health infrastructure medical equipment manufacturing and healthcare serviceslet me list some more examples50 cities in india are ready to build metro rail systems we have to build 50 million houses the requirement of road rail and waterways is enormous we want worldclasstechnologies to achieve our goal in a faster and cleaner wayfriends india is thus a land of immense opportunities it is the only place which offers you democracy demography and demandto those who are already present in indiai would like to assure you that our democratic system human values andstrongjudicial system will ensure the safety and security of your investments we are continuously workingto improve the investment climate further and make ourselves more and more competitivefor those who are not yet present in indiai extend an invitation and encourage you to explore the opportunities this is the best time to be herewe have set up dedicated ways to help investors on a one to one basisabove alli assure you that i will be always available to hold your hands in your journeythank you thank you very much thanks a lot'"
      ]
     },
     "execution_count": 21,
     "metadata": {},
     "output_type": "execute_result"
    }
   ],
   "source": [
    "nm_df.no_punct[0]"
   ]
  },
  {
   "cell_type": "code",
   "execution_count": 25,
   "metadata": {},
   "outputs": [
    {
     "data": {
      "text/plain": [
       "'\\ufeffmy dear brothers and sisters today as a prime minister i am between you once again but even before that this suppression should be diwi silvassa the village here it is not new to me there is a chance to come many times on the streets of dadra nagar haveli and daman diu there was a chance to roam the scooter heres a meal a traditional way nagli when everything comes here i miss the old things your love has overwhelmed mewhen in april of 2017 when i came among you i had laid a foundation for many schemes i am glad that most of the work has been completed in such a short time and many of them are being released today today once again between you the project and the foundation stone of more than rs1400 crores has been made here new industrial policy and new it policy have also been launched here to promote industries related to these projects connectivity infrastructure health and education tourism culture and heritage congratulations to all of you for these gifts on new yearthe government of the center with the brothers and sisters everyone all the development mantras is fully devoted to panchadhara of development education for children earning youth medicine for the elderly irrigation of farmers and hearing of the people is a highway for development for us i am also happy to see that the development of daman diu and dadra nagar haveli has reached new heights in the last five years a new identity has been made in both of these areas in many disciplines these two centers have gone ahead in the union territories of the state and have progressed towards perfection today repression both deew and dadra nagar haveli have declared themselves open from open defecation today every household in both the areas has an lpg connection and both have been declared kerosene free today all the houses in both union territory have electricity connections water connections are today those poor people living in these two areas who were eligible to get the house under the prime ministers housing scheme have been sanctioned houses today those people of both the areas who have got the benefits of the ayushman bharat scheme gold card has been issuedcompanions if i talk about the past three years about two and a half million rupees have been invested in these two union territories nine thousand crores you can imagine where now our area is reaching many projects have been started with this amount many have been fulfilled in this episode here today many projects related to health related and collection of foundation stones have been done your very old demand has been fulfilled too dadra nagar haveli daman and diu got their first medical colleges after so many decades of independence to date both the union territories got only 15 seats per year at different places now with the effort 150 seats are being started at the same place in this new medical college this does not mean that it will stop and walk on one and a half hundred the number of students will increase as the number of students increasesbrothers and sisters it is also happening that it can be done without an option starting an alternative building from this year only on medical college i have been told that in order to promote medical education about 50 of paramedical in silvassa and 50 seats of nursing have been arranged in suppression these efforts will benefit the young colleagues and help in improving the health services hereapart from this college which is being built at a cost of rs 200 crore the network of health and wellness center is being made here the best treatment for common diseases will also be possible near home under the ayushmann bharat scheme 15 dozen health and wellness centers have also been releasedbrothers and sisters here a few days ago ayushman bharat and prime minister jan arogya yojana have been given cards to some of their beneficiaries the worlds largest health care plan is being discussed today people are saying it modicare the reason is that under this scheme free treatment of more than 10 thousand poor people in the country is being ensured every day now its been just a little over 100 days in such a short time nearly seven lakh poor patients have been treated in the hospitalalong with associates medicines the facility of studies is also being expanded a long time ago new institutions of education have been dedicated to you dius education hub will help its youth to provide good education near the homealong with brothers and sisters medicine and studies the government is also ensuring that no poor homeless remain if there is no life of no roof it is a permanent house to live under the prime ministers housing scheme a comprehensive campaign to give a permanent home to the poor of the villages and cities is going on throughout the country due to this step towards this resolution many houses have been released today in dadra nagar haveli and diu daman apart from this the foundation stone for the construction of new homes has also been done a while ago including the housing project created for the workers families working in the industrial area of \\u200b\\u200brepression today the people whose home is full of dreams and whose homes are starting to build i congratulate them very much from my side his dream of a new house has been completed in the new yearcompanions in the last four and a half years work has been done for more than one thousand urban poverty alleviation in small areas like dadra nagar haveli in the last four and a half years the construction of the house of poor on the feed and scale with which the committee is working is unprecedented while the previous government where only 25 lakh houses were built in its 5 years our government has now completed construction of more than 125 million homes in 5 years where in 25 years 25 lakh and in 5 years more than 1 crore 25 lakhbrothers and sisters this is not only the four walls but also offers free connections for electricity under good luck toilet also happens in the kitchen free lpg gas connections are also provided under the ujjwala scheme talking about dadra nagar haveli free gas connections have been given to 13 thousand sisters here this type of facilities are being helpful in enhancing the confidence of the poor smart arrangements of the country are being created for the companions normal life of the common man there are several schemes going on to make silvassa and diu city a smart city there are roads streets sewers and water arrangements cleanliness facility is being done at every level a long time ago many projects related to smart city have been opened and laid outcompanions silvassa is the energy center of the economic activities of this entire region many industries are here and there are many possibilities for the industries here in the future the building of silvassa municipal corporation be a sewage treatment plant a project that facilitates connectivity it is all about making life easierdaman and diu along with the colleagues silvas have also given rise to development with the facilities like new pool new sewage line and treatment plant built on daman ganga life of oppressed people is going to be easy the sea wall built in thick suppression is now going to protect you from waves of the ocean with this the problem of soil erosion is going to be very low companions the last time i came here land leases were distributed to many tribal families i have had the opportunity to hand over some land rights letters to some of my colleagues todaygreat efforts are being made for the welfare of the tribals on every level brothers and sisters land plantation of forest studying talent related to sports in the forest produce under the fuel plan centers across the country are being set up for value addition and proper publicity efforts the right value for the tribals who produce the tribal sisterbrother from the forest can be found for this the scope of the support price has been increasedserious efforts are also being made to protect the culture along with the earnings of comrades tribals even today many projects related to history and cultural heritage have been started be a cultural center conservation of old castles be it a memorial site associated with ins khukri in diu it is definitely going to be proven in the preservation and promotion of local culturecompanions culture and pride this monument in history is our guardian of feelings and also employs many opportunities for the youth it gives strength to tourism there are many possibilities for tourism in dadra and nagar haveli the government is making every effort to bring this area on the tourist map this is the feeling behind the daman ganga river front built in silvassa now another center of attraction for tourists coming here is ready here apart from this there is also a reserve forest area of \\u200b\\u200b200 square km this is a boon for the forest area tourism industrial the activity of water sports can be increased in the catchment area of \\u200b\\u200bmadhuban dam efforts are also being made to provide free wifi facilities at dadar and nagar haveli to provide better connectivity to major tourist centers and important placestraditional employment resources and resources are also being strengthened with companions tourism under the blue revolution scheme the government is working to increase the income of fishermen fishermen are easy to catch fish for brothers and sisters it is easy to reach the market there is a work to convert fishermens family names into modern motor boats fishermen have been created a special fund for easy and cheap loans to improve the system of fish production to better business arrangement of around rs7000 crore has been made through this fundbrothers and sisters today for tribals for the poor for the middle class everything is going on in the core of the schemes everyones development is our inspiration whereas the party that runs the government for decades in all its work or saw the possibilities of his family this is the reason that there has been an emphasis on more names than workcompanions we have changed habits of this old government system we have given attention to work rather than name what is the name of government schemes today there are many schemes like ayushman bharat scheme pradhan mantri awas yojana prime minister ujjwala yojana prime minister mudra yojana prime minister janhana yojna prime minister krishi irrigation scheme but there is no modi name anywhere it shows that our intention is to develop the public our culture of family development is neither our intention nor our intention and for me this hundred and fifty million people is my family and the welfare of these hundred and a hundred million people is the path of kalyan for mecompanions this clearly laid out policy and clear policy are trying to mislead them why are modi changing the old rituals of the government it is difficult to see why modi is doing such a tough fight against corruption should not or should not fight against corruption or should not fight should the country get rid of corruption or not it is a problem that why modi has removed the intermediaries roaming in the corridors of power he is getting angry that modi is snatching the rights of the poor his ration is his pension the right to get his rights why his grabbing middleman is throwing out brokers and because of this anger they are now trying to create a big coalition the condition is that those who first used to drink water for drinking congress have also come to a stagecompanions this great coalition is not just against modi but it is also against the people of the country right now its not even completely but how the bargain is going on the accounting is going on the transaction is going on this is also the youth of our country the countrys farmer the countrys first woman to vote for the first time the youth of our country is closely watching these things and there will not be any dust in these peoples eyescompanions the world of these people starts with hatred of modi and ends up abusing modi my world in the morning with the determination of the welfare of the hundred and fifty million people and on the night when i sweat through sweating throughout the day how much good work i have done today my idioms are the same my end also is the same their world is focused on moving forward to their family to their nephews and being declared with great pride brothers and sisters my world my hundred and twentieth million people moved forward it is for the same there is no vision for indias development in the world indias future is not a matter of fact at the same time my attempt is to make india the best country in the 21st centurybrothers and sisters their family how many combinations it can make to save their siddhanta they can not run away from their deeds their misdeeds are following them on the dargah they can not escape only modis opposition will give their politics of selfinterest in the newspapers will remain glittering in the media but in the hearts of the people of the country the people who destroy the country will never be able to make any place brothers and sisters you probably do not know people who get uprooted by the public when the people change their mood when their feet seem to be uncomfortable they become anxious just look at you in calcutta  the bharatiya janata party has only one mla in west bengal just one how many one but to avoid bjp there all the people of entire india have become interested a party with an mla has kept her sleepy because it is the people who walk on the path of truth in spite of being an mla all the jamaat people of india are shouting slogans save save and save them i congratulate the people of west bengal i congratulate the bharatiya janata party of west bengal the single mla so little party has slept the wrongdoers the land has dropped the fear of the slaughter is happeningbrothers and sisters these people are not dictators west bengal kerala dudardagar is oppressed in west bengal the political party is banned for the program every kind of democratic processes are done democracy is strangled then there is talk of saving the democracy by getting there and then i have to say that when i see the picture of west bengal then i would say that the election of the panchayat who thrives on democracy when people who are nominated to death are talking about saving democracy then the country comes out of the mouth wow what is the scene companions this fight is between positive thinking and negative attitude this fight is between development and corruption this fight is between the public and the general body brothers and sisters right thinking along with positive thinking is the way to create a new india on this path we all have to walk the people of the country at a fast pace this positivity is growing in our country and mind in the new year with this desire we are moving forward with the decision to take the country to new heights and brothers and sisters are watching you i have been walking since morning indias army should get the benefit of make in india strong tanks near indias army are made up of the country sometimes in the morning and worrying about them the army of the country to increase strength then today to make public security here i am working to get the medical college to the younger generation here brothers and sisters in calcutta people are gathering together to save the party and i am living with you to pursue the country by coming into your midst this difference is clear friends this difference is clear they are looking for shelter to save themselves i have been moving everyone along with the development of the country all the development and progress of the country and the blessings given to you by coming in the number of millions in divya suppression this is the mood of hindustan this diu repression is a small india there is no corner of hindustan which is not where people live here i was coming just now i was coming by car but on a small india on both sides i saw people of every state of india were standing with their clothes i went there among them while worshiping them on foot brothers because we have to move the country forward the love that is given is mood of hindustan this diu repression is a small india there is no corner of hindustan which is not where people live here i was coming just now i was coming by car but on a small india on both sides i saw people of every state of india were standing with their clothes i went there among them while worshiping them on foot brothers because we have to move the country forward the love that is given is mood of hindustan this diu repression is a small india there is no corner of hindustan which is not where people live here i was coming just now i was coming by car but on a small india on both sides i saw people of every state of india were standing with their clothes i went there among them while worshiping them on foot brothers because we have to move the country forwardthere will be many people who die and die for the brothers and sisters we are dedicated to fulfilling our dreams speak with me with full force while thanking you for your blessingslong live mother indialong live mother india long live mother india thanks a lot'"
      ]
     },
     "execution_count": 25,
     "metadata": {},
     "output_type": "execute_result"
    }
   ],
   "source": [
    "nm_df.no_punct[1]"
   ]
  },
  {
   "cell_type": "markdown",
   "metadata": {},
   "source": [
    "Adding speech column tokenized \n"
   ]
  },
  {
   "cell_type": "code",
   "execution_count": 26,
   "metadata": {},
   "outputs": [],
   "source": [
    "nm_df['Tokens'] = nm_df['no_punct'].apply(word_tokenize)"
   ]
  },
  {
   "cell_type": "code",
   "execution_count": 27,
   "metadata": {},
   "outputs": [
    {
     "data": {
      "text/html": [
       "<div>\n",
       "<style scoped>\n",
       "    .dataframe tbody tr th:only-of-type {\n",
       "        vertical-align: middle;\n",
       "    }\n",
       "\n",
       "    .dataframe tbody tr th {\n",
       "        vertical-align: top;\n",
       "    }\n",
       "\n",
       "    .dataframe thead th {\n",
       "        text-align: right;\n",
       "    }\n",
       "</style>\n",
       "<table border=\"1\" class=\"dataframe\">\n",
       "  <thead>\n",
       "    <tr style=\"text-align: right;\">\n",
       "      <th></th>\n",
       "      <th>Year</th>\n",
       "      <th>Month</th>\n",
       "      <th>Day</th>\n",
       "      <th>Title</th>\n",
       "      <th>Speech</th>\n",
       "      <th>Date</th>\n",
       "      <th>no_punct</th>\n",
       "      <th>Tokens</th>\n",
       "    </tr>\n",
       "  </thead>\n",
       "  <tbody>\n",
       "    <tr>\n",
       "      <th>0</th>\n",
       "      <td>2019</td>\n",
       "      <td>1</td>\n",
       "      <td>18</td>\n",
       "      <td>2019\\18_01_2019_PM’s address at the inaugurati...</td>\n",
       "      <td>﻿Honourable Ministers and Excellencies from va...</td>\n",
       "      <td>2019-01-18</td>\n",
       "      <td>﻿honourable ministers and excellencies from va...</td>\n",
       "      <td>[﻿honourable, ministers, and, excellencies, fr...</td>\n",
       "    </tr>\n",
       "    <tr>\n",
       "      <th>1</th>\n",
       "      <td>2019</td>\n",
       "      <td>1</td>\n",
       "      <td>19</td>\n",
       "      <td>2019\\19_01_2019_PM’s speech at foundation layi...</td>\n",
       "      <td>﻿My dear brothers and sisters \\nToday, as a Pr...</td>\n",
       "      <td>2019-01-19</td>\n",
       "      <td>﻿my dear brothers and sisters today as a prime...</td>\n",
       "      <td>[﻿my, dear, brothers, and, sisters, today, as,...</td>\n",
       "    </tr>\n",
       "    <tr>\n",
       "      <th>2</th>\n",
       "      <td>2019</td>\n",
       "      <td>1</td>\n",
       "      <td>19</td>\n",
       "      <td>2019\\19_01_2019_PM’s address at the inaugurati...</td>\n",
       "      <td>﻿All the charioteers, superheroes associated w...</td>\n",
       "      <td>2019-01-19</td>\n",
       "      <td>﻿all the charioteers superheroes associated wi...</td>\n",
       "      <td>[﻿all, the, charioteers, superheroes, associat...</td>\n",
       "    </tr>\n",
       "    <tr>\n",
       "      <th>3</th>\n",
       "      <td>2019</td>\n",
       "      <td>1</td>\n",
       "      <td>22</td>\n",
       "      <td>2019\\22_01_2019_PM's address at the 15th Prava...</td>\n",
       "      <td>﻿Mauritius Prime Minister Your Excellency, Pra...</td>\n",
       "      <td>2019-01-22</td>\n",
       "      <td>﻿mauritius prime minister your excellency prav...</td>\n",
       "      <td>[﻿mauritius, prime, minister, your, excellency...</td>\n",
       "    </tr>\n",
       "    <tr>\n",
       "      <th>4</th>\n",
       "      <td>2019</td>\n",
       "      <td>1</td>\n",
       "      <td>25</td>\n",
       "      <td>2019\\25_01_2019_PM’s Press Statement during st...</td>\n",
       "      <td>﻿Your Excellency, President Ramaphosa,\\nDistin...</td>\n",
       "      <td>2019-01-25</td>\n",
       "      <td>﻿your excellency president ramaphosadistinguis...</td>\n",
       "      <td>[﻿your, excellency, president, ramaphosadistin...</td>\n",
       "    </tr>\n",
       "  </tbody>\n",
       "</table>\n",
       "</div>"
      ],
      "text/plain": [
       "   Year  Month  Day                                              Title  \\\n",
       "0  2019      1   18  2019\\18_01_2019_PM’s address at the inaugurati...   \n",
       "1  2019      1   19  2019\\19_01_2019_PM’s speech at foundation layi...   \n",
       "2  2019      1   19  2019\\19_01_2019_PM’s address at the inaugurati...   \n",
       "3  2019      1   22  2019\\22_01_2019_PM's address at the 15th Prava...   \n",
       "4  2019      1   25  2019\\25_01_2019_PM’s Press Statement during st...   \n",
       "\n",
       "                                              Speech       Date  \\\n",
       "0  ﻿Honourable Ministers and Excellencies from va... 2019-01-18   \n",
       "1  ﻿My dear brothers and sisters \\nToday, as a Pr... 2019-01-19   \n",
       "2  ﻿All the charioteers, superheroes associated w... 2019-01-19   \n",
       "3  ﻿Mauritius Prime Minister Your Excellency, Pra... 2019-01-22   \n",
       "4  ﻿Your Excellency, President Ramaphosa,\\nDistin... 2019-01-25   \n",
       "\n",
       "                                            no_punct  \\\n",
       "0  ﻿honourable ministers and excellencies from va...   \n",
       "1  ﻿my dear brothers and sisters today as a prime...   \n",
       "2  ﻿all the charioteers superheroes associated wi...   \n",
       "3  ﻿mauritius prime minister your excellency prav...   \n",
       "4  ﻿your excellency president ramaphosadistinguis...   \n",
       "\n",
       "                                              Tokens  \n",
       "0  [﻿honourable, ministers, and, excellencies, fr...  \n",
       "1  [﻿my, dear, brothers, and, sisters, today, as,...  \n",
       "2  [﻿all, the, charioteers, superheroes, associat...  \n",
       "3  [﻿mauritius, prime, minister, your, excellency...  \n",
       "4  [﻿your, excellency, president, ramaphosadistin...  "
      ]
     },
     "execution_count": 27,
     "metadata": {},
     "output_type": "execute_result"
    }
   ],
   "source": [
    "nm_df.head()"
   ]
  },
  {
   "cell_type": "code",
   "execution_count": 28,
   "metadata": {},
   "outputs": [],
   "source": [
    "# stop words\n",
    "stopwords_eng = stopwords.words('english')"
   ]
  },
  {
   "cell_type": "code",
   "execution_count": 29,
   "metadata": {},
   "outputs": [],
   "source": [
    "# remove stop words in english\n",
    "def no_stopwords(tokens):\n",
    "    return [w for w in tokens if w not in stopwords_eng]"
   ]
  },
  {
   "cell_type": "code",
   "execution_count": 31,
   "metadata": {},
   "outputs": [],
   "source": [
    "# adding column with speech column tokenized\n",
    "\n",
    "nm_df['no_stopwords'] = nm_df['Tokens'].apply(no_stopwords)"
   ]
  },
  {
   "cell_type": "code",
   "execution_count": 32,
   "metadata": {},
   "outputs": [],
   "source": [
    "# adding column with nltk.Text object\n",
    "nm_df['nltk.Text'] = nm_df['no_stopwords'].apply(nltk.Text)"
   ]
  },
  {
   "cell_type": "code",
   "execution_count": 33,
   "metadata": {},
   "outputs": [
    {
     "data": {
      "text/html": [
       "<div>\n",
       "<style scoped>\n",
       "    .dataframe tbody tr th:only-of-type {\n",
       "        vertical-align: middle;\n",
       "    }\n",
       "\n",
       "    .dataframe tbody tr th {\n",
       "        vertical-align: top;\n",
       "    }\n",
       "\n",
       "    .dataframe thead th {\n",
       "        text-align: right;\n",
       "    }\n",
       "</style>\n",
       "<table border=\"1\" class=\"dataframe\">\n",
       "  <thead>\n",
       "    <tr style=\"text-align: right;\">\n",
       "      <th></th>\n",
       "      <th>Year</th>\n",
       "      <th>Month</th>\n",
       "      <th>Day</th>\n",
       "      <th>Title</th>\n",
       "      <th>Speech</th>\n",
       "      <th>Date</th>\n",
       "      <th>no_punct</th>\n",
       "      <th>Tokens</th>\n",
       "      <th>no_stopwords</th>\n",
       "      <th>nltk.Text</th>\n",
       "    </tr>\n",
       "  </thead>\n",
       "  <tbody>\n",
       "    <tr>\n",
       "      <th>0</th>\n",
       "      <td>2019</td>\n",
       "      <td>1</td>\n",
       "      <td>18</td>\n",
       "      <td>2019\\18_01_2019_PM’s address at the inaugurati...</td>\n",
       "      <td>﻿Honourable Ministers and Excellencies from va...</td>\n",
       "      <td>2019-01-18</td>\n",
       "      <td>﻿honourable ministers and excellencies from va...</td>\n",
       "      <td>[﻿honourable, ministers, and, excellencies, fr...</td>\n",
       "      <td>[﻿honourable, ministers, excellencies, various...</td>\n",
       "      <td>(﻿honourable, ministers, excellencies, various...</td>\n",
       "    </tr>\n",
       "    <tr>\n",
       "      <th>1</th>\n",
       "      <td>2019</td>\n",
       "      <td>1</td>\n",
       "      <td>19</td>\n",
       "      <td>2019\\19_01_2019_PM’s speech at foundation layi...</td>\n",
       "      <td>﻿My dear brothers and sisters \\nToday, as a Pr...</td>\n",
       "      <td>2019-01-19</td>\n",
       "      <td>﻿my dear brothers and sisters today as a prime...</td>\n",
       "      <td>[﻿my, dear, brothers, and, sisters, today, as,...</td>\n",
       "      <td>[﻿my, dear, brothers, sisters, today, prime, m...</td>\n",
       "      <td>(﻿my, dear, brothers, sisters, today, prime, m...</td>\n",
       "    </tr>\n",
       "    <tr>\n",
       "      <th>2</th>\n",
       "      <td>2019</td>\n",
       "      <td>1</td>\n",
       "      <td>19</td>\n",
       "      <td>2019\\19_01_2019_PM’s address at the inaugurati...</td>\n",
       "      <td>﻿All the charioteers, superheroes associated w...</td>\n",
       "      <td>2019-01-19</td>\n",
       "      <td>﻿all the charioteers superheroes associated wi...</td>\n",
       "      <td>[﻿all, the, charioteers, superheroes, associat...</td>\n",
       "      <td>[﻿all, charioteers, superheroes, associated, c...</td>\n",
       "      <td>(﻿all, charioteers, superheroes, associated, c...</td>\n",
       "    </tr>\n",
       "    <tr>\n",
       "      <th>3</th>\n",
       "      <td>2019</td>\n",
       "      <td>1</td>\n",
       "      <td>22</td>\n",
       "      <td>2019\\22_01_2019_PM's address at the 15th Prava...</td>\n",
       "      <td>﻿Mauritius Prime Minister Your Excellency, Pra...</td>\n",
       "      <td>2019-01-22</td>\n",
       "      <td>﻿mauritius prime minister your excellency prav...</td>\n",
       "      <td>[﻿mauritius, prime, minister, your, excellency...</td>\n",
       "      <td>[﻿mauritius, prime, minister, excellency, prav...</td>\n",
       "      <td>(﻿mauritius, prime, minister, excellency, prav...</td>\n",
       "    </tr>\n",
       "    <tr>\n",
       "      <th>4</th>\n",
       "      <td>2019</td>\n",
       "      <td>1</td>\n",
       "      <td>25</td>\n",
       "      <td>2019\\25_01_2019_PM’s Press Statement during st...</td>\n",
       "      <td>﻿Your Excellency, President Ramaphosa,\\nDistin...</td>\n",
       "      <td>2019-01-25</td>\n",
       "      <td>﻿your excellency president ramaphosadistinguis...</td>\n",
       "      <td>[﻿your, excellency, president, ramaphosadistin...</td>\n",
       "      <td>[﻿your, excellency, president, ramaphosadistin...</td>\n",
       "      <td>(﻿your, excellency, president, ramaphosadistin...</td>\n",
       "    </tr>\n",
       "  </tbody>\n",
       "</table>\n",
       "</div>"
      ],
      "text/plain": [
       "   Year  Month  Day                                              Title  \\\n",
       "0  2019      1   18  2019\\18_01_2019_PM’s address at the inaugurati...   \n",
       "1  2019      1   19  2019\\19_01_2019_PM’s speech at foundation layi...   \n",
       "2  2019      1   19  2019\\19_01_2019_PM’s address at the inaugurati...   \n",
       "3  2019      1   22  2019\\22_01_2019_PM's address at the 15th Prava...   \n",
       "4  2019      1   25  2019\\25_01_2019_PM’s Press Statement during st...   \n",
       "\n",
       "                                              Speech       Date  \\\n",
       "0  ﻿Honourable Ministers and Excellencies from va... 2019-01-18   \n",
       "1  ﻿My dear brothers and sisters \\nToday, as a Pr... 2019-01-19   \n",
       "2  ﻿All the charioteers, superheroes associated w... 2019-01-19   \n",
       "3  ﻿Mauritius Prime Minister Your Excellency, Pra... 2019-01-22   \n",
       "4  ﻿Your Excellency, President Ramaphosa,\\nDistin... 2019-01-25   \n",
       "\n",
       "                                            no_punct  \\\n",
       "0  ﻿honourable ministers and excellencies from va...   \n",
       "1  ﻿my dear brothers and sisters today as a prime...   \n",
       "2  ﻿all the charioteers superheroes associated wi...   \n",
       "3  ﻿mauritius prime minister your excellency prav...   \n",
       "4  ﻿your excellency president ramaphosadistinguis...   \n",
       "\n",
       "                                              Tokens  \\\n",
       "0  [﻿honourable, ministers, and, excellencies, fr...   \n",
       "1  [﻿my, dear, brothers, and, sisters, today, as,...   \n",
       "2  [﻿all, the, charioteers, superheroes, associat...   \n",
       "3  [﻿mauritius, prime, minister, your, excellency...   \n",
       "4  [﻿your, excellency, president, ramaphosadistin...   \n",
       "\n",
       "                                        no_stopwords  \\\n",
       "0  [﻿honourable, ministers, excellencies, various...   \n",
       "1  [﻿my, dear, brothers, sisters, today, prime, m...   \n",
       "2  [﻿all, charioteers, superheroes, associated, c...   \n",
       "3  [﻿mauritius, prime, minister, excellency, prav...   \n",
       "4  [﻿your, excellency, president, ramaphosadistin...   \n",
       "\n",
       "                                           nltk.Text  \n",
       "0  (﻿honourable, ministers, excellencies, various...  \n",
       "1  (﻿my, dear, brothers, sisters, today, prime, m...  \n",
       "2  (﻿all, charioteers, superheroes, associated, c...  \n",
       "3  (﻿mauritius, prime, minister, excellency, prav...  \n",
       "4  (﻿your, excellency, president, ramaphosadistin...  "
      ]
     },
     "execution_count": 33,
     "metadata": {},
     "output_type": "execute_result"
    }
   ],
   "source": [
    "nm_df.head()"
   ]
  },
  {
   "cell_type": "code",
   "execution_count": 34,
   "metadata": {},
   "outputs": [],
   "source": [
    "nm_df.to_pickle('speeches_nm_2019.pkl')"
   ]
  }
 ],
 "metadata": {
  "kernelspec": {
   "display_name": "Python 3",
   "language": "python",
   "name": "python3"
  },
  "language_info": {
   "codemirror_mode": {
    "name": "ipython",
    "version": 3
   },
   "file_extension": ".py",
   "mimetype": "text/x-python",
   "name": "python",
   "nbconvert_exporter": "python",
   "pygments_lexer": "ipython3",
   "version": "3.7.0"
  }
 },
 "nbformat": 4,
 "nbformat_minor": 2
}
